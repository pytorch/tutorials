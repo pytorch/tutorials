{
 "cells": [
  {
   "cell_type": "code",
   "execution_count": null,
   "metadata": {
    "collapsed": false
   },
   "outputs": [],
   "source": [
    "# For tips on running notebooks in Google Colab, see\n",
    "# https://docs.pytorch.org/tutorials/beginner/colab\n",
    "%matplotlib inline"
   ]
  },
  {
   "cell_type": "markdown",
   "metadata": {},
   "source": [
    "Learning Hybrid Frontend Syntax Through Example\n",
    "===============================================\n",
    "\n",
    "**Author:** [Nathan Inkawhich](https://github.com/inkawhich)\n",
    "\n",
    "This document is meant to highlight the syntax of the Hybrid Frontend\n",
    "through a non-code intensive example. The Hybrid Frontend is one of the\n",
    "new shiny features of Pytorch 1.0 and provides an avenue for developers\n",
    "to transition their models from **eager** to **graph** mode. PyTorch\n",
    "users are very familiar with eager mode as it provides the ease-of-use\n",
    "and flexibility that we all enjoy as researchers. Caffe2 users are more\n",
    "aquainted with graph mode which has the benefits of speed, optimization\n",
    "opportunities, and functionality in C++ runtime environments. The hybrid\n",
    "frontend bridges the gap between the the two modes by allowing\n",
    "researchers to develop and refine their models in eager mode (i.e.\n",
    "PyTorch), then gradually transition the proven model to graph mode for\n",
    "production, when speed and resouce consumption become critical.\n",
    "\n",
    "Hybrid Frontend Information\n",
    "---------------------------\n",
    "\n",
    "The process for transitioning a model to graph mode is as follows.\n",
    "First, the developer constructs, trains, and tests the model in eager\n",
    "mode. Then they incrementally **trace** and **script** each\n",
    "function/module of the model with the Just-In-Time (JIT) compiler, at\n",
    "each step verifying that the output is correct. Finally, when each of\n",
    "the components of the top-level model have been traced and scripted, the\n",
    "model itself is traced. At which point the model has been transitioned\n",
    "to graph mode, and has a complete python-free representation. With this\n",
    "representation, the model runtime can take advantage of high-performance\n",
    "Caffe2 operators and graph based optimizations.\n",
    "\n",
    "Before we continue, it is important to understand the idea of tracing\n",
    "and scripting, and why they are separate. The goal of **trace** and\n",
    "**script** is the same, and that is to create a graph representation of\n",
    "the operations taking place in a given function. The discrepency comes\n",
    "from the flexibility of eager mode that allows for **data-dependent\n",
    "control flows** within the model architecture. When a function does NOT\n",
    "have a data-dependent control flow, it may be *traced* with\n",
    "`torch.jit.trace`. However, when the function *has* a data-dependent\n",
    "control flow it must be *scripted* with `torch.jit.script`. We will\n",
    "leave the details of the interworkings of the hybrid frontend for\n",
    "another document, but the code example below will show the syntax of how\n",
    "to trace and script different pure python functions and torch Modules.\n",
    "Hopefully, you will find that using the hybrid frontend is non-intrusive\n",
    "as it mostly involves adding decorators to the existing function and\n",
    "class definitions.\n",
    "\n",
    "Motivating Example\n",
    "------------------\n",
    "\n",
    "In this example we will implement a strange math function that may be\n",
    "logically broken up into four parts that do, and do not contain\n",
    "data-dependent control flows. The purpose here is to show a non-code\n",
    "intensive example where the use of the JIT is highlighted. This example\n",
    "is a stand-in representation of a useful model, whose implementation has\n",
    "been divided into various pure python functions and modules.\n",
    "\n",
    "The function we seek to implement, $Y(x)$, is defined for\n",
    "$x \\epsilon \\mathbb{N}$ as\n",
    "\n",
    "$$z(x) = \\Biggl \\lfloor \\frac{\\sqrt{\\prod_{i=1}^{|2 x|}i}}{5} \\Biggr \\rfloor$$\n",
    "\n",
    "$$\\begin{aligned}\n",
    "Y(x) = \\begin{cases}\n",
    "  \\frac{z(x)}{2}  &  \\text{if } z(x)\\%2 == 0, \\\\\n",
    "  z(x)             &  \\text{otherwise}\n",
    "\\end{cases}\n",
    "\\end{aligned}$$\n",
    "\n",
    "$$\\begin{aligned}\n",
    "\\begin{array}{| r  | r |} \\hline\n",
    "x &1 &2 &3 &4 &5 &6 &7 \\\\ \\hline\n",
    "Y(x) &0 &0 &-5 &20 &190 &-4377 &-59051 \\\\ \\hline\n",
    "\\end{array}\n",
    "\\end{aligned}$$\n",
    "\n",
    "As mentioned, the computation is split into four parts. Part one is the\n",
    "simple tensor calculation of $|2x|$, which can be traced. Part two is\n",
    "the iterative product calculation that represents a data dependent\n",
    "control flow to be scripted (the number of loop iteration depends on the\n",
    "input at runtime). Part three is a trace-able\n",
    "$\\lfloor \\sqrt{a/5} \\rfloor$ calculation. Finally, part 4 handles the\n",
    "output cases depending on the value of $z(x)$ and must be scripted due\n",
    "to the data dependency. Now, let\\'s see how this looks in code.\n",
    "\n",
    "### Part 1 - Tracing a pure python function\n",
    "\n",
    "We can implement part one as a pure python function as below. Notice, to\n",
    "trace this function we call `torch.jit.trace` and pass in the function\n",
    "to be traced. Since the trace requires a dummy input of the expected\n",
    "runtime type and shape, we also include the `torch.rand` to generate a\n",
    "single valued torch tensor.\n"
   ]
  },
  {
   "cell_type": "code",
   "execution_count": null,
   "metadata": {
    "collapsed": false
   },
   "outputs": [],
   "source": [
    "import torch\n",
    "\n",
    "def fn(x):\n",
    "    return torch.abs(2*x)\n",
    "\n",
    "# This is how you define a traced function\n",
    "# Pass in both the function to be traced and an example input to ``torch.jit.trace``\n",
    "traced_fn = torch.jit.trace(fn, torch.rand(()))"
   ]
  },
  {
   "cell_type": "markdown",
   "metadata": {},
   "source": [
    "Part 2 - Scripting a pure python function\n",
    "=========================================\n",
    "\n",
    "We can also implement part 2 as a pure python function where we\n",
    "iteratively compute the product. Since the number of iterations depends\n",
    "on the value of the input, we have a data dependent control flow, so the\n",
    "function must be scripted. We can script python functions simply with\n",
    "the `@torch.jit.script` decorator.\n"
   ]
  },
  {
   "cell_type": "code",
   "execution_count": null,
   "metadata": {
    "collapsed": false
   },
   "outputs": [],
   "source": [
    "# This is how you define a script function\n",
    "# Apply this decorator directly to the function\n",
    "@torch.jit.script\n",
    "def script_fn(x):\n",
    "    z = torch.ones([1], dtype=torch.int64)\n",
    "    for i in range(int(x)):\n",
    "        z = z * (i + 1)\n",
    "    return z"
   ]
  },
  {
   "cell_type": "markdown",
   "metadata": {},
   "source": [
    "Part 3 - Tracing a nn.Module\n",
    "============================\n",
    "\n",
    "Next, we will implement part 3 of the computation within the forward\n",
    "function of a `torch.nn.Module`. This module may be traced, but rather\n",
    "than adding a decorator here, we will handle the tracing where the\n",
    "Module is constructed. Thus, the class definition is not changed at all.\n"
   ]
  },
  {
   "cell_type": "code",
   "execution_count": null,
   "metadata": {
    "collapsed": false
   },
   "outputs": [],
   "source": [
    "# This is a normal module that can be traced.\n",
    "class TracedModule(torch.nn.Module):\n",
    "    def forward(self, x):\n",
    "        x = x.type(torch.float32)\n",
    "        return torch.floor(torch.sqrt(x) / 5.)"
   ]
  },
  {
   "cell_type": "markdown",
   "metadata": {},
   "source": [
    "Part 4 - Scripting a nn.Module\n",
    "==============================\n",
    "\n",
    "In the final part of the computation we have a `torch.nn.Module` that\n",
    "must be scripted. To accomodate this, we inherit from\n",
    "`torch.jit.ScriptModule` and add the `@torch.jit.script_method`\n",
    "decorator to the forward function.\n"
   ]
  },
  {
   "cell_type": "code",
   "execution_count": null,
   "metadata": {
    "collapsed": false
   },
   "outputs": [],
   "source": [
    "# This is how you define a scripted module.\n",
    "# The module should inherit from ScriptModule and the forward should have the\n",
    "#   script_method decorator applied to it.\n",
    "class ScriptModule(torch.jit.ScriptModule):\n",
    "    @torch.jit.script_method\n",
    "    def forward(self, x):\n",
    "        r = -x\n",
    "        if int(torch.fmod(x, 2.0)) == 0.0:\n",
    "            r = x / 2.0\n",
    "        return r"
   ]
  },
  {
   "cell_type": "markdown",
   "metadata": {},
   "source": [
    "Top-Level Module\n",
    "================\n",
    "\n",
    "Now we will put together the pieces of the computation via a top level\n",
    "module called `Net`. In the constructor, we will instantiate the\n",
    "`TracedModule` and `ScriptModule` as attributes. This must be done\n",
    "because we ultimately want to trace/script the top level module, and\n",
    "having the traced/scripted modules as attributes allows the Net to\n",
    "inherit the required submodules\\' parameters. Notice, this is where we\n",
    "actually trace the `TracedModule` by calling `torch.jit.trace()` and\n",
    "providing the necessary dummy input. Also notice that the `ScriptModule`\n",
    "is constructed as normal because we handled the scripting in the class\n",
    "definition.\n",
    "\n",
    "Here we can also print the graphs created for each individual part of\n",
    "the computation. The printed graphs allows us to see how the JIT\n",
    "ultimately interpreted the functions as graph computations.\n",
    "\n",
    "Finally, we define the `forward` function for the Net module where we\n",
    "run the input data `x` through the four parts of the computation. There\n",
    "is no strange syntax here and we call the traced and scripted modules\n",
    "and functions as expected.\n"
   ]
  },
  {
   "cell_type": "code",
   "execution_count": null,
   "metadata": {
    "collapsed": false
   },
   "outputs": [],
   "source": [
    "# This is a demonstration net that calls all of the different types of\n",
    "# methods and functions\n",
    "class Net(torch.nn.Module):\n",
    "    def __init__(self):\n",
    "        super(Net, self).__init__()\n",
    "        # Modules must be attributes on the Module because if you want to trace\n",
    "        # or script this Module, we must be able to inherit the submodules'\n",
    "        # params.\n",
    "        self.traced_module = torch.jit.trace(TracedModule(), torch.rand(()))\n",
    "        self.script_module = ScriptModule()\n",
    "\n",
    "        print('traced_fn graph', traced_fn.graph)\n",
    "        print('script_fn graph', script_fn.graph)\n",
    "        print('TracedModule graph', self.traced_module.__getattr__('forward').graph)\n",
    "        print('ScriptModule graph', self.script_module.__getattr__('forward').graph)\n",
    "\n",
    "    def forward(self, x):\n",
    "        # Call a traced function\n",
    "        x = traced_fn(x)\n",
    "\n",
    "        # Call a script function\n",
    "        x = script_fn(x)\n",
    "\n",
    "        # Call a traced submodule\n",
    "        x = self.traced_module(x)\n",
    "\n",
    "        # Call a scripted submodule\n",
    "        x = self.script_module(x)\n",
    "\n",
    "        return x"
   ]
  },
  {
   "cell_type": "markdown",
   "metadata": {},
   "source": [
    "Running the Model\n",
    "=================\n",
    "\n",
    "All that\\'s left to do is construct the Net and compute the output\n",
    "through the forward function. Here, we use $x=5$ as the test input value\n",
    "and expect $Y(x)=190.$ Also, check out the graphs that were printed\n",
    "during the construction of the Net.\n"
   ]
  },
  {
   "cell_type": "code",
   "execution_count": null,
   "metadata": {
    "collapsed": false
   },
   "outputs": [],
   "source": [
    "# Instantiate this net and run it\n",
    "n = Net()\n",
    "print(n(torch.tensor([5]))) # 190."
   ]
  },
  {
   "cell_type": "markdown",
   "metadata": {},
   "source": [
    "Tracing the Top-Level Model\n",
    "===========================\n",
    "\n",
    "The last part of the example is to trace the top-level module, `Net`. As\n",
    "mentioned previously, since the traced/scripted modules are attributes\n",
    "of Net, we are able to trace `Net` as it inherits the parameters of the\n",
    "traced/scripted submodules. Note, the syntax for tracing Net is\n",
    "identical to the syntax for tracing `TracedModule`. Also, check out the\n",
    "graph that is created.\n"
   ]
  },
  {
   "cell_type": "code",
   "execution_count": null,
   "metadata": {
    "collapsed": false
   },
   "outputs": [],
   "source": [
    "n_traced = torch.jit.trace(n, torch.tensor([5]))\n",
    "print(n_traced(torch.tensor([5])))\n",
    "print('n_traced graph', n_traced.graph)"
   ]
  },
  {
   "cell_type": "markdown",
   "metadata": {},
   "source": [
    "Hopefully, this document can serve as an introduction to the hybrid\n",
    "frontend as well as a syntax reference guide for more experienced users.\n",
    "Also, there are a few things to keep in mind when using the hybrid\n",
    "frontend. There is a constraint that traced/scripted methods must be\n",
    "written in a restricted subset of python, as features like generators,\n",
    "defs, and Python data structures are not supported. As a workaround, the\n",
    "scripting model *is* designed to work with both traced and non-traced\n",
    "code which means you can call non-traced code from traced functions.\n",
    "However, such a model may not be exported to ONNX.\n"
   ]
  }
 ],
 "metadata": {
  "kernelspec": {
   "display_name": "Python 3",
   "language": "python",
   "name": "python3"
  },
  "language_info": {
   "codemirror_mode": {
    "name": "ipython",
    "version": 3
   },
   "file_extension": ".py",
   "mimetype": "text/x-python",
   "name": "python",
   "nbconvert_exporter": "python",
   "pygments_lexer": "ipython3",
   "version": "3.10.12"
  }
 },
 "nbformat": 4,
 "nbformat_minor": 0
}
