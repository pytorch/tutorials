{
 "cells": [
  {
   "cell_type": "code",
   "execution_count": null,
   "metadata": {
    "collapsed": false
   },
   "outputs": [],
   "source": [
    "# For tips on running notebooks in Google Colab, see\n",
    "# https://docs.pytorch.org/tutorials/beginner/colab\n",
    "%matplotlib inline"
   ]
  },
  {
   "cell_type": "markdown",
   "metadata": {},
   "source": [
    "PyTorch Benchmark\n",
    "=================\n",
    "\n",
    "This recipe provides a quick-start guide to using PyTorch `benchmark`\n",
    "module to measure and compare code performance.\n",
    "\n",
    "Introduction\n",
    "------------\n",
    "\n",
    "Benchmarking is an important step in writing code. It helps us validate\n",
    "that our code meets performance expectations, compare different\n",
    "approaches to solving the same problem and prevent performance\n",
    "regressions.\n",
    "\n",
    "There are many options when it comes to benchmarking PyTorch code\n",
    "including the Python builtin `timeit` module. However, benchmarking\n",
    "PyTorch code has many caveats that can be easily overlooked such as\n",
    "managing the number of threads and synchronizing CUDA devices. Moreover,\n",
    "generating Tensor inputs for benchmarking can be quite tedious.\n",
    "\n",
    "This recipe demonstrates how to use PyTorch `benchmark` module to avoid\n",
    "common mistakes while making it easier to compare performance of\n",
    "different code, generate input for benchmarking and more.\n",
    "\n",
    "Setup\n",
    "-----\n",
    "\n",
    "Before we begin, install `torch` if it isn't already available.\n",
    "\n",
    "    pip install torch\n"
   ]
  },
  {
   "cell_type": "markdown",
   "metadata": {},
   "source": [
    "Steps\n",
    "=====\n",
    "\n",
    "1.  Defining functions to benchmark\n",
    "2.  Benchmarking with `timeit.Timer`\n",
    "3.  Benchmarking with `torch.utils.benchmark.Timer`\n",
    "4.  Benchmarking with `Blocked Autorange`\n",
    "5.  Comparing benchmark results\n",
    "6.  Saving/Loading benchmark results\n",
    "7.  Generating inputs with `Fuzzed Parameters`\n",
    "8.  Collecting instruction counts with `Callgrind`\n",
    "\n",
    "1. Defining functions to benchmark\n",
    "----------------------------------\n",
    "\n",
    "As of the time of this writing,\n",
    "[torch.dot](https://pytorch.org/docs/stable/generated/torch.dot.html?highlight=dot#torch.dot)\n",
    "does not support batched mode, so we will compare two approaches to\n",
    "implementing it using existing `torch` operators: one approach uses a\n",
    "combination of `mul` and `sum` while the other reduces the problem to\n",
    "`bmm`.\n"
   ]
  },
  {
   "cell_type": "code",
   "execution_count": null,
   "metadata": {
    "collapsed": false
   },
   "outputs": [],
   "source": [
    "import torch\n",
    "\n",
    "\n",
    "def batched_dot_mul_sum(a, b):\n",
    "    '''Computes batched dot by multiplying and summing'''\n",
    "    return a.mul(b).sum(-1)\n",
    "\n",
    "\n",
    "def batched_dot_bmm(a, b):\n",
    "    '''Computes batched dot by reducing to ``bmm``'''\n",
    "    a = a.reshape(-1, 1, a.shape[-1])\n",
    "    b = b.reshape(-1, b.shape[-1], 1)\n",
    "    return torch.bmm(a, b).flatten(-3)\n",
    "\n",
    "\n",
    "# Input for benchmarking\n",
    "x = torch.randn(10000, 64)\n",
    "\n",
    "# Ensure that both functions compute the same output\n",
    "assert batched_dot_mul_sum(x, x).allclose(batched_dot_bmm(x, x))"
   ]
  },
  {
   "cell_type": "markdown",
   "metadata": {},
   "source": [
    "2. Benchmarking with `timeit.Timer`\n",
    "===================================\n",
    "\n",
    "First, let\\'s benchmark the code using Python\\'s builtin `timeit`\n",
    "module. We keep the benchmark code simple here so we can compare the\n",
    "defaults of `timeit` and `torch.utils.benchmark`.\n"
   ]
  },
  {
   "cell_type": "code",
   "execution_count": null,
   "metadata": {
    "collapsed": false
   },
   "outputs": [],
   "source": [
    "import timeit\n",
    "\n",
    "t0 = timeit.Timer(\n",
    "    stmt='batched_dot_mul_sum(x, x)', \n",
    "    setup='from __main__ import batched_dot_mul_sum',\n",
    "    globals={'x': x})\n",
    "\n",
    "t1 = timeit.Timer(\n",
    "    stmt='batched_dot_bmm(x, x)',\n",
    "    setup='from __main__ import batched_dot_bmm',\n",
    "    globals={'x': x})\n",
    "\n",
    "print(f'mul_sum(x, x):  {t0.timeit(100) / 100 * 1e6:>5.1f} us')\n",
    "print(f'bmm(x, x):      {t1.timeit(100) / 100 * 1e6:>5.1f} us')"
   ]
  },
  {
   "cell_type": "markdown",
   "metadata": {},
   "source": [
    "``` {.none}\n",
    "mul_sum(x, x):  111.6 us\n",
    "bmm(x, x):       70.0 us\n",
    "```\n"
   ]
  },
  {
   "cell_type": "markdown",
   "metadata": {},
   "source": [
    "3. Benchmarking with `torch.utils.benchmark.Timer`\n",
    "==================================================\n",
    "\n",
    "PyTorch `benchmark` module was designed to be familiar to those who have\n",
    "used the `timeit` module before. However, its defaults make it easier\n",
    "and safer to use for benchmarking PyTorch code. Let\\'s first compare the\n",
    "same basic API as above.\n"
   ]
  },
  {
   "cell_type": "code",
   "execution_count": null,
   "metadata": {
    "collapsed": false
   },
   "outputs": [],
   "source": [
    "import torch.utils.benchmark as benchmark\n",
    "\n",
    "t0 = benchmark.Timer(\n",
    "    stmt='batched_dot_mul_sum(x, x)', \n",
    "    setup='from __main__ import batched_dot_mul_sum',\n",
    "    globals={'x': x})\n",
    "\n",
    "t1 = benchmark.Timer(\n",
    "    stmt='batched_dot_bmm(x, x)',\n",
    "    setup='from __main__ import batched_dot_bmm',\n",
    "    globals={'x': x})\n",
    "\n",
    "print(t0.timeit(100))\n",
    "print(t1.timeit(100))"
   ]
  },
  {
   "cell_type": "markdown",
   "metadata": {},
   "source": [
    "``` {.none}\n",
    "<torch.utils.benchmark.utils.common.Measurement object at 0x7fb10400d0f0>\n",
    "batched_dot_mul_sum(x, x)\n",
    "setup: from __main__ import batched_dot_mul_sum\n",
    "  379.29 us\n",
    "  1 measurement, 100 runs , 1 thread\n",
    "<torch.utils.benchmark.utils.common.Measurement object at 0x7fb103d67048>\n",
    "batched_dot_bmm(x, x)\n",
    "setup: from __main__ import batched_dot_bmm\n",
    "  716.42 us\n",
    "  1 measurement, 100 runs , 1 thread\n",
    "```\n"
   ]
  },
  {
   "cell_type": "markdown",
   "metadata": {},
   "source": [
    "Even though the APIs are the same for the basic functionality, there are\n",
    "some important differences. `benchmark.Timer.timeit()` returns the time\n",
    "per run as opposed to the total runtime like `timeit.Timer.timeit()`\n",
    "does. PyTorch `benchmark` module also provides formatted string\n",
    "representations for printing the results.\n",
    "\n",
    "Another important difference, and the reason why the results diverge is\n",
    "that PyTorch benchmark module runs in a single thread by default. We can\n",
    "change the number of threads with the `num_threads` argument.\n",
    "\n",
    "`torch.utils.benchmark.Timer` takes several additional arguments\n",
    "including: `label`, `sub_label`, `description` and `env` which change\n",
    "the \\_\\_repr\\_\\_ of the measurement object returned and are used for\n",
    "grouping the results (more on this later).\n"
   ]
  },
  {
   "cell_type": "code",
   "execution_count": null,
   "metadata": {
    "collapsed": false
   },
   "outputs": [],
   "source": [
    "num_threads = torch.get_num_threads()\n",
    "print(f'Benchmarking on {num_threads} threads')\n",
    "\n",
    "t0 = benchmark.Timer(\n",
    "    stmt='batched_dot_mul_sum(x, x)', \n",
    "    setup='from __main__ import batched_dot_mul_sum',\n",
    "    globals={'x': x},\n",
    "    num_threads=num_threads,\n",
    "    label='Multithreaded batch dot',\n",
    "    sub_label='Implemented using mul and sum')\n",
    "\n",
    "t1 = benchmark.Timer(\n",
    "    stmt='batched_dot_bmm(x, x)',\n",
    "    setup='from __main__ import batched_dot_bmm',\n",
    "    globals={'x': x},\n",
    "    num_threads=num_threads,\n",
    "    label='Multithreaded batch dot',\n",
    "    sub_label='Implemented using bmm')\n",
    "\n",
    "print(t0.timeit(100))\n",
    "print(t1.timeit(100))"
   ]
  },
  {
   "cell_type": "markdown",
   "metadata": {},
   "source": [
    "``` {.none}\n",
    "Benchmarking on 40 threads\n",
    "<torch.utils.benchmark.utils.common.Measurement object at 0x7fb103d54080>\n",
    "Multithreaded batch dot: Implemented using mul and sum\n",
    "setup: from __main__ import batched_dot_mul_sum\n",
    "  118.47 us\n",
    "  1 measurement, 100 runs , 40 threads\n",
    "<torch.utils.benchmark.utils.common.Measurement object at 0x7fb16935d2e8>\n",
    "Multithreaded batch dot: Implemented using bmm\n",
    "setup: from __main__ import batched_dot_bmm\n",
    "  68.21 us\n",
    "  1 measurement, 100 runs , 40 threads\n",
    "```\n"
   ]
  },
  {
   "cell_type": "markdown",
   "metadata": {},
   "source": [
    "Running `benchmark` with all threads available gives similar results as\n",
    "the `timeit` module. More importantly, which version is faster depends\n",
    "on how many threads we run the code with. This is why it\\'s important to\n",
    "benchmark the code with thread settings that are representative of real\n",
    "use cases. Another important thing to remember is to synchronize CPU and\n",
    "CUDA when benchmarking on the GPU. Let\\'s run the above benchmarks again\n",
    "on a CUDA tensor and see what happens.\n"
   ]
  },
  {
   "cell_type": "code",
   "execution_count": null,
   "metadata": {
    "collapsed": false
   },
   "outputs": [],
   "source": [
    "x = torch.randn(10000, 1024, device='cuda')\n",
    "\n",
    "t0 = timeit.Timer(\n",
    "    stmt='batched_dot_mul_sum(x, x)', \n",
    "    setup='from __main__ import batched_dot_mul_sum',\n",
    "    globals={'x': x})\n",
    "\n",
    "t1 = timeit.Timer(\n",
    "    stmt='batched_dot_bmm(x, x)',\n",
    "    setup='from __main__ import batched_dot_bmm',\n",
    "    globals={'x': x})\n",
    "\n",
    "# Ran each twice to show difference before/after warm-up\n",
    "print(f'mul_sum(x, x):  {t0.timeit(100) / 100 * 1e6:>5.1f} us')\n",
    "print(f'mul_sum(x, x):  {t0.timeit(100) / 100 * 1e6:>5.1f} us')\n",
    "print(f'bmm(x, x):      {t1.timeit(100) / 100 * 1e6:>5.1f} us')\n",
    "print(f'bmm(x, x):      {t1.timeit(100) / 100 * 1e6:>5.1f} us')"
   ]
  },
  {
   "cell_type": "markdown",
   "metadata": {},
   "source": [
    "``` {.none}\n",
    "mul_sum(x, x):   27.6 us\n",
    "mul_sum(x, x):   25.3 us\n",
    "bmm(x, x):      2775.5 us\n",
    "bmm(x, x):       22.4 us\n",
    "```\n"
   ]
  },
  {
   "cell_type": "code",
   "execution_count": null,
   "metadata": {
    "collapsed": false
   },
   "outputs": [],
   "source": [
    "t0 = benchmark.Timer(\n",
    "    stmt='batched_dot_mul_sum(x, x)', \n",
    "    setup='from __main__ import batched_dot_mul_sum',\n",
    "    globals={'x': x})\n",
    "\n",
    "t1 = benchmark.Timer(\n",
    "    stmt='batched_dot_bmm(x, x)',\n",
    "    setup='from __main__ import batched_dot_bmm',\n",
    "    globals={'x': x})\n",
    "\n",
    "# Run only once since benchmark module does warm-up for us\n",
    "print(t0.timeit(100))\n",
    "print(t1.timeit(100))"
   ]
  },
  {
   "cell_type": "markdown",
   "metadata": {},
   "source": [
    "``` {.none}\n",
    "<torch.utils.benchmark.utils.common.Measurement object at 0x7fb10400d080>\n",
    "batched_dot_mul_sum(x, x)\n",
    "setup: from __main__ import batched_dot_mul_sum\n",
    "  232.93 us\n",
    "  1 measurement, 100 runs , 1 thread\n",
    "<torch.utils.benchmark.utils.common.Measurement object at 0x7fb10400d0f0>\n",
    "batched_dot_bmm(x, x)\n",
    "setup: from __main__ import batched_dot_bmm\n",
    "  181.04 us\n",
    "  1 measurement, 100 runs , 1 thread\n",
    "```\n"
   ]
  },
  {
   "cell_type": "markdown",
   "metadata": {},
   "source": [
    "The results reveal something interesting. The first run of the `bmm`\n",
    "version using the `timeit` module takes much longer than the second run.\n",
    "This is because `bmm` calls into [cuBLAS]{.title-ref} which needs to be\n",
    "loaded the first time it\\'s called which takes some time. This is why\n",
    "it\\'s important to do a warm-up run before benchmarking, luckily for us,\n",
    "PyTorch\\'s `benchmark` module takes care of that.\n",
    "\n",
    "The difference in the results between `timeit` and `benchmark` modules\n",
    "is because the [timeit]{.title-ref} module is not synchronizing CUDA and\n",
    "is thus only timing the time to launch the kernel. PyTorch\\'s\n",
    "`benchmark` module does the synchronization for us.\n"
   ]
  },
  {
   "cell_type": "markdown",
   "metadata": {},
   "source": [
    "4. Benchmarking with [Blocked Autorange]{.title-ref}\n",
    "====================================================\n",
    "\n",
    "While `timeit.Timer.autorange` takes a single continuous measurement of\n",
    "at least 0.2 seconds,\n",
    "[torch.utils.benchmark.blocked\\_autorange]{.title-ref} takes many\n",
    "measurements whose times total at least 0.2 seconds (which can be\n",
    "changed by the [min\\_run\\_time]{.title-ref} parameter) subject to the\n",
    "constraint that timing overhead is a small fraction of the overall\n",
    "measurement. This is accomplished by first running with an increasing\n",
    "number of runs per loop until the runtime is much larger than\n",
    "measurement overhead (which also serves as a warm up), and then taking\n",
    "measurements until the target time is reached. This has the useful\n",
    "properties that it wastes less data and allows us to compute statistics\n",
    "to estimate the reliability of the measurements.\n"
   ]
  },
  {
   "cell_type": "code",
   "execution_count": null,
   "metadata": {
    "collapsed": false
   },
   "outputs": [],
   "source": [
    "m0 = t0.blocked_autorange()\n",
    "m1 = t1.blocked_autorange()\n",
    "\n",
    "print(m0)\n",
    "print(m1)"
   ]
  },
  {
   "cell_type": "markdown",
   "metadata": {},
   "source": [
    "``` {.none}\n",
    "<torch.utils.benchmark.utils.common.Measurement object at 0x7fb10400d0f0>\n",
    "batched_dot_mul_sum(x, x)\n",
    "setup: from __main__ import batched_dot_mul_sum\n",
    "  231.79 us\n",
    "  1 measurement, 1000 runs , 1 thread\n",
    "<torch.utils.benchmark.utils.common.Measurement object at 0x7fb10400d080>\n",
    "batched_dot_bmm(x, x)\n",
    "setup: from __main__ import batched_dot_bmm\n",
    "  Median: 162.08 us\n",
    "  2 measurements, 1000 runs per measurement, 1 thread\n",
    "```\n"
   ]
  },
  {
   "cell_type": "markdown",
   "metadata": {},
   "source": [
    "We can also inspect the individual statistics from the returned\n",
    "measurements object.\n"
   ]
  },
  {
   "cell_type": "code",
   "execution_count": null,
   "metadata": {
    "collapsed": false
   },
   "outputs": [],
   "source": [
    "print(f\"Mean:   {m0.mean * 1e6:6.2f} us\")\n",
    "print(f\"Median: {m0.median * 1e6:6.2f} us\")"
   ]
  },
  {
   "cell_type": "markdown",
   "metadata": {},
   "source": [
    "``` {.none}\n",
    "Mean:   231.79 us\n",
    "Median: 231.79 us\n",
    "```\n"
   ]
  },
  {
   "cell_type": "markdown",
   "metadata": {},
   "source": [
    "5. Comparing benchmark results\n",
    "==============================\n",
    "\n",
    "So far we\\'ve been comparing our two versions of batched dot against a\n",
    "single input. In practice, we want to try a combination of inputs as\n",
    "well as different number of threads. The `Compare` class helps display\n",
    "the results of many measurements in a formatted table. It uses the\n",
    "annotations described above ([label]{.title-ref},\n",
    "[sub\\_label]{.title-ref}, [num\\_threads]{.title-ref}, etc.) as well as\n",
    "[description]{.title-ref} to group and organize the table. Let\\'s use\n",
    "`Compare` to see how our functions perform for different input sizes and\n",
    "number of threads.\n"
   ]
  },
  {
   "cell_type": "code",
   "execution_count": null,
   "metadata": {
    "collapsed": false
   },
   "outputs": [],
   "source": [
    "from itertools import product\n",
    "\n",
    "# Compare takes a list of measurements which we'll save in results.\n",
    "results = []\n",
    "\n",
    "sizes = [1, 64, 1024, 10000]\n",
    "for b, n in product(sizes, sizes):\n",
    "    # label and sub_label are the rows\n",
    "    # description is the column\n",
    "    label = 'Batched dot'\n",
    "    sub_label = f'[{b}, {n}]'\n",
    "    x = torch.ones((b, n))\n",
    "    for num_threads in [1, 4, 16, 32]:\n",
    "        results.append(benchmark.Timer(\n",
    "            stmt='batched_dot_mul_sum(x, x)',\n",
    "            setup='from __main__ import batched_dot_mul_sum',\n",
    "            globals={'x': x},\n",
    "            num_threads=num_threads,\n",
    "            label=label,\n",
    "            sub_label=sub_label,\n",
    "            description='mul/sum',\n",
    "        ).blocked_autorange(min_run_time=1))\n",
    "        results.append(benchmark.Timer(\n",
    "            stmt='batched_dot_bmm(x, x)',\n",
    "            setup='from __main__ import batched_dot_bmm',\n",
    "            globals={'x': x},\n",
    "            num_threads=num_threads,\n",
    "            label=label,\n",
    "            sub_label=sub_label,\n",
    "            description='bmm',\n",
    "        ).blocked_autorange(min_run_time=1))\n",
    "\n",
    "compare = benchmark.Compare(results)\n",
    "compare.print()"
   ]
  },
  {
   "cell_type": "markdown",
   "metadata": {},
   "source": [
    "``` {.none}\n",
    "[--------------- Batched dot ----------------]\n",
    "                      |  mul/sum   |    bmm   \n",
    "1 threads: -----------------------------------\n",
    "      [1, 1]          |       5.9  |      11.2\n",
    "      [1, 64]         |       6.4  |      11.4\n",
    "      [1, 1024]       |       6.7  |      14.2\n",
    "      [1, 10000]      |      10.2  |      23.7\n",
    "      [64, 1]         |       6.3  |      11.5\n",
    "      [64, 64]        |       8.6  |      15.4\n",
    "      [64, 1024]      |      39.4  |     204.4\n",
    "      [64, 10000]     |     274.9  |     748.5\n",
    "      [1024, 1]       |       7.7  |      17.8\n",
    "      [1024, 64]      |      40.3  |      76.4\n",
    "      [1024, 1024]    |     432.4  |    2795.9\n",
    "      [1024, 10000]   |   22657.3  |   11899.5\n",
    "      [10000, 1]      |      16.9  |      74.8\n",
    "      [10000, 64]     |     300.3  |     609.4\n",
    "      [10000, 1024]   |   23098.6  |   27246.1\n",
    "      [10000, 10000]  |  267073.7  |  118823.7\n",
    "4 threads: -----------------------------------\n",
    "      [1, 1]          |       6.0  |      11.5\n",
    "      [1, 64]         |       6.2  |      11.2\n",
    "      [1, 1024]       |       6.8  |      14.3\n",
    "      [1, 10000]      |      10.2  |      23.7\n",
    "      [64, 1]         |       6.3  |      16.2\n",
    "      [64, 64]        |       8.8  |      18.2\n",
    "      [64, 1024]      |      41.5  |     189.1\n",
    "      [64, 10000]     |      91.7  |     849.1\n",
    "      [1024, 1]       |       7.6  |      17.4\n",
    "      [1024, 64]      |      43.5  |      33.5\n",
    "      [1024, 1024]    |     135.4  |    2782.3\n",
    "      [1024, 10000]   |    7471.1  |   11874.0\n",
    "      [10000, 1]      |      16.8  |      33.9\n",
    "      [10000, 64]     |     118.7  |     173.2\n",
    "      [10000, 1024]   |    7264.6  |   27824.7\n",
    "      [10000, 10000]  |  100060.9  |  121499.0\n",
    "16 threads: ----------------------------------\n",
    "      [1, 1]          |       6.0  |      11.3\n",
    "      [1, 64]         |       6.2  |      11.2\n",
    "      [1, 1024]       |       6.9  |      14.2\n",
    "      [1, 10000]      |      10.3  |      23.8\n",
    "      [64, 1]         |       6.4  |      24.1\n",
    "      [64, 64]        |       9.0  |      23.8\n",
    "      [64, 1024]      |      54.1  |     188.5\n",
    "      [64, 10000]     |      49.9  |     748.0\n",
    "      [1024, 1]       |       7.6  |      23.4\n",
    "      [1024, 64]      |      55.5  |      28.2\n",
    "      [1024, 1024]    |      66.9  |    2773.9\n",
    "      [1024, 10000]   |    6111.5  |   12833.7\n",
    "      [10000, 1]      |      16.9  |      27.5\n",
    "      [10000, 64]     |      59.5  |      73.7\n",
    "      [10000, 1024]   |    6295.9  |   27062.0\n",
    "      [10000, 10000]  |   71804.5  |  120365.8\n",
    "32 threads: ----------------------------------\n",
    "      [1, 1]          |       5.9  |      11.3\n",
    "      [1, 64]         |       6.2  |      11.3\n",
    "      [1, 1024]       |       6.7  |      14.2\n",
    "      [1, 10000]      |      10.5  |      23.8\n",
    "      [64, 1]         |       6.3  |      31.7\n",
    "      [64, 64]        |       9.1  |      30.4\n",
    "      [64, 1024]      |      72.0  |     190.4\n",
    "      [64, 10000]     |     103.1  |     746.9\n",
    "      [1024, 1]       |       7.6  |      28.4\n",
    "      [1024, 64]      |      70.5  |      31.9\n",
    "      [1024, 1024]    |      65.6  |    2804.6\n",
    "      [1024, 10000]   |    6764.0  |   11871.4\n",
    "      [10000, 1]      |      17.8  |      31.8\n",
    "      [10000, 64]     |     110.3  |      56.0\n",
    "      [10000, 1024]   |    6640.2  |   27592.2\n",
    "      [10000, 10000]  |   73003.4  |  120083.2\n",
    "\n",
    "Times are in microseconds (us).\n",
    "```\n"
   ]
  },
  {
   "cell_type": "markdown",
   "metadata": {},
   "source": [
    "The results above indicate that the version which reduces to `bmm` is\n",
    "better for larger tensors running on multiple threads, while for smaller\n",
    "and/or single thread code, the other version is better.\n",
    "\n",
    "`Compare` also provides functions for changing the table format\n"
   ]
  },
  {
   "cell_type": "code",
   "execution_count": null,
   "metadata": {
    "collapsed": false
   },
   "outputs": [],
   "source": [
    "compare.trim_significant_figures()\n",
    "compare.colorize()\n",
    "compare.print()"
   ]
  },
  {
   "cell_type": "markdown",
   "metadata": {},
   "source": [
    "6. Saving/Loading benchmark results\n",
    "===================================\n",
    "\n",
    "[Measurements]{.title-ref} (and `CallgrindStats` which are described in\n",
    "section 8) can be serialized by the `pickle` module. This makes A/B\n",
    "testing easy, as you can collect measurements from two separate\n",
    "environments, pickle them, and then load both in a single environment.\n",
    "Timer even takes an [env]{.title-ref} constructor argument so that such\n",
    "A/B testing works seamlessly.\n",
    "\n",
    "Let\\'s imagine that rather than two Python functions, the add/sum and\n",
    "`bmm` approaches were in two different builds of PyTorch. The example\n",
    "below demonstrates how one might A/B test them. For simplicity, we only\n",
    "use a subset of shapes, and simply round trip results through pickle\n",
    "rather than actually using multiple environments and writing results to\n",
    "disk.\n"
   ]
  },
  {
   "cell_type": "code",
   "execution_count": null,
   "metadata": {
    "collapsed": false
   },
   "outputs": [],
   "source": [
    "import pickle\n",
    "\n",
    "ab_test_results = []\n",
    "for env in ('environment A: mul/sum', 'environment B: bmm'):\n",
    "    for b, n in ((1, 1), (1024, 10000), (10000, 1)):\n",
    "        x = torch.ones((b, n))\n",
    "        dot_fn = (batched_dot_mul_sum if env == 'environment A: mul/sum' else batched_dot_bmm)\n",
    "        m = benchmark.Timer(\n",
    "            stmt='batched_dot(x, x)',\n",
    "            globals={'x': x, 'batched_dot': dot_fn},\n",
    "            num_threads=1,\n",
    "            label='Batched dot',\n",
    "            description=f'[{b}, {n}]',\n",
    "            env=env,\n",
    "        ).blocked_autorange(min_run_time=1)\n",
    "        ab_test_results.append(pickle.dumps(m))\n",
    "\n",
    "ab_results = [pickle.loads(i) for i in ab_test_results]\n",
    "compare = benchmark.Compare(ab_results)\n",
    "compare.trim_significant_figures()\n",
    "compare.colorize()\n",
    "compare.print()"
   ]
  },
  {
   "cell_type": "markdown",
   "metadata": {},
   "source": [
    "``` {.none}\n",
    "[------------------------------------- Batched dot -------------------------------------]\n",
    "                                               |  [1, 1]  |  [1024, 10000]  |  [10000, 1]\n",
    "1 threads: ------------------------------------------------------------------------------\n",
    "  (environment A: mul/sum)  batched_dot(x, x)  |     7    |      36000      |      21\n",
    "  (environment B: bmm)      batched_dot(x, x)  |    14    |      40000      |      85\n",
    "\n",
    "Times are in microseconds (us).\n",
    "```\n"
   ]
  },
  {
   "cell_type": "code",
   "execution_count": null,
   "metadata": {
    "collapsed": false
   },
   "outputs": [],
   "source": [
    "# And just to show that we can round trip all of the results from earlier:\n",
    "round_tripped_results = pickle.loads(pickle.dumps(results))\n",
    "assert(str(benchmark.Compare(results)) == str(benchmark.Compare(round_tripped_results)))"
   ]
  },
  {
   "cell_type": "markdown",
   "metadata": {},
   "source": [
    "7. Generating inputs with [Fuzzed Parameters]{.title-ref}\n",
    "=========================================================\n",
    "\n",
    "As we\\'ve seen in the previous section, there can be some stark\n",
    "performance differences depending on the input tensors. Hence, it is a\n",
    "good idea to run benchmarks on a number of different inputs. However,\n",
    "creating all these input tensors can be tedious which is where\n",
    "`torch.utils.benchmark.Fuzzer` and related classes come in. Let\\'s take\n",
    "a look at how we can use the `Fuzzer` to create some test cases for the\n",
    "benchmark.\n"
   ]
  },
  {
   "cell_type": "code",
   "execution_count": null,
   "metadata": {
    "collapsed": false
   },
   "outputs": [],
   "source": [
    "from torch.utils.benchmark import Fuzzer, FuzzedParameter, FuzzedTensor, ParameterAlias\n",
    "\n",
    "# Generates random tensors with 128 to 10000000 elements and sizes k0 and k1 chosen from a\n",
    "# ``loguniform`` distribution in [1, 10000], 40% of which will be discontiguous on average.\n",
    "example_fuzzer = Fuzzer(\n",
    "    parameters = [\n",
    "        FuzzedParameter('k0', minval=1, maxval=10000, distribution='loguniform'),\n",
    "        FuzzedParameter('k1', minval=1, maxval=10000, distribution='loguniform'),\n",
    "    ],\n",
    "    tensors = [\n",
    "        FuzzedTensor('x', size=('k0', 'k1'), min_elements=128, max_elements=10000000, probability_contiguous=0.6)\n",
    "    ],\n",
    "    seed=0,\n",
    ")\n",
    "\n",
    "results = []\n",
    "for tensors, tensor_params, params in example_fuzzer.take(10):\n",
    "    # description is the column label\n",
    "    sub_label=f\"{params['k0']:<6} x {params['k1']:<4} {'' if tensor_params['x']['is_contiguous'] else '(discontiguous)'}\"\n",
    "    results.append(benchmark.Timer(\n",
    "        stmt='batched_dot_mul_sum(x, x)',\n",
    "        setup='from __main__ import batched_dot_mul_sum',\n",
    "        globals=tensors,\n",
    "        label='Batched dot',\n",
    "        sub_label=sub_label,\n",
    "        description='mul/sum',\n",
    "    ).blocked_autorange(min_run_time=1))\n",
    "    results.append(benchmark.Timer(\n",
    "        stmt='batched_dot_bmm(x, x)',\n",
    "        setup='from __main__ import batched_dot_bmm',\n",
    "        globals=tensors,\n",
    "        label='Batched dot',\n",
    "        sub_label=sub_label,\n",
    "        description='bmm',\n",
    "    ).blocked_autorange(min_run_time=1))\n",
    "\n",
    "compare = benchmark.Compare(results)\n",
    "compare.trim_significant_figures()\n",
    "compare.print()"
   ]
  },
  {
   "cell_type": "markdown",
   "metadata": {},
   "source": [
    "``` {.none}\n",
    "[--------------------- Batched dot ---------------------]\n",
    "                                     |  mul/sum  |   bmm \n",
    "1 threads: ----------------------------------------------\n",
    "      725    x 257                   |      87   |    180\n",
    "      49     x 383                   |      15   |     30\n",
    "      34     x 1468                  |      30   |    118\n",
    "      187    x 5039                  |     400   |   1200\n",
    "      2140   x 1296 (discontiguous)  |    2000   |  41000\n",
    "      78     x 1598                  |      74   |    310\n",
    "      519    x 763                   |     190   |   1500\n",
    "      141    x 1082                  |      87   |    500\n",
    "      78     x 5    (discontiguous)  |       9   |     20\n",
    "      187    x 1                     |      12   |     10\n",
    "\n",
    "Times are in microseconds (us). \n",
    "```\n"
   ]
  },
  {
   "cell_type": "markdown",
   "metadata": {},
   "source": [
    "There is a lot of flexibility for defining your own `fuzzers` which is\n",
    "great for creating a powerful set of inputs to benchmark. But to make\n",
    "things even simpler, PyTorch benchmark module comes with some built-in\n",
    "`fuzzers` for common benchmarking needs. Let\\'s take a look at how we\n",
    "can use one of these built-in `fuzzers`.\n"
   ]
  },
  {
   "cell_type": "code",
   "execution_count": null,
   "metadata": {
    "collapsed": false
   },
   "outputs": [],
   "source": [
    "from torch.utils.benchmark.op_fuzzers import binary\n",
    "\n",
    "results = []\n",
    "for tensors, tensor_params, params in binary.BinaryOpFuzzer(seed=0).take(10):\n",
    "    sub_label=f\"{params['k0']:<6} x {params['k1']:<4} {'' if tensor_params['x']['is_contiguous'] else '(discontiguous)'}\"\n",
    "    results.append(benchmark.Timer(\n",
    "        stmt='batched_dot_mul_sum(x, x)',\n",
    "        setup='from __main__ import batched_dot_mul_sum',\n",
    "        globals=tensors,\n",
    "        label='Batched dot',\n",
    "        sub_label=sub_label,\n",
    "        description='mul/sum',\n",
    "    ).blocked_autorange(min_run_time=1))\n",
    "    results.append(benchmark.Timer(\n",
    "        stmt='batched_dot_bmm(x, x)',\n",
    "        setup='from __main__ import batched_dot_bmm',\n",
    "        globals=tensors,\n",
    "        label='Batched dot',\n",
    "        sub_label=sub_label,\n",
    "        description='bmm',\n",
    "    ).blocked_autorange(min_run_time=1))\n",
    "\n",
    "compare = benchmark.Compare(results)\n",
    "compare.trim_significant_figures()\n",
    "compare.colorize(rowwise=True)\n",
    "compare.print()"
   ]
  },
  {
   "cell_type": "markdown",
   "metadata": {},
   "source": [
    "``` {.none}\n",
    "[----------------------- Batched dot ------------------------]\n",
    "                                         |  mul/sum  |   bmm  \n",
    "1 threads: ---------------------------------------------------\n",
    "      64     x 473  (discontiguous)      |    10000  |   40000\n",
    "      16384  x 12642115 (discontiguous)  |       31  |      78\n",
    "      8192   x 892                       |     4800  |   20400\n",
    "      512    x 64   (discontiguous)      |   110000  |  400000\n",
    "      493    x 27   (discontiguous)      |     1100  |    2440\n",
    "      118    x 32   (discontiguous)      |      870  |    2030\n",
    "      16     x 495  (discontiguous)      |    23600  |   24000\n",
    "      488    x 62374                     |    90000  |  100000\n",
    "      240372 x 69                        |    40000  |   16000\n",
    "      40156  x 32   (discontiguous)      |     2670  |    5000\n",
    "\n",
    "Times are in microseconds (us).\n",
    "```\n"
   ]
  },
  {
   "cell_type": "markdown",
   "metadata": {},
   "source": [
    "8. Collecting instruction counts with `Callgrind`\n",
    "=================================================\n",
    "\n",
    "One of the challenges of optimizing code is the variation and opacity of\n",
    "wall time. There are many sources of non-determinism, from adaptive\n",
    "clock speeds to resource contention with other processes. Furthermore,\n",
    "end-to-end time gives no insight into where time is being spent, which\n",
    "is really what we\\'re interested in when optimizing code.\n",
    "\n",
    "A complementary approach is to also collect instruction counts. These\n",
    "counts are a proxy metric and do not capture all aspects of performance\n",
    "(e.g. memory or I/O bound tasks), however they do have several useful\n",
    "properties. Instruction counts are reproducible, insensitive to\n",
    "environmental variation, and offer fine grained insight into where a\n",
    "program is spending cycles.\n",
    "\n",
    "To see the utility of instruction counts, let us look at how we might\n",
    "reduce the overhead of [batched\\_dot\\_mul\\_sum]{.title-ref}. The obvious\n",
    "solution is to move it to C++, so we avoid going between Python and C++\n",
    "multiple times.\n",
    "\n",
    "Fortunately, the source is nearly identical. One question that we have\n",
    "to ask in C++ is whether we should take arguments by value or reference.\n"
   ]
  },
  {
   "cell_type": "code",
   "execution_count": null,
   "metadata": {
    "collapsed": false
   },
   "outputs": [],
   "source": [
    "batched_dot_src = \"\"\"\\\n",
    "/* ---- Python ---- */\n",
    "// def batched_dot_mul_sum(a, b):\n",
    "//     return a.mul(b).sum(-1)\n",
    "\n",
    "torch::Tensor batched_dot_mul_sum_v0(\n",
    "    const torch::Tensor a,\n",
    "    const torch::Tensor b) {\n",
    "  return a.mul(b).sum(-1);\n",
    "}\n",
    "\n",
    "torch::Tensor batched_dot_mul_sum_v1(\n",
    "    const torch::Tensor& a,\n",
    "    const torch::Tensor& b) {\n",
    "  return a.mul(b).sum(-1);\n",
    "}\n",
    "\"\"\"\n",
    "\n",
    "\n",
    "# PyTorch makes it easy to test our C++ implementations by providing a utility\n",
    "# to JIT compile C++ source into Python extensions:\n",
    "import os\n",
    "from torch.utils import cpp_extension\n",
    "cpp_lib = cpp_extension.load_inline(\n",
    "    name='cpp_lib',\n",
    "    cpp_sources=batched_dot_src,\n",
    "    extra_cflags=['-O3'],\n",
    "    extra_include_paths=[\n",
    "        # `load_inline` needs to know where to find ``pybind11`` headers.\n",
    "        os.path.join(os.getenv('CONDA_PREFIX'), 'include')\n",
    "    ],\n",
    "    functions=['batched_dot_mul_sum_v0', 'batched_dot_mul_sum_v1']\n",
    ")\n",
    "\n",
    "# `load_inline` will create a shared object that is loaded into Python. When we collect\n",
    "# instruction counts Timer will create a subprocess, so we need to re-import it. The\n",
    "# import process is slightly more complicated for C extensions, but that's all we're\n",
    "# doing here.\n",
    "module_import_str = f\"\"\"\\\n",
    "# https://stackoverflow.com/questions/67631/how-to-import-a-module-given-the-full-path\n",
    "import importlib.util\n",
    "spec = importlib.util.spec_from_file_location(\"cpp_lib\", {repr(cpp_lib.__file__)})\n",
    "cpp_lib = importlib.util.module_from_spec(spec)\n",
    "spec.loader.exec_module(cpp_lib)\"\"\"\n",
    "\n",
    "import textwrap\n",
    "def pretty_print(result):\n",
    "    \"\"\"Import machinery for ``cpp_lib.so`` can get repetitive to look at.\"\"\"\n",
    "    print(repr(result).replace(textwrap.indent(module_import_str, \"  \"), \"  import cpp_lib\"))\n",
    "\n",
    "\n",
    "t_baseline = benchmark.Timer(\n",
    "    stmt='batched_dot_mul_sum(x, x)',\n",
    "    setup='''\\\n",
    "from __main__ import batched_dot_mul_sum\n",
    "x = torch.randn(2, 2)''')\n",
    "\n",
    "t0 = benchmark.Timer(\n",
    "    stmt='cpp_lib.batched_dot_mul_sum_v0(x, x)',\n",
    "    setup=f'''\\\n",
    "{module_import_str}\n",
    "x = torch.randn(2, 2)''')\n",
    "\n",
    "t1 = benchmark.Timer(\n",
    "    stmt='cpp_lib.batched_dot_mul_sum_v1(x, x)',\n",
    "    setup=f'''\\\n",
    "{module_import_str}\n",
    "x = torch.randn(2, 2)''')\n",
    "\n",
    "# Moving to C++ did indeed reduce overhead, but it's hard to tell which\n",
    "# calling convention is more efficient. v1 (call with references) seems to\n",
    "# be a bit faster, but it's within measurement error.\n",
    "pretty_print(t_baseline.blocked_autorange())\n",
    "pretty_print(t0.blocked_autorange())\n",
    "pretty_print(t1.blocked_autorange())"
   ]
  },
  {
   "cell_type": "markdown",
   "metadata": {},
   "source": [
    "``` {.none}\n",
    "<torch.utils.benchmark.utils.common.Measurement object at 0x7fb16935d2e8>\n",
    "batched_dot_mul_sum(x, x)\n",
    "setup:\n",
    "  from __main__ import batched_dot_mul_sum\n",
    "  x = torch.randn(2, 2)\n",
    "\n",
    "  6.92 us\n",
    "  1 measurement, 100000 runs , 1 thread\n",
    "<torch.utils.benchmark.utils.common.Measurement object at 0x7fb16935d2e8>\n",
    "cpp_lib.batched_dot_mul_sum_v0(x, x)\n",
    "setup:\n",
    "  import cpp_lib\n",
    "  x = torch.randn(2, 2)\n",
    "\n",
    "  5.29 us\n",
    "  1 measurement, 100000 runs , 1 thread\n",
    "<torch.utils.benchmark.utils.common.Measurement object at 0x7fb16935d2e8>\n",
    "cpp_lib.batched_dot_mul_sum_v1(x, x)\n",
    "setup:\n",
    "  import cpp_lib\n",
    "  x = torch.randn(2, 2)\n",
    "\n",
    "  5.22 us\n",
    "  1 measurement, 100000 runs , 1 thread\n",
    "```\n"
   ]
  },
  {
   "cell_type": "code",
   "execution_count": null,
   "metadata": {
    "collapsed": false
   },
   "outputs": [],
   "source": [
    "# Let's use ``Callgrind`` to determine which is better.\n",
    "stats_v0 = t0.collect_callgrind()\n",
    "stats_v1 = t1.collect_callgrind()\n",
    "\n",
    "pretty_print(stats_v0)\n",
    "pretty_print(stats_v1)\n",
    "\n",
    "# `.as_standardized` removes file names and some path prefixes, and makes\n",
    "# it easier to read the function symbols.\n",
    "stats_v0 = stats_v0.as_standardized()\n",
    "stats_v1 = stats_v1.as_standardized()\n",
    "\n",
    "# `.delta` diffs the instruction counts, and `.denoise` removes several\n",
    "# functions in the Python interpreter that are known to have significant\n",
    "# jitter.\n",
    "delta = stats_v1.delta(stats_v0).denoise()\n",
    "\n",
    "# `.transform` is a convenience API for transforming function names. It is\n",
    "# useful for increasing cancelation when ``diff-ing`` instructions, as well as\n",
    "# just generally improving readability.\n",
    "replacements = (\n",
    "    (\"???:void pybind11\", \"pybind11\"),\n",
    "    (\"batched_dot_mul_sum_v0\", \"batched_dot_mul_sum_v1\"),\n",
    "    (\"at::Tensor, at::Tensor\", \"...\"),\n",
    "    (\"at::Tensor const&, at::Tensor const&\", \"...\"),\n",
    "    (\"auto torch::detail::wrap_pybind_function_impl_\", \"wrap_pybind_function_impl_\"),\n",
    ")\n",
    "for before, after in replacements:\n",
    "    delta = delta.transform(lambda l: l.replace(before, after))\n",
    "\n",
    "# We can use print options to control how much of the function to display.\n",
    "torch.set_printoptions(linewidth=160)\n",
    "\n",
    "# Once parsed, the instruction counts make clear that passing `a` and `b`\n",
    "# by reference is more efficient as it skips some ``c10::TensorImpl`` bookkeeping\n",
    "# for the intermediate Tensors, and is also works better with ``pybind11``. This\n",
    "# is consistent with our noisy wall time observations.\n",
    "print(delta)"
   ]
  },
  {
   "cell_type": "markdown",
   "metadata": {},
   "source": [
    "``` {.}\n",
    "<torch.utils.benchmark.utils.valgrind_wrapper.timer_interface.CallgrindStats object at 0x7fb0f06e7630>\n",
    "cpp_lib.batched_dot_mul_sum_v0(x, x)\n",
    "setup:\n",
    "  import cpp_lib\n",
    "  x = torch.randn(2, 2)\n",
    "                           All          Noisy symbols removed\n",
    "    Instructions:      2392671                    2392671\n",
    "    Baseline:             4367                       4367\n",
    "100 runs per measurement, 1 thread\n",
    "Warning: PyTorch was not built with debug symbols.\n",
    "         Source information may be limited. Rebuild with\n",
    "         REL_WITH_DEB_INFO=1 for more detailed results.\n",
    "<torch.utils.benchmark.utils.valgrind_wrapper.timer_interface.CallgrindStats object at 0x7fb10400d208>\n",
    "cpp_lib.batched_dot_mul_sum_v1(x, x)\n",
    "setup:\n",
    "  import cpp_lib\n",
    "  x = torch.randn(2, 2)\n",
    "                           All          Noisy symbols removed\n",
    "    Instructions:      2378978                    2378978\n",
    "    Baseline:             4367                       4367\n",
    "    100 runs per measurement, 1 thread\n",
    "    Warning: PyTorch was not built with debug symbols.\n",
    "             Source information may be limited. Rebuild with\n",
    "             REL_WITH_DEB_INFO=1 for more detailed results.\n",
    "    <torch.utils.benchmark.utils.valgrind_wrapper.timer_interface.FunctionCounts object at 0x7fb1000ab358>\n",
    "          86  ???:0x000000000020d9e0\n",
    "      56  ???:0x000000000020db10\n",
    "   -1100  pybind11::cpp_function::initialize<wrap_pybind_function_impl_<at::Tensor ... r (&)(...), std::integer_sequence<unsigned long, 0ul, 1ul>)::{lambda(...)\n",
    "   -1600  ???:wrap_pybind_function_impl_<at::Tensor (&)(...), 0ul, 1ul>(at::Tensor (&)(...), std::integer_sequence<unsigned long, 0ul, 1ul>)::{lambda(...)\n",
    "   -5200  ???:c10::intrusive_ptr<c10::TensorImpl, c10::UndefinedTensorImpl>::reset_()\n",
    "   -5935  ???:0x000000000022c0e0\n",
    "Total: -13693\n",
    "```\n"
   ]
  },
  {
   "cell_type": "markdown",
   "metadata": {},
   "source": [
    "Learn More\n",
    "==========\n",
    "\n",
    "Take a look at these other recipes to continue your learning:\n",
    "\n",
    "-   [PyTorch\n",
    "    Profiler](https://pytorch.org/tutorials/recipes/recipes/profiler.html)\n"
   ]
  }
 ],
 "metadata": {
  "kernelspec": {
   "display_name": "Python 3",
   "language": "python",
   "name": "python3"
  },
  "language_info": {
   "codemirror_mode": {
    "name": "ipython",
    "version": 3
   },
   "file_extension": ".py",
   "mimetype": "text/x-python",
   "name": "python",
   "nbconvert_exporter": "python",
   "pygments_lexer": "ipython3",
   "version": "3.10.12"
  }
 },
 "nbformat": 4,
 "nbformat_minor": 0
}
