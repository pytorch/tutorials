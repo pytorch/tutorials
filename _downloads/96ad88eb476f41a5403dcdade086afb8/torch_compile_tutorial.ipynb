{
 "cells": [
  {
   "cell_type": "code",
   "execution_count": null,
   "metadata": {
    "collapsed": false
   },
   "outputs": [],
   "source": [
    "# For tips on running notebooks in Google Colab, see\n",
    "# https://docs.pytorch.org/tutorials/beginner/colab\n",
    "%matplotlib inline"
   ]
  },
  {
   "cell_type": "markdown",
   "metadata": {},
   "source": [
    "Introduction to `torch.compile`\n",
    "===============================\n",
    "\n",
    "**Author:** William Wen\n"
   ]
  },
  {
   "cell_type": "markdown",
   "metadata": {},
   "source": [
    "`torch.compile` is the new way to speed up your PyTorch code!\n",
    "`torch.compile` makes PyTorch code run faster by JIT-compiling PyTorch\n",
    "code into optimized kernels, while requiring minimal code changes.\n",
    "\n",
    "`torch.compile` accomplishes this by tracing through your Python code,\n",
    "looking for PyTorch operations. Code that is difficult to trace will\n",
    "result a **graph break**, which are lost optimization opportunities,\n",
    "rather than errors or silent incorrectness.\n",
    "\n",
    "`torch.compile` is available in PyTorch 2.0 and later.\n",
    "\n",
    "This introduction covers basic `torch.compile` usage and demonstrates\n",
    "the advantages of `torch.compile` over our previous PyTorch compiler\n",
    "solution, [TorchScript](https://pytorch.org/docs/stable/jit.html).\n",
    "\n",
    "For an end-to-end example on a real model, check out our [end-to-end\n",
    "torch.compile\n",
    "tutorial](https://pytorch.org/tutorials/intermediate/torch_compile_full_example.html).\n",
    "\n",
    "To troubleshoot issues and to gain a deeper understanding of how to\n",
    "apply `torch.compile` to your code, check out [the torch.compile\n",
    "programming\n",
    "model](https://docs.pytorch.org/docs/main/compile/programming_model.html).\n",
    "\n",
    "**Contents**\n",
    "\n",
    "::: {.contents local=\"\"}\n",
    ":::\n",
    "\n",
    "**Required pip dependencies for this tutorial**\n",
    "\n",
    "-   `torch >= 2.0`\n",
    "-   `numpy`\n",
    "-   `scipy`\n",
    "\n",
    "**System requirements** - A C++ compiler, such as `g++` - Python\n",
    "development package (`python-devel`/`python-dev`)\n"
   ]
  },
  {
   "cell_type": "markdown",
   "metadata": {},
   "source": [
    "Basic Usage\n",
    "===========\n",
    "\n",
    "We turn on some logging to help us to see what `torch.compile` is doing\n",
    "under the hood in this tutorial. The following code will print out the\n",
    "PyTorch ops that `torch.compile` traced.\n"
   ]
  },
  {
   "cell_type": "code",
   "execution_count": null,
   "metadata": {
    "collapsed": false
   },
   "outputs": [],
   "source": [
    "import torch\n",
    "\n",
    "\n",
    "torch._logging.set_logs(graph_code=True)"
   ]
  },
  {
   "cell_type": "markdown",
   "metadata": {},
   "source": [
    "`torch.compile` is a decorator that takes an arbitrary Python function.\n"
   ]
  },
  {
   "cell_type": "code",
   "execution_count": null,
   "metadata": {
    "collapsed": false
   },
   "outputs": [],
   "source": [
    "def foo(x, y):\n",
    "    a = torch.sin(x)\n",
    "    b = torch.cos(y)\n",
    "    return a + b\n",
    "\n",
    "\n",
    "opt_foo1 = torch.compile(foo)\n",
    "print(opt_foo1(torch.randn(3, 3), torch.randn(3, 3)))\n",
    "\n",
    "\n",
    "@torch.compile\n",
    "def opt_foo2(x, y):\n",
    "    a = torch.sin(x)\n",
    "    b = torch.cos(y)\n",
    "    return a + b\n",
    "\n",
    "\n",
    "print(opt_foo2(torch.randn(3, 3), torch.randn(3, 3)))"
   ]
  },
  {
   "cell_type": "markdown",
   "metadata": {},
   "source": [
    "`torch.compile` is applied recursively, so nested function calls within\n",
    "the top-level compiled function will also be compiled.\n"
   ]
  },
  {
   "cell_type": "code",
   "execution_count": null,
   "metadata": {
    "collapsed": false
   },
   "outputs": [],
   "source": [
    "def inner(x):\n",
    "    return torch.sin(x)\n",
    "\n",
    "\n",
    "@torch.compile\n",
    "def outer(x, y):\n",
    "    a = inner(x)\n",
    "    b = torch.cos(y)\n",
    "    return a + b\n",
    "\n",
    "\n",
    "print(outer(torch.randn(3, 3), torch.randn(3, 3)))"
   ]
  },
  {
   "cell_type": "markdown",
   "metadata": {},
   "source": [
    "We can also optimize `torch.nn.Module` instances by either calling its\n",
    "`.compile()` method or by directly `torch.compile`-ing the module. This\n",
    "is equivalent to `torch.compile`-ing the module\\'s `__call__` method\n",
    "(which indirectly calls `forward`).\n"
   ]
  },
  {
   "cell_type": "code",
   "execution_count": null,
   "metadata": {
    "collapsed": false
   },
   "outputs": [],
   "source": [
    "t = torch.randn(10, 100)\n",
    "\n",
    "\n",
    "class MyModule(torch.nn.Module):\n",
    "    def __init__(self):\n",
    "        super().__init__()\n",
    "        self.lin = torch.nn.Linear(3, 3)\n",
    "\n",
    "    def forward(self, x):\n",
    "        return torch.nn.functional.relu(self.lin(x))\n",
    "\n",
    "\n",
    "mod1 = MyModule()\n",
    "mod1.compile()\n",
    "print(mod1(torch.randn(3, 3)))\n",
    "\n",
    "mod2 = MyModule()\n",
    "mod2 = torch.compile(mod2)\n",
    "print(mod2(torch.randn(3, 3)))"
   ]
  },
  {
   "cell_type": "markdown",
   "metadata": {},
   "source": [
    "Demonstrating Speedups\n",
    "======================\n",
    "\n",
    "Now let\\'s demonstrate how `torch.compile` speeds up a simple PyTorch\n",
    "example. For a demonstration on a more complex model, see our\n",
    "[end-to-end torch.compile\n",
    "tutorial](https://pytorch.org/tutorials/intermediate/torch_compile_full_example.html).\n"
   ]
  },
  {
   "cell_type": "code",
   "execution_count": null,
   "metadata": {
    "collapsed": false
   },
   "outputs": [],
   "source": [
    "def foo3(x):\n",
    "    y = x + 1\n",
    "    z = torch.nn.functional.relu(y)\n",
    "    u = z * 2\n",
    "    return u\n",
    "\n",
    "\n",
    "opt_foo3 = torch.compile(foo3)\n",
    "\n",
    "\n",
    "# Returns the result of running `fn()` and the time it took for `fn()` to run,\n",
    "# in seconds. We use CUDA events and synchronization for the most accurate\n",
    "# measurements.\n",
    "def timed(fn):\n",
    "    start = torch.cuda.Event(enable_timing=True)\n",
    "    end = torch.cuda.Event(enable_timing=True)\n",
    "    start.record()\n",
    "    result = fn()\n",
    "    end.record()\n",
    "    torch.cuda.synchronize()\n",
    "    return result, start.elapsed_time(end) / 1024\n",
    "\n",
    "\n",
    "inp = torch.randn(4096, 4096).cuda()\n",
    "print(\"compile:\", timed(lambda: opt_foo3(inp))[1])\n",
    "print(\"eager:\", timed(lambda: foo3(inp))[1])"
   ]
  },
  {
   "cell_type": "markdown",
   "metadata": {},
   "source": [
    "Notice that `torch.compile` appears to take a lot longer to complete\n",
    "compared to eager. This is because `torch.compile` takes extra time to\n",
    "compile the model on the first few executions. `torch.compile` re-uses\n",
    "compiled code whever possible, so if we run our optimized model several\n",
    "more times, we should see a significant improvement compared to eager.\n"
   ]
  },
  {
   "cell_type": "code",
   "execution_count": null,
   "metadata": {
    "collapsed": false
   },
   "outputs": [],
   "source": [
    "# turn off logging for now to prevent spam\n",
    "torch._logging.set_logs(graph_code=False)\n",
    "\n",
    "eager_times = []\n",
    "for i in range(10):\n",
    "    _, eager_time = timed(lambda: foo3(inp))\n",
    "    eager_times.append(eager_time)\n",
    "    print(f\"eager time {i}: {eager_time}\")\n",
    "print(\"~\" * 10)\n",
    "\n",
    "compile_times = []\n",
    "for i in range(10):\n",
    "    _, compile_time = timed(lambda: opt_foo3(inp))\n",
    "    compile_times.append(compile_time)\n",
    "    print(f\"compile time {i}: {compile_time}\")\n",
    "print(\"~\" * 10)\n",
    "\n",
    "import numpy as np\n",
    "\n",
    "eager_med = np.median(eager_times)\n",
    "compile_med = np.median(compile_times)\n",
    "speedup = eager_med / compile_med\n",
    "assert speedup > 1\n",
    "print(\n",
    "    f\"(eval) eager median: {eager_med}, compile median: {compile_med}, speedup: {speedup}x\"\n",
    ")\n",
    "print(\"~\" * 10)"
   ]
  },
  {
   "cell_type": "markdown",
   "metadata": {},
   "source": [
    "And indeed, we can see that running our model with `torch.compile`\n",
    "results in a significant speedup. Speedup mainly comes from reducing\n",
    "Python overhead and GPU read/writes, and so the observed speedup may\n",
    "vary on factors such as model architecture and batch size. For example,\n",
    "if a model\\'s architecture is simple and the amount of data is large,\n",
    "then the bottleneck would be GPU compute and the observed speedup may be\n",
    "less significant.\n",
    "\n",
    "To see speedups on a real model, check out our [end-to-end torch.compile\n",
    "tutorial](https://pytorch.org/tutorials/intermediate/torch_compile_full_example.html).\n"
   ]
  },
  {
   "cell_type": "markdown",
   "metadata": {},
   "source": [
    "Benefits over TorchScript\n",
    "=========================\n",
    "\n",
    "Why should we use `torch.compile` over TorchScript? Primarily, the\n",
    "advantage of `torch.compile` lies in its ability to handle arbitrary\n",
    "Python code with minimal changes to existing code.\n",
    "\n",
    "Compare to TorchScript, which has a tracing mode (`torch.jit.trace`) and\n",
    "a scripting mode (`torch.jit.script`). Tracing mode is susceptible to\n",
    "silent incorrectness, while scripting mode requires significant code\n",
    "changes and will raise errors on unsupported Python code.\n",
    "\n",
    "For example, TorchScript tracing silently fails on data-dependent\n",
    "control flow (the `if x.sum() < 0:` line below) because only the actual\n",
    "control flow path is traced. In comparison, `torch.compile` is able to\n",
    "correctly handle it.\n"
   ]
  },
  {
   "cell_type": "code",
   "execution_count": null,
   "metadata": {
    "collapsed": false
   },
   "outputs": [],
   "source": [
    "def f1(x, y):\n",
    "    if x.sum() < 0:\n",
    "        return -y\n",
    "    return y\n",
    "\n",
    "\n",
    "# Test that `fn1` and `fn2` return the same result, given the same arguments `args`.\n",
    "def test_fns(fn1, fn2, args):\n",
    "    out1 = fn1(*args)\n",
    "    out2 = fn2(*args)\n",
    "    return torch.allclose(out1, out2)\n",
    "\n",
    "\n",
    "inp1 = torch.randn(5, 5)\n",
    "inp2 = torch.randn(5, 5)\n",
    "\n",
    "traced_f1 = torch.jit.trace(f1, (inp1, inp2))\n",
    "print(\"traced 1, 1:\", test_fns(f1, traced_f1, (inp1, inp2)))\n",
    "print(\"traced 1, 2:\", test_fns(f1, traced_f1, (-inp1, inp2)))\n",
    "\n",
    "compile_f1 = torch.compile(f1)\n",
    "print(\"compile 1, 1:\", test_fns(f1, compile_f1, (inp1, inp2)))\n",
    "print(\"compile 1, 2:\", test_fns(f1, compile_f1, (-inp1, inp2)))\n",
    "print(\"~\" * 10)"
   ]
  },
  {
   "cell_type": "markdown",
   "metadata": {},
   "source": [
    "TorchScript scripting can handle data-dependent control flow, but it can\n",
    "require major code changes and will raise errors when unsupported Python\n",
    "is used.\n",
    "\n",
    "In the example below, we forget TorchScript type annotations and we\n",
    "receive a TorchScript error because the input type for argument `y`, an\n",
    "`int`, does not match with the default argument type, `torch.Tensor`. In\n",
    "comparison, `torch.compile` works without requiring any type\n",
    "annotations.\n"
   ]
  },
  {
   "cell_type": "code",
   "execution_count": null,
   "metadata": {
    "collapsed": false
   },
   "outputs": [],
   "source": [
    "import traceback as tb\n",
    "\n",
    "torch._logging.set_logs(graph_code=True)\n",
    "\n",
    "\n",
    "def f2(x, y):\n",
    "    return x + y\n",
    "\n",
    "\n",
    "inp1 = torch.randn(5, 5)\n",
    "inp2 = 3\n",
    "\n",
    "script_f2 = torch.jit.script(f2)\n",
    "try:\n",
    "    script_f2(inp1, inp2)\n",
    "except:\n",
    "    tb.print_exc()\n",
    "\n",
    "compile_f2 = torch.compile(f2)\n",
    "print(\"compile 2:\", test_fns(f2, compile_f2, (inp1, inp2)))\n",
    "print(\"~\" * 10)"
   ]
  },
  {
   "cell_type": "markdown",
   "metadata": {},
   "source": [
    "Graph Breaks\n",
    "============\n",
    "\n",
    "The graph break is one of the most fundamental concepts within\n",
    "`torch.compile`. It allows `torch.compile` to handle arbitrary Python\n",
    "code by interrupting compilation, running the unsupported code, then\n",
    "resuming compilation. The term \\\"graph break\\\" comes from the fact that\n",
    "`torch.compile` attempts to capture and optimize the PyTorch operation\n",
    "graph. When unsupported Python code is encountered, then this graph must\n",
    "be \\\"broken\\\". Graph breaks result in lost optimization opportunities,\n",
    "which may still be undesirable, but this is better than silent\n",
    "incorrectness or a hard crash.\n",
    "\n",
    "Let\\'s look at a data-dependent control flow example to better see how\n",
    "graph breaks work.\n"
   ]
  },
  {
   "cell_type": "code",
   "execution_count": null,
   "metadata": {
    "collapsed": false
   },
   "outputs": [],
   "source": [
    "def bar(a, b):\n",
    "    x = a / (torch.abs(a) + 1)\n",
    "    if b.sum() < 0:\n",
    "        b = b * -1\n",
    "    return x * b\n",
    "\n",
    "\n",
    "opt_bar = torch.compile(bar)\n",
    "inp1 = torch.ones(10)\n",
    "inp2 = torch.ones(10)\n",
    "opt_bar(inp1, inp2)\n",
    "opt_bar(inp1, -inp2)"
   ]
  },
  {
   "cell_type": "markdown",
   "metadata": {},
   "source": [
    "The first time we run `bar`, we see that `torch.compile` traced 2 graphs\n",
    "corresponding to the following code (noting that `b.sum() < 0` is\n",
    "False):\n",
    "\n",
    "1.  `x = a / (torch.abs(a) + 1); b.sum()`\n",
    "2.  `return x * b`\n",
    "\n",
    "The second time we run `bar`, we take the other branch of the if\n",
    "statement and we get 1 traced graph corresponding to the code\n",
    "`b = b * -1; return x * b`. We do not see a graph of\n",
    "`x = a / (torch.abs(a) + 1)` outputted the second time since\n",
    "`torch.compile` cached this graph from the first run and re-used it.\n",
    "\n",
    "Let\\'s investigate by example how TorchDynamo would step through `bar`.\n",
    "If `b.sum() < 0`, then TorchDynamo would run graph 1, let Python\n",
    "determine the result of the conditional, then run graph 2. On the other\n",
    "hand, if `not b.sum() < 0`, then TorchDynamo would run graph 1, let\n",
    "Python determine the result of the conditional, then run graph 3.\n",
    "\n",
    "We can see all graph breaks by using\n",
    "`torch._logging.set_logs(graph_breaks=True)`.\n"
   ]
  },
  {
   "cell_type": "code",
   "execution_count": null,
   "metadata": {
    "collapsed": false
   },
   "outputs": [],
   "source": [
    "# Reset to clear the torch.compile cache\n",
    "torch._dynamo.reset()\n",
    "opt_bar(inp1, inp2)\n",
    "opt_bar(inp1, -inp2)"
   ]
  },
  {
   "cell_type": "markdown",
   "metadata": {},
   "source": [
    "In order to maximize speedup, graph breaks should be limited. We can\n",
    "force TorchDynamo to raise an error upon the first graph break\n",
    "encountered by using `fullgraph=True`:\n"
   ]
  },
  {
   "cell_type": "code",
   "execution_count": null,
   "metadata": {
    "collapsed": false
   },
   "outputs": [],
   "source": [
    "# Reset to clear the torch.compile cache\n",
    "torch._dynamo.reset()\n",
    "\n",
    "opt_bar_fullgraph = torch.compile(bar, fullgraph=True)\n",
    "try:\n",
    "    opt_bar_fullgraph(torch.randn(10), torch.randn(10))\n",
    "except:\n",
    "    tb.print_exc()"
   ]
  },
  {
   "cell_type": "markdown",
   "metadata": {},
   "source": [
    "In our example above, we can work around this graph break by replacing\n",
    "the if statement with a `torch.cond`:\n"
   ]
  },
  {
   "cell_type": "code",
   "execution_count": null,
   "metadata": {
    "collapsed": false
   },
   "outputs": [],
   "source": [
    "from functorch.experimental.control_flow import cond\n",
    "\n",
    "\n",
    "@torch.compile(fullgraph=True)\n",
    "def bar_fixed(a, b):\n",
    "    x = a / (torch.abs(a) + 1)\n",
    "\n",
    "    def true_branch(y):\n",
    "        return y * -1\n",
    "\n",
    "    def false_branch(y):\n",
    "        # NOTE: torch.cond doesn't allow aliased outputs\n",
    "        return y.clone()\n",
    "\n",
    "    x = cond(b.sum() < 0, true_branch, false_branch, (b,))\n",
    "    return x * b\n",
    "\n",
    "\n",
    "bar_fixed(inp1, inp2)\n",
    "bar_fixed(inp1, -inp2)"
   ]
  },
  {
   "cell_type": "markdown",
   "metadata": {},
   "source": [
    "In order to serialize graphs or to run graphs on different (i.e.\n",
    "Python-less) environments, consider using `torch.export` instead (from\n",
    "PyTorch 2.1+). One important restriction is that `torch.export` does not\n",
    "support graph breaks. Please check [the torch.export\n",
    "tutorial](https://pytorch.org/tutorials/intermediate/torch_export_tutorial.html)\n",
    "for more details on `torch.export`.\n",
    "\n",
    "Check out our [section on graph breaks in the torch.compile programming\n",
    "model](https://docs.pytorch.org/docs/main/compile/programming_model.graph_breaks_index.html)\n",
    "for tips on how to work around graph breaks.\n"
   ]
  },
  {
   "cell_type": "markdown",
   "metadata": {},
   "source": [
    "Troubleshooting\n",
    "===============\n",
    "\n",
    "Is `torch.compile` failing to speed up your model? Is compile time\n",
    "unreasonably long? Is your code recompiling excessively? Are you having\n",
    "difficulties dealing with graph breaks? Are you looking for tips on how\n",
    "to best use `torch.compile`? Or maybe you simply want to learn more\n",
    "about the inner workings of `torch.compile`?\n",
    "\n",
    "Check out [the torch.compile programming\n",
    "model](https://docs.pytorch.org/docs/main/compile/programming_model.html).\n"
   ]
  },
  {
   "cell_type": "markdown",
   "metadata": {},
   "source": [
    "Conclusion\n",
    "==========\n",
    "\n",
    "In this tutorial, we introduced `torch.compile` by covering basic usage,\n",
    "demonstrating speedups over eager mode, comparing to TorchScript, and\n",
    "briefly describing graph breaks.\n",
    "\n",
    "For an end-to-end example on a real model, check out our [end-to-end\n",
    "torch.compile\n",
    "tutorial](https://pytorch.org/tutorials/intermediate/torch_compile_full_example.html).\n",
    "\n",
    "To troubleshoot issues and to gain a deeper understanding of how to\n",
    "apply `torch.compile` to your code, check out [the torch.compile\n",
    "programming\n",
    "model](https://docs.pytorch.org/docs/main/compile/programming_model.html).\n",
    "\n",
    "We hope that you will give `torch.compile` a try!\n"
   ]
  }
 ],
 "metadata": {
  "kernelspec": {
   "display_name": "Python 3",
   "language": "python",
   "name": "python3"
  },
  "language_info": {
   "codemirror_mode": {
    "name": "ipython",
    "version": 3
   },
   "file_extension": ".py",
   "mimetype": "text/x-python",
   "name": "python",
   "nbconvert_exporter": "python",
   "pygments_lexer": "ipython3",
   "version": "3.10.12"
  }
 },
 "nbformat": 4,
 "nbformat_minor": 0
}
