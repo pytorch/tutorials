{
 "cells": [
  {
   "cell_type": "code",
   "execution_count": null,
   "metadata": {
    "collapsed": false
   },
   "outputs": [],
   "source": [
    "# For tips on running notebooks in Google Colab, see\n",
    "# https://pytorch.org/tutorials/beginner/colab\n",
    "%matplotlib inline"
   ]
  },
  {
   "cell_type": "markdown",
   "metadata": {},
   "source": [
    "Template Tutorial\n",
    "=================\n",
    "\n",
    "**Author:** [FirstName LastName](https://github.com/username)\n",
    "\n",
    "<div style=\"width: 45%; float: left; padding: 20px;\"><h2> What you will learn</h2><ul><li>Item 1</li><li>Item 2</li><li>Item 3</li></ul></div><div style=\"width: 45%; float: right; padding: 20px;\"><h2> Prerequisites</h2><ul><li>PyTorch v2.0.0</li><li>GPU ???</li><li>Other items 3</li></ul></div>\n",
    "\n",
    "If you have a video, add it here like this:\n",
    "\n"
   ]
  },
  {
   "cell_type": "code",
   "execution_count": null,
   "id": "022fea0a",
   "metadata": {},
   "outputs": [],
   "source": [
    "# Run this cell to load the video\n",
    "from IPython.display import display, HTML\n",
    "html_code = \"\"\"\n",
    "<div style=\"margin-top:10px; margin-bottom:10px;\">\n",
    "  <iframe width=\"560\" height=\"315\" src=\"https://www.youtube.com/embed/IC0_FRiX-sw\" frameborder=\"0\" allow=\"accelerometer; encrypted-media; gyroscope; picture-in-picture\" allowfullscreen></iframe>\n",
    "</div>\n",
    "\"\"\"\n",
    "display(HTML(html_code))"
   ]
  },
  {
   "cell_type": "markdown",
   "id": "b0e63ac2",
   "metadata": {},
   "source": [
    "\n",
    "\n",
    "To test your tutorial locally, you can do one of the following:\n",
    "\n",
    "-   You can control specific files that generate the results by using\n",
    "    `GALLERY_PATTERN` environment variable. The GALLERY\\_PATTERN\n",
    "    variable respects regular expressions. For example to run only\n",
    "    `neural_style_transfer_tutorial.py`, use the following command:\n",
    "\n",
    "    ``` {.sh}\n",
    "    GALLERY_PATTERN=\"neural_style_transfer_tutorial.py\" make html\n",
    "    ```\n",
    "\n",
    "    or\n",
    "\n",
    "    ``` {.sh}\n",
    "    GALLERY_PATTERN=\"neural_style_transfer_tutorial.py\" sphinx-build . _build\n",
    "    ```\n",
    "\n",
    "-   Make a copy of this repository and add only your tutorial to the\n",
    "    [beginner\\_source]{.title-ref} directory removing all other\n",
    "    tutorials. Then run `make html`.\n",
    "\n",
    "Verify that all outputs were generated correctly in the created HTML.\n"
   ]
  },
  {
   "cell_type": "markdown",
   "metadata": {},
   "source": [
    "Overview\n",
    "========\n",
    "\n",
    "Describe Why is this topic important? Add Links to relevant research\n",
    "papers.\n",
    "\n",
    "This tutorial walks you through the process of\\....\n",
    "\n",
    "Steps\n",
    "=====\n",
    "\n",
    "Example code (the output below is generated automatically):\n"
   ]
  },
  {
   "cell_type": "code",
   "execution_count": null,
   "metadata": {
    "collapsed": false
   },
   "outputs": [],
   "source": [
    "import torch\n",
    "x = torch.rand(5, 3)\n",
    "print(x)"
   ]
  },
  {
   "cell_type": "markdown",
   "metadata": {},
   "source": [
    "(Optional) Additional Exercises\n",
    "===============================\n",
    "\n",
    "Add additional practice exercises for users to test their knowledge.\n",
    "Example: [NLP from\n",
    "Scratch](https://pytorch.org/tutorials/intermediate/char_rnn_generation_tutorial.html#exercises).\n"
   ]
  },
  {
   "cell_type": "markdown",
   "metadata": {},
   "source": [
    "Conclusion\n",
    "==========\n",
    "\n",
    "Summarize the steps and concepts covered. Highlight key takeaways.\n",
    "\n",
    "Further Reading\n",
    "===============\n",
    "\n",
    "-   Link1\n",
    "-   Link2\n"
   ]
  }
 ],
 "metadata": {
  "kernelspec": {
   "display_name": "Python 3",
   "language": "python",
   "name": "python3"
  },
  "language_info": {
   "codemirror_mode": {
    "name": "ipython",
    "version": 3
   },
   "file_extension": ".py",
   "mimetype": "text/x-python",
   "name": "python",
   "nbconvert_exporter": "python",
   "pygments_lexer": "ipython3",
   "version": "3.10.12"
  }
 },
 "nbformat": 4,
 "nbformat_minor": 0
}
