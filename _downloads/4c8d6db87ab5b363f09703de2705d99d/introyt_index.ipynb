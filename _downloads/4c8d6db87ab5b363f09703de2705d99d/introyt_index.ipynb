{
 "cells": [
  {
   "cell_type": "code",
   "execution_count": null,
   "metadata": {
    "collapsed": false
   },
   "outputs": [],
   "source": [
    "# For tips on running notebooks in Google Colab, see\n",
    "# https://docs.pytorch.org/tutorials/beginner/colab\n",
    "%matplotlib inline"
   ]
  },
  {
   "cell_type": "markdown",
   "metadata": {},
   "source": [
    "[Introduction](introyt1_tutorial.html) \\|\\|\n",
    "[Tensors](tensors_deeper_tutorial.html) \\|\\|\n",
    "[Autograd](autogradyt_tutorial.html) \\|\\| [Building\n",
    "Models](modelsyt_tutorial.html) \\|\\| [TensorBoard\n",
    "Support](tensorboardyt_tutorial.html) \\|\\| [Training\n",
    "Models](trainingyt.html) \\|\\| [Model Understanding](captumyt.html)\n",
    "\n",
    "Introduction to PyTorch - YouTube Series\n",
    "========================================\n",
    "\n",
    "Authors: [Brad Heintz](https://github.com/fbbradheintz)\n",
    "\n",
    "This tutorial follows along with the [PyTorch Beginner\n",
    "Series](https://www.youtube.com/playlist?list=PL_lsbAsL_o2CTlGHgMxNrKhzP97BaG9ZN)\n",
    "on YouTube.\n",
    "\n",
    "[This tutorial assumes a basic familiarity with Python and Deep Learning\n",
    "concepts.]{.title-ref}\n",
    "\n",
    "Running the Tutorial Code\n",
    "-------------------------\n",
    "\n",
    "You can run this tutorial in a couple of ways:\n",
    "\n",
    "-   **On the cloud**: This is the easiest way to get started! Each\n",
    "    section has a Colab link at the top, which opens a notebook with the\n",
    "    code in a fully-hosted environment. Pro tip: Use Colab with a GPU\n",
    "    runtime to speed up operations *Runtime \\> Change runtime type \\>\n",
    "    GPU*\n",
    "-   **Locally**: This option requires you to set up PyTorch and\n",
    "    torchvision on your local machine ([installation\n",
    "    instructions](https://pytorch.org/get-started/locally/)). Download\n",
    "    the notebook or copy the code into your favorite IDE.\n",
    "\n",
    "::: {.toctree maxdepth=\"2\" hidden=\"\"}\n",
    "introyt1\\_tutorial tensors\\_deeper\\_tutorial autogradyt\\_tutorial\n",
    "modelsyt\\_tutorial tensorboardyt\\_tutorial trainingyt captumyt\n",
    ":::\n"
   ]
  }
 ],
 "metadata": {
  "kernelspec": {
   "display_name": "Python 3",
   "language": "python",
   "name": "python3"
  },
  "language_info": {
   "codemirror_mode": {
    "name": "ipython",
    "version": 3
   },
   "file_extension": ".py",
   "mimetype": "text/x-python",
   "name": "python",
   "nbconvert_exporter": "python",
   "pygments_lexer": "ipython3",
   "version": "3.10.12"
  }
 },
 "nbformat": 4,
 "nbformat_minor": 0
}
