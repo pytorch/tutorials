{
 "cells": [
  {
   "cell_type": "code",
   "execution_count": null,
   "metadata": {
    "collapsed": false
   },
   "outputs": [],
   "source": [
    "# For tips on running notebooks in Google Colab, see\n",
    "# https://pytorch.org/tutorials/beginner/colab\n",
    "%matplotlib inline"
   ]
  },
  {
   "cell_type": "markdown",
   "metadata": {},
   "source": [
    "(prototype) GPU Quantization with TorchAO\n",
    "=========================================\n",
    "\n",
    "**Author**: [HDCharles](https://github.com/HDCharles)\n",
    "\n",
    "In this tutorial, we will walk you through the quantization and\n",
    "optimization of the popular [segment anything\n",
    "model](https://github.com/facebookresearch/segment-anything). These\n",
    "steps will mimic some of those taken to develop the\n",
    "[segment-anything-fast](https://github.com/meta-pytorch/segment-anything-fast/blob/main/segment_anything_fast/modeling/image_encoder.py#L15)\n",
    "repo. This step-by-step guide demonstrates how you can apply these\n",
    "techniques to speed up your own models, especially those that use\n",
    "transformers. To that end, we will focus on widely applicable\n",
    "techniques, such as optimizing performance with `torch.compile` and\n",
    "quantization and measure their impact.\n"
   ]
  },
  {
   "cell_type": "markdown",
   "metadata": {},
   "source": [
    "Set up Your Environment\n",
    "=======================\n",
    "\n",
    "First, let\\'s configure your environment. This guide was written for\n",
    "CUDA 12.1. We have run this tutorial on an A100-PG509-200 power limited\n",
    "to 330.00 W. If you are using a different hardware, you might see\n",
    "different performance numbers.\n",
    "\n",
    "``` {.bash}\n",
    "> conda create -n myenv python=3.10\n",
    "> pip3 install --pre torch torchvision torchaudio --index-url https://download.pytorch.org/whl/nightly/cu121\n",
    "> pip install git+https://github.com/facebookresearch/segment-anything.git\n",
    "> pip install git+https://github.com/pytorch/ao.git\n",
    "```\n",
    "\n",
    "Segment Anything Model checkpoint setup:\n",
    "\n",
    "1.  Go to the [segment-anything repo\n",
    "    checkpoint](https://github.com/facebookresearch/segment-anything/tree/main#model-checkpoints)\n",
    "    and download the `vit_h` checkpoint. Alternatively, you can use\n",
    "    `wget` (for example,\n",
    "    `wget https://dl.fbaipublicfiles.com/segment_anything/sam_vit_h_4b8939.pth --directory-prefix=<path>`).\n",
    "2.  Pass in that directory by editing the code below to say:\n",
    "\n",
    "``` {.bash}\n",
    "{sam_checkpoint_base_path}=<path>\n",
    "```\n"
   ]
  },
  {
   "cell_type": "code",
   "execution_count": null,
   "metadata": {
    "collapsed": false
   },
   "outputs": [],
   "source": [
    "import torch\n",
    "from torchao.quantization.quant_api import quantize_, Int8DynamicActivationInt8WeightConfig\n",
    "from torchao.utils import unwrap_tensor_subclass, TORCH_VERSION_AT_LEAST_2_5\n",
    "from segment_anything import sam_model_registry\n",
    "from torch.utils.benchmark import Timer\n",
    "\n",
    "sam_checkpoint_base_path = \"data\"\n",
    "model_type = 'vit_h'\n",
    "model_name = 'sam_vit_h_4b8939.pth'\n",
    "checkpoint_path = f\"{sam_checkpoint_base_path}/{model_name}\"\n",
    "batchsize = 16\n",
    "only_one_block = True\n",
    "\n",
    "\n",
    "@torch.no_grad()\n",
    "def benchmark(f, *args, **kwargs):\n",
    "    for _ in range(3):\n",
    "        f(*args, **kwargs)\n",
    "        torch.cuda.synchronize()\n",
    "\n",
    "    torch.cuda.reset_peak_memory_stats()\n",
    "    t0 = Timer(\n",
    "        stmt=\"f(*args, **kwargs)\", globals={\"args\": args, \"kwargs\": kwargs, \"f\": f}\n",
    "    )\n",
    "    res = t0.adaptive_autorange(.03, min_run_time=.2, max_run_time=20)\n",
    "    return {'time':res.median * 1e3, 'memory': torch.cuda.max_memory_allocated()/1e9}\n",
    "\n",
    "def get_sam_model(only_one_block=False, batchsize=1):\n",
    "    sam = sam_model_registry[model_type](checkpoint=checkpoint_path).cuda()\n",
    "    model = sam.image_encoder.eval()\n",
    "    image = torch.randn(batchsize, 3, 1024, 1024, device='cuda')\n",
    "\n",
    "    # code to use just a single block of the model\n",
    "    if only_one_block:\n",
    "        model = model.blocks[0]\n",
    "        image = torch.randn(batchsize, 64, 64, 1280, device='cuda')\n",
    "    return model, image"
   ]
  },
  {
   "cell_type": "markdown",
   "metadata": {},
   "source": [
    "In this tutorial, we focus on quantizing the `image_encoder` because the\n",
    "inputs to it are statically sized while the prompt encoder and mask\n",
    "decoder have variable sizes which makes them harder to quantize.\n",
    "\n",
    "We'll focus on just a single block at first to make the analysis easier.\n",
    "\n",
    "Let\\'s start by measuring the baseline runtime.\n"
   ]
  },
  {
   "cell_type": "code",
   "execution_count": null,
   "metadata": {
    "collapsed": false
   },
   "outputs": [],
   "source": [
    "try:\n",
    "    model, image = get_sam_model(only_one_block, batchsize)\n",
    "    fp32_res = benchmark(model, image)\n",
    "    print(f\"base fp32 runtime of the model is {fp32_res['time']:0.2f}ms and peak memory {fp32_res['memory']:0.2f}GB\")\n",
    "    # base fp32 runtime of the model is 186.16ms and peak memory 6.33GB\n",
    "except Exception as e:\n",
    "    print(\"unable to run fp32 model: \", e)"
   ]
  },
  {
   "cell_type": "markdown",
   "metadata": {},
   "source": [
    "We can achieve an instant performance boost by converting the model to\n",
    "bfloat16. The reason we opt for bfloat16 over fp16 is due to its dynamic\n",
    "range, which is comparable to that of fp32. Both bfloat16 and fp32\n",
    "possess 8 exponential bits, whereas fp16 only has 4. This larger dynamic\n",
    "range helps protect us from overflow errors and other issues that can\n",
    "arise when scaling and rescaling tensors due to quantization.\n"
   ]
  },
  {
   "cell_type": "code",
   "execution_count": null,
   "metadata": {
    "collapsed": false
   },
   "outputs": [],
   "source": [
    "model, image = get_sam_model(only_one_block, batchsize)\n",
    "model = model.to(torch.bfloat16)\n",
    "image = image.to(torch.bfloat16)\n",
    "bf16_res = benchmark(model, image)\n",
    "print(f\"bf16 runtime of the block is {bf16_res['time']:0.2f}ms and peak memory {bf16_res['memory']: 0.2f}GB\")\n",
    "# bf16 runtime of the block is 25.43ms and peak memory  3.17GB"
   ]
  },
  {
   "cell_type": "markdown",
   "metadata": {},
   "source": [
    "Just this quick change improves runtime by a factor of \\~7x in the tests\n",
    "we have conducted (186.16ms to 25.43ms).\n",
    "\n",
    "Next, let\\'s use `torch.compile` with our model to see how much the\n",
    "performance improves.\n"
   ]
  },
  {
   "cell_type": "code",
   "execution_count": null,
   "metadata": {
    "collapsed": false
   },
   "outputs": [],
   "source": [
    "model_c = torch.compile(model, mode='max-autotune')\n",
    "comp_res = benchmark(model_c, image)\n",
    "print(f\"bf16 compiled runtime of the block is {comp_res['time']:0.2f}ms and peak memory {comp_res['memory']: 0.2f}GB\")\n",
    "# bf16 compiled runtime of the block is 19.95ms and peak memory  2.24GB"
   ]
  },
  {
   "cell_type": "markdown",
   "metadata": {},
   "source": [
    "The first time this is run, you should see a sequence of `AUTOTUNE`\n",
    "outputs which occurs when inductor compares the performance between\n",
    "various kernel parameters for a kernel. This only happens once (unless\n",
    "you delete your cache) so if you run the cell again you should just get\n",
    "the benchmark output.\n",
    "\n",
    "`torch.compile` yields about another 27% improvement. This brings the\n",
    "model to a reasonable baseline where we now have to work a bit harder\n",
    "for improvements.\n",
    "\n",
    "Next, let\\'s apply quantization. Quantization for GPUs comes in three\n",
    "main forms in [torchao](https://github.com/pytorch/ao) which is just\n",
    "native pytorch+python code. This includes:\n",
    "\n",
    "-   int8 dynamic quantization\n",
    "-   int8 weight-only quantization\n",
    "-   int4 weight-only quantization\n",
    "\n",
    "Different models, or sometimes different layers in a model can require\n",
    "different techniques. For models which are heavily compute bound,\n",
    "dynamic quantization tends to work the best since it swaps the normal\n",
    "expensive floating point matmul ops with integer versions. Weight-only\n",
    "quantization works better in memory bound situations where the benefit\n",
    "comes from loading less weight data, rather than doing less computation.\n",
    "The torchao APIs:\n",
    "\n",
    "`Int8DynamicActivationInt8WeightConfig()`, `Int8WeightOnlyConfig()` or\n",
    "`Int4WeightOnlyConfig()`\n",
    "\n",
    "can be used to easily apply the desired quantization technique and then\n",
    "once the model is compiled with `torch.compile` with `max-autotune`,\n",
    "quantization is complete and we can see our speedup.\n",
    "\n",
    "<div style=\"background-color: #54c7ec; color: #fff; font-weight: 700; padding-left: 10px; padding-top: 5px; padding-bottom: 5px\"><strong>NOTE:</strong></div>\n",
    "\n",
    "<div style=\"background-color: #f3f4f7; padding-left: 10px; padding-top: 10px; padding-bottom: 10px; padding-right: 10px\">\n",
    "\n",
    "<p>You might experience issues with these on older versions of PyTorch. If you runinto an issue, you can use <code>apply_dynamic_quant</code> and<code>apply_weight_only_int8_quant</code> instead as drop in replacement for the twoabove (no replacement for int4).</p>\n",
    "\n",
    "</div>\n",
    "\n",
    "The difference between the two APIs is that the\n",
    "`Int8DynamicActivationInt8WeightConfig` API alters the weight tensor of\n",
    "the linear module so instead of doing a normal linear, it does a\n",
    "quantized operation. This is helpful when you have non-standard linear\n",
    "ops that do more than one thing. The `apply` APIs directly swap the\n",
    "linear modules for a quantized module which works on older versions but\n",
    "doesn't work with non-standard linear modules.\n",
    "\n",
    "In this case Segment Anything is compute-bound so we'll use dynamic\n",
    "quantization:\n"
   ]
  },
  {
   "cell_type": "code",
   "execution_count": null,
   "metadata": {
    "collapsed": false
   },
   "outputs": [],
   "source": [
    "del model_c, model, image\n",
    "model, image = get_sam_model(only_one_block, batchsize)\n",
    "model = model.to(torch.bfloat16)\n",
    "image = image.to(torch.bfloat16)\n",
    "quantize_(model, Int8DynamicActivationInt8WeightConfig())\n",
    "if not TORCH_VERSION_AT_LEAST_2_5:\n",
    "    # needed for subclass + compile to work on older versions of pytorch\n",
    "    unwrap_tensor_subclass(model)\n",
    "model_c = torch.compile(model, mode='max-autotune')\n",
    "quant_res = benchmark(model_c, image)\n",
    "print(f\"bf16 compiled runtime of the quantized block is {quant_res['time']:0.2f}ms and peak memory {quant_res['memory']: 0.2f}GB\")\n",
    "# bf16 compiled runtime of the quantized block is 19.04ms and peak memory  3.58GB"
   ]
  },
  {
   "cell_type": "markdown",
   "metadata": {},
   "source": [
    "With quantization, we have improved performance a bit more but memory\n",
    "usage increased significantly.\n",
    "\n",
    "This is for two reasons:\n",
    "\n",
    "1)  Quantization adds overhead to the model since we need to quantize\n",
    "    and dequantize the input and output. For small batch sizes this\n",
    "    overhead can actually make the model go slower.\n",
    "2)  Even though we are doing a quantized matmul, such as `int8 x int8`,\n",
    "    the result of the multiplication gets stored in an int32 tensor\n",
    "    which is twice the size of the result from the non-quantized model.\n",
    "    If we can avoid creating this int32 tensor, our memory usage will\n",
    "    improve a lot.\n",
    "\n",
    "We can fix \\#2 by fusing the integer matmul with the subsequent rescale\n",
    "operation since the final output will be bf16, if we immediately convert\n",
    "the int32 tensor to bf16 and instead store that we'll get better\n",
    "performance in terms of both runtime and memory.\n",
    "\n",
    "The way to do this, is to enable the option `force_fuse_int_mm_with_mul`\n",
    "in the inductor config.\n"
   ]
  },
  {
   "cell_type": "code",
   "execution_count": null,
   "metadata": {
    "collapsed": false
   },
   "outputs": [],
   "source": [
    "del model_c, model, image\n",
    "model, image = get_sam_model(only_one_block, batchsize)\n",
    "model = model.to(torch.bfloat16)\n",
    "image = image.to(torch.bfloat16)\n",
    "torch._inductor.config.force_fuse_int_mm_with_mul = True\n",
    "quantize_(model, Int8DynamicActivationInt8WeightConfig())\n",
    "if not TORCH_VERSION_AT_LEAST_2_5:\n",
    "    # needed for subclass + compile to work on older versions of pytorch\n",
    "    unwrap_tensor_subclass(model)\n",
    "model_c = torch.compile(model, mode='max-autotune')\n",
    "quant_res = benchmark(model_c, image)\n",
    "print(f\"bf16 compiled runtime of the fused quantized block is {quant_res['time']:0.2f}ms and peak memory {quant_res['memory']: 0.2f}GB\")\n",
    "# bf16 compiled runtime of the fused quantized block is 18.78ms and peak memory  2.37GB"
   ]
  },
  {
   "cell_type": "markdown",
   "metadata": {},
   "source": [
    "The fusion improves performance by another small bit (about 6% over the\n",
    "baseline in total) and removes almost all the memory increase, the\n",
    "remaining amount (2.37GB quantized vs 2.24GB unquantized) is due to\n",
    "quantization overhead which cannot be helped.\n",
    "\n",
    "We're still not done though, we can apply a few general purpose\n",
    "optimizations to get our final best-case performance.\n",
    "\n",
    "1)  We can sometimes improve performance by disabling epilogue fusion\n",
    "    since the autotuning process can be confused by fusions and choose\n",
    "    bad kernel parameters.\n",
    "2)  We can apply coordinate descent tuning in all directions to enlarge\n",
    "    the search area for kernel parameters.\n"
   ]
  },
  {
   "cell_type": "code",
   "execution_count": null,
   "metadata": {
    "collapsed": false
   },
   "outputs": [],
   "source": [
    "del model_c, model, image\n",
    "model, image = get_sam_model(only_one_block, batchsize)\n",
    "model = model.to(torch.bfloat16)\n",
    "image = image.to(torch.bfloat16)\n",
    "torch._inductor.config.epilogue_fusion = False\n",
    "torch._inductor.config.coordinate_descent_tuning = True\n",
    "torch._inductor.config.coordinate_descent_check_all_directions = True\n",
    "torch._inductor.config.force_fuse_int_mm_with_mul = True\n",
    "quantize_(model, Int8DynamicActivationInt8WeightConfig())\n",
    "if not TORCH_VERSION_AT_LEAST_2_5:\n",
    "    # needed for subclass + compile to work on older versions of pytorch\n",
    "    unwrap_tensor_subclass(model)\n",
    "model_c = torch.compile(model, mode='max-autotune')\n",
    "quant_res = benchmark(model_c, image)\n",
    "print(f\"bf16 compiled runtime of the final quantized block is {quant_res['time']:0.2f}ms and peak memory {quant_res['memory']: 0.2f}GB\")\n",
    "# bf16 compiled runtime of the final quantized block is 18.16ms and peak memory  2.39GB"
   ]
  },
  {
   "cell_type": "markdown",
   "metadata": {},
   "source": [
    "As you can see, we've squeezed another small improvement from the model,\n",
    "taking our total improvement to over 10x compared to our original. To\n",
    "get a final estimate of the impact of quantization lets do an apples to\n",
    "apples comparison on the full model since the actual improvement will\n",
    "differ block by block depending on the shapes involved.\n"
   ]
  },
  {
   "cell_type": "code",
   "execution_count": null,
   "metadata": {
    "collapsed": false
   },
   "outputs": [],
   "source": [
    "try:\n",
    "    del model_c, model, image\n",
    "    model, image = get_sam_model(False, batchsize)\n",
    "    model = model.to(torch.bfloat16)\n",
    "    image = image.to(torch.bfloat16)\n",
    "    model_c = torch.compile(model, mode='max-autotune')\n",
    "    quant_res = benchmark(model_c, image)\n",
    "    print(f\"bf16 compiled runtime of the compiled full model is {quant_res['time']:0.2f}ms and peak memory {quant_res['memory']: 0.2f}GB\")\n",
    "    # bf16 compiled runtime of the compiled full model is 729.65ms and peak memory  23.96GB\n",
    "\n",
    "    del model_c, model, image\n",
    "    model, image = get_sam_model(False, batchsize)\n",
    "    model = model.to(torch.bfloat16)\n",
    "    image = image.to(torch.bfloat16)\n",
    "    quantize_(model, Int8DynamicActivationInt8WeightConfig())\n",
    "    if not TORCH_VERSION_AT_LEAST_2_5:\n",
    "        # needed for subclass + compile to work on older versions of pytorch\n",
    "        unwrap_tensor_subclass(model)\n",
    "    model_c = torch.compile(model, mode='max-autotune')\n",
    "    quant_res = benchmark(model_c, image)\n",
    "    print(f\"bf16 compiled runtime of the quantized full model is {quant_res['time']:0.2f}ms and peak memory {quant_res['memory']: 0.2f}GB\")\n",
    "    # bf16 compiled runtime of the quantized full model is 677.28ms and peak memory  24.93GB\n",
    "except Exception as e:\n",
    "    print(\"unable to run full model: \", e)"
   ]
  },
  {
   "cell_type": "markdown",
   "metadata": {},
   "source": [
    "Conclusion\n",
    "==========\n",
    "\n",
    "In this tutorial, we have learned about the quantization and\n",
    "optimization techniques on the example of the segment anything model.\n",
    "\n",
    "In the end, we achieved a full-model apples to apples quantization\n",
    "speedup of about 7.7% on batch size 16 (677.28ms to 729.65ms). We can\n",
    "push this a bit further by increasing the batch size and optimizing\n",
    "other parts of the model. For example, this can be done with some form\n",
    "of flash attention.\n",
    "\n",
    "For more information visit [torchao](https://github.com/pytorch/ao) and\n",
    "try it on your own models.\n"
   ]
  }
 ],
 "metadata": {
  "kernelspec": {
   "display_name": "Python 3",
   "language": "python",
   "name": "python3"
  },
  "language_info": {
   "codemirror_mode": {
    "name": "ipython",
    "version": 3
   },
   "file_extension": ".py",
   "mimetype": "text/x-python",
   "name": "python",
   "nbconvert_exporter": "python",
   "pygments_lexer": "ipython3",
   "version": "3.10.12"
  }
 },
 "nbformat": 4,
 "nbformat_minor": 0
}
