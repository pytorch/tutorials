{
 "cells": [
  {
   "cell_type": "code",
   "execution_count": null,
   "metadata": {
    "collapsed": false
   },
   "outputs": [],
   "source": [
    "# For tips on running notebooks in Google Colab, see\n",
    "# https://docs.pytorch.org/tutorials/beginner/colab\n",
    "%matplotlib inline"
   ]
  },
  {
   "cell_type": "markdown",
   "metadata": {},
   "source": [
    "Efficiently writing \\\"sparse\\\" semantics for Adagrad with MaskedTensor\n",
    "======================================================================\n"
   ]
  },
  {
   "cell_type": "markdown",
   "metadata": {},
   "source": [
    "Before working through this tutorial, please review the MaskedTensor\n",
    "[Overview](https://pytorch.org/tutorials/prototype/maskedtensor_overview.html)\n",
    "and\n",
    "[Sparsity](https://pytorch.org/tutorials/prototype/maskedtensor_sparsity.html)\n",
    "tutorials.\n",
    "\n",
    "Introduction and Motivation\n",
    "===========================\n",
    "\n",
    "[Issue 1369](https://github.com/pytorch/pytorch/issues/1369) discussed\n",
    "the additional lines of code that were introduced while writing\n",
    "\\\"sparse\\\" semantics for Adagrad, but really, the code uses sparsity as\n",
    "a proxy for masked semantics rather than the intended use case of\n",
    "sparsity: a compression and optimization technique. Previously, we\n",
    "worked around the lack of formal masked semantics by introducing one-off\n",
    "semantics and operators while forcing users to be aware of storage\n",
    "details such as indices and values.\n",
    "\n",
    "Now that we have masked semantics, we are better equipped to point out\n",
    "when sparsity is used as a semantic extension. We\\'ll also compare and\n",
    "contrast this with equivalent code written using MaskedTensor. In the\n",
    "end the code snippets are repeated without additional comments to show\n",
    "the difference in brevity.\n",
    "\n",
    "Preparation\n",
    "===========\n"
   ]
  },
  {
   "cell_type": "code",
   "execution_count": null,
   "metadata": {
    "collapsed": false
   },
   "outputs": [],
   "source": [
    "import torch\n",
    "import warnings\n",
    "\n",
    "# Disable prototype warnings and such\n",
    "warnings.filterwarnings(action='ignore', category=UserWarning)\n",
    "\n",
    "# Some hyperparameters\n",
    "eps = 1e-10\n",
    "clr = 0.1\n",
    "\n",
    "i = torch.tensor([[0, 1, 1], [2, 0, 2]])\n",
    "v = torch.tensor([3, 4, 5], dtype=torch.float32)\n",
    "grad = torch.sparse_coo_tensor(i, v, [2, 4])"
   ]
  },
  {
   "cell_type": "markdown",
   "metadata": {},
   "source": [
    "Simpler Code with MaskedTensor\n",
    "==============================\n",
    "\n",
    "Before we get too far in the weeds, let\\'s introduce the problem a bit\n",
    "more concretely. We will be taking a look into the [Adagrad\n",
    "(functional)](https://github.com/pytorch/pytorch/blob/6c2f235d368b697072699e5ca9485fd97d0b9bcc/torch/optim/_functional.py#L16-L51)\n",
    "implementation in PyTorch with the ultimate goal of simplifying and more\n",
    "faithfully representing the masked approach.\n",
    "\n",
    "For reference, this is the regular, dense code path without masked\n",
    "gradients or sparsity:\n",
    "\n",
    "``` {.python}\n",
    "state_sum.addcmul_(grad, grad, value=1)\n",
    "std = state_sum.sqrt().add_(eps)\n",
    "param.addcdiv_(grad, std, value=-clr)\n",
    "```\n",
    "\n",
    "The vanilla tensor implementation for sparse is:\n",
    "\n",
    "``` {.python}\n",
    "def _make_sparse(grad, grad_indices, values):\n",
    "    size = grad.size()\n",
    "    if grad_indices.numel() == 0 or values.numel() == 0:\n",
    "        return torch.empty_like(grad)\n",
    "    return torch.sparse_coo_tensor(grad_indices, values, size)\n",
    "\n",
    "grad = grad.coalesce()  # the update is non-linear so indices must be unique\n",
    "grad_indices = grad._indices()\n",
    "grad_values = grad._values()\n",
    "\n",
    "state_sum.add_(_make_sparse(grad, grad_indices, grad_values.pow(2)))   # a different _make_sparse per layout\n",
    "std = state_sum.sparse_mask(grad)\n",
    "std_values = std._values().sqrt_().add_(eps)\n",
    "param.add_(_make_sparse(grad, grad_indices, grad_values / std_values), alpha=-clr)\n",
    "```\n",
    "\n",
    "while `MaskedTensor`{.interpreted-text role=\"class\"} minimizes the code\n",
    "to the snippet:\n",
    "\n",
    "``` {.python}\n",
    "state_sum2 = state_sum2 + masked_grad.pow(2).get_data()\n",
    "std2 = masked_tensor(state_sum2.to_sparse(), mask)\n",
    "std2 = std2.sqrt().add(eps)\n",
    "param2 = param2.add((masked_grad / std2).get_data(), alpha=-clr)\n",
    "```\n",
    "\n",
    "In this tutorial, we will go through each implementation line by line,\n",
    "but at first glance, we can notice (1) how much shorter the MaskedTensor\n",
    "implementation is, and (2) how it avoids conversions between dense and\n",
    "sparse tensors.\n"
   ]
  },
  {
   "cell_type": "markdown",
   "metadata": {},
   "source": [
    "Original Sparse Implementation\n",
    "==============================\n",
    "\n",
    "Now, let\\'s break down the code with some inline comments:\n"
   ]
  },
  {
   "cell_type": "code",
   "execution_count": null,
   "metadata": {
    "collapsed": false
   },
   "outputs": [],
   "source": [
    "def _make_sparse(grad, grad_indices, values):\n",
    "    size = grad.size()\n",
    "    if grad_indices.numel() == 0 or values.numel() == 0:\n",
    "        return torch.empty_like(grad)\n",
    "    return torch.sparse_coo_tensor(grad_indices, values, size)\n",
    "\n",
    "# We don't support sparse gradients\n",
    "param = torch.arange(8).reshape(2, 4).float()\n",
    "state_sum = torch.full_like(param, 0.5)  # initial value for state sum\n",
    "\n",
    "grad = grad.coalesce()  # the update is non-linear so indices must be unique\n",
    "grad_indices = grad._indices()\n",
    "grad_values = grad._values()\n",
    "# pow(2) has the same semantics for both sparse and dense memory layouts since 0^2 is zero\n",
    "state_sum.add_(_make_sparse(grad, grad_indices, grad_values.pow(2)))\n",
    "\n",
    "# We take care to make std sparse, even though state_sum clearly is not.\n",
    "# This means that we're only applying the gradient to parts of the state_sum\n",
    "# for which it is specified. This further drives the point home that the passed gradient is not sparse, but masked.\n",
    "# We currently dodge all these concerns using the private method `_values`.\n",
    "std = state_sum.sparse_mask(grad)\n",
    "std_values = std._values().sqrt_().add_(eps)\n",
    "\n",
    "# Note here that we currently don't support div for sparse Tensors because zero / zero is not well defined,\n",
    "# so we're forced to perform `grad_values / std_values` outside the sparse semantic and then convert back to a\n",
    "# sparse tensor with `make_sparse`.\n",
    "# We'll later see that MaskedTensor will actually handle these operations for us as well as properly denote\n",
    "# undefined / undefined = undefined!\n",
    "param.add_(_make_sparse(grad, grad_indices, grad_values / std_values), alpha=-clr)"
   ]
  },
  {
   "cell_type": "markdown",
   "metadata": {},
   "source": [
    "The third to last line \\-- [std =\n",
    "state\\_sum.sparse\\_mask(grad)]{.title-ref} \\-- is where we have a very\n",
    "important divergence.\n",
    "\n",
    "The addition of eps should technically be applied to all values but\n",
    "instead is only applied to specified values. Here we\\'re using sparsity\n",
    "as a semantic extension and to enforce a certain pattern of defined and\n",
    "undefined values. If parts of the values of the gradient are zero, they\n",
    "are still included if materialized even though they could be compressed\n",
    "by other sparse storage layouts. This is theoretically quite brittle!\n",
    "That said, one could argue that eps is always very small, so it might\n",
    "not matter so much in practice.\n",
    "\n",
    "Moreover, an implementation [add\\_]{.title-ref} for sparsity as a\n",
    "storage layout and compression scheme should cause densification, but we\n",
    "force it not to for performance. For this one-off case it is fine..\n",
    "until we want to introduce new compression scheme, such as\n",
    "[CSC](https://pytorch.org/docs/master/sparse.html#sparse-csc-docs),\n",
    "[BSR](https://pytorch.org/docs/master/sparse.html#sparse-bsr-docs), or\n",
    "[BSC](https://pytorch.org/docs/master/sparse.html#sparse-bsc-docs). We\n",
    "will then need to introduce separate Tensor types for each and write\n",
    "variations for gradients compressed using different storage formats,\n",
    "which is inconvenient and not quite scalable nor clean.\n",
    "\n",
    "MaskedTensor Sparse Implementation\n",
    "==================================\n",
    "\n",
    "We\\'ve been conflating sparsity as an optimization with sparsity as a\n",
    "semantic extension to PyTorch. MaskedTensor proposes to disentangle the\n",
    "sparsity optimization from the semantic extension; for example,\n",
    "currently we can\\'t have dense semantics with sparse storage or masked\n",
    "semantics with dense storage. MaskedTensor enables these ideas by\n",
    "purposefully separating the storage from the semantics.\n",
    "\n",
    "Consider the above example using a masked gradient:\n"
   ]
  },
  {
   "cell_type": "code",
   "execution_count": null,
   "metadata": {
    "collapsed": false
   },
   "outputs": [],
   "source": [
    "# Let's now import MaskedTensor!\n",
    "from torch.masked import masked_tensor\n",
    "\n",
    "# Create an entirely new set of parameters to avoid errors\n",
    "param2 = torch.arange(8).reshape(2, 4).float()\n",
    "state_sum2 = torch.full_like(param, 0.5)  # initial value for state sum\n",
    "\n",
    "mask = (grad.to_dense() != 0).to_sparse()\n",
    "masked_grad = masked_tensor(grad, mask)\n",
    "\n",
    "state_sum2 = state_sum2 + masked_grad.pow(2).get_data()\n",
    "std2 = masked_tensor(state_sum2.to_sparse(), mask)\n",
    "\n",
    "# We can add support for in-place operations later. Notice how this doesn't\n",
    "# need to access any storage internals and is in general a lot shorter\n",
    "std2 = std2.sqrt().add(eps)\n",
    "\n",
    "param2 = param2.add((masked_grad / std2).get_data(), alpha=-clr)"
   ]
  },
  {
   "cell_type": "markdown",
   "metadata": {},
   "source": [
    "Note that the implementations look quite similar, but the MaskedTensor\n",
    "implementation is shorter and simpler. In particular, much of the\n",
    "boilerplate code around `_make_sparse` (and needing to have a separate\n",
    "implementation per layout) is handled for the user with\n",
    "`MaskedTensor`{.interpreted-text role=\"class\"}.\n",
    "\n",
    "At this point, let\\'s print both this version and original version for\n",
    "easier comparison:\n"
   ]
  },
  {
   "cell_type": "code",
   "execution_count": null,
   "metadata": {
    "collapsed": false
   },
   "outputs": [],
   "source": [
    "print(\"state_sum:\\n\", state_sum)\n",
    "print(\"state_sum2:\\n\", state_sum2)"
   ]
  },
  {
   "cell_type": "code",
   "execution_count": null,
   "metadata": {
    "collapsed": false
   },
   "outputs": [],
   "source": [
    "print(\"std:\\n\", std)\n",
    "print(\"std2:\\n\", std2)"
   ]
  },
  {
   "cell_type": "code",
   "execution_count": null,
   "metadata": {
    "collapsed": false
   },
   "outputs": [],
   "source": [
    "print(\"param:\\n\", param)\n",
    "print(\"param2:\\n\", param2)"
   ]
  },
  {
   "cell_type": "markdown",
   "metadata": {},
   "source": [
    "Conclusion\n",
    "==========\n",
    "\n",
    "In this tutorial, we\\'ve discussed how native masked semantics can\n",
    "enable a cleaner developer experience for Adagrad\\'s existing\n",
    "implementation in PyTorch, which used sparsity as a proxy for writing\n",
    "masked semantics. But more importantly, allowing masked semantics to be\n",
    "a first class citizen through MaskedTensor removes the reliance on\n",
    "sparsity or unreliable hacks to mimic masking, thereby allowing for\n",
    "proper independence and development, while enabling sparse semantics,\n",
    "such as this one.\n",
    "\n",
    "Further Reading\n",
    "===============\n",
    "\n",
    "To continue learning more, you can find our final review (for now) on\n",
    "[MaskedTensor Advanced\n",
    "Semantics](https://pytorch.org/tutorials/prototype/maskedtensor_advanced_semantics.html)\n",
    "to see some of the differences in design decisions between\n",
    "`MaskedTensor`{.interpreted-text role=\"class\"} and NumPy\\'s MaskedArray,\n",
    "as well as reduction semantics.\n"
   ]
  }
 ],
 "metadata": {
  "kernelspec": {
   "display_name": "Python 3",
   "language": "python",
   "name": "python3"
  },
  "language_info": {
   "codemirror_mode": {
    "name": "ipython",
    "version": 3
   },
   "file_extension": ".py",
   "mimetype": "text/x-python",
   "name": "python",
   "nbconvert_exporter": "python",
   "pygments_lexer": "ipython3",
   "version": "3.10.12"
  }
 },
 "nbformat": 4,
 "nbformat_minor": 0
}
