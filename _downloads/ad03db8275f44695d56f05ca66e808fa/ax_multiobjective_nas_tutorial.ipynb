{
 "cells": [
  {
   "cell_type": "code",
   "execution_count": null,
   "metadata": {
    "collapsed": false
   },
   "outputs": [],
   "source": [
    "# For tips on running notebooks in Google Colab, see\n",
    "# https://docs.pytorch.org/tutorials/beginner/colab\n",
    "%matplotlib inline"
   ]
  },
  {
   "cell_type": "markdown",
   "metadata": {},
   "source": [
    "Multi-Objective NAS with Ax\n",
    "===========================\n",
    "\n",
    "**Authors:** [David Eriksson](https://github.com/dme65), [Max\n",
    "Balandat](https://github.com/Balandat), and the Adaptive Experimentation\n",
    "team at Meta.\n",
    "\n",
    "In this tutorial, we show how to use [Ax](https://ax.dev/) to run\n",
    "multi-objective neural architecture search (NAS) for a simple neural\n",
    "network model on the popular MNIST dataset. While the underlying\n",
    "methodology would typically be used for more complicated models and\n",
    "larger datasets, we opt for a tutorial that is easily runnable\n",
    "end-to-end on a laptop in less than 20 minutes.\n",
    "\n",
    "In many NAS applications, there is a natural tradeoff between multiple\n",
    "objectives of interest. For instance, when deploying models on-device we\n",
    "may want to maximize model performance (for example, accuracy), while\n",
    "simultaneously minimizing competing metrics like power consumption,\n",
    "inference latency, or model size in order to satisfy deployment\n",
    "constraints. Often, we may be able to reduce computational requirements\n",
    "or latency of predictions substantially by accepting minimally lower\n",
    "model performance. Principled methods for exploring such tradeoffs\n",
    "efficiently are key enablers of scalable and sustainable AI, and have\n",
    "many successful applications at Meta - see for instance our [case\n",
    "study](https://research.facebook.com/blog/2021/07/optimizing-model-accuracy-and-latency-using-bayesian-multi-objective-neural-architecture-search/)\n",
    "on a Natural Language Understanding model.\n",
    "\n",
    "In our example here, we will tune the widths of two hidden layers, the\n",
    "learning rate, the dropout probability, the batch size, and the number\n",
    "of training epochs. The goal is to trade off performance (accuracy on\n",
    "the validation set) and model size (the number of model parameters).\n",
    "\n",
    "This tutorial makes use of the following PyTorch libraries:\n",
    "\n",
    "-   [PyTorch\n",
    "    Lightning](https://github.com/PyTorchLightning/pytorch-lightning)\n",
    "    (specifying the model and training loop)\n",
    "-   [TorchX](https://github.com/pytorch/torchx) (for running training\n",
    "    jobs remotely / asynchronously)\n",
    "-   [BoTorch](https://github.com/pytorch/botorch) (the Bayesian\n",
    "    Optimization library powering Ax\\'s algorithms)\n"
   ]
  },
  {
   "cell_type": "markdown",
   "metadata": {},
   "source": [
    "Defining the TorchX App\n",
    "=======================\n",
    "\n",
    "Our goal is to optimize the PyTorch Lightning training job defined in\n",
    "[mnist\\_train\\_nas.py](https://github.com/pytorch/tutorials/tree/main/intermediate_source/mnist_train_nas.py).\n",
    "To do this using TorchX, we write a helper function that takes in the\n",
    "values of the architecture and hyperparameters of the training job and\n",
    "creates a [TorchX AppDef](https://pytorch.org/torchx/latest/basics.html)\n",
    "with the appropriate settings.\n"
   ]
  },
  {
   "cell_type": "code",
   "execution_count": null,
   "metadata": {
    "collapsed": false
   },
   "outputs": [],
   "source": [
    "from pathlib import Path\n",
    "\n",
    "import torchx\n",
    "\n",
    "from torchx import specs\n",
    "from torchx.components import utils\n",
    "\n",
    "\n",
    "def trainer(\n",
    "    log_path: str,\n",
    "    hidden_size_1: int,\n",
    "    hidden_size_2: int,\n",
    "    learning_rate: float,\n",
    "    epochs: int,\n",
    "    dropout: float,\n",
    "    batch_size: int,\n",
    "    trial_idx: int = -1,\n",
    ") -> specs.AppDef:\n",
    "\n",
    "    # define the log path so we can pass it to the TorchX ``AppDef``\n",
    "    if trial_idx >= 0:\n",
    "        log_path = Path(log_path).joinpath(str(trial_idx)).absolute().as_posix()\n",
    "\n",
    "    return utils.python(\n",
    "        # command line arguments to the training script\n",
    "        \"--log_path\",\n",
    "        log_path,\n",
    "        \"--hidden_size_1\",\n",
    "        str(hidden_size_1),\n",
    "        \"--hidden_size_2\",\n",
    "        str(hidden_size_2),\n",
    "        \"--learning_rate\",\n",
    "        str(learning_rate),\n",
    "        \"--epochs\",\n",
    "        str(epochs),\n",
    "        \"--dropout\",\n",
    "        str(dropout),\n",
    "        \"--batch_size\",\n",
    "        str(batch_size),\n",
    "        # other config options\n",
    "        name=\"trainer\",\n",
    "        script=\"mnist_train_nas.py\",\n",
    "        image=torchx.version.TORCHX_IMAGE,\n",
    "    )"
   ]
  },
  {
   "cell_type": "markdown",
   "metadata": {},
   "source": [
    "Setting up the Runner\n",
    "=====================\n",
    "\n",
    "Ax's [Runner](https://ax.dev/api/core.html#ax.core.runner.Runner)\n",
    "abstraction allows writing interfaces to various backends. Ax already\n",
    "comes with Runner for TorchX, and so we just need to configure it. For\n",
    "the purpose of this tutorial we run jobs locally in a fully asynchronous\n",
    "fashion.\n",
    "\n",
    "In order to launch them on a cluster, you can instead specify a\n",
    "different TorchX scheduler and adjust the configuration appropriately.\n",
    "For example, if you have a Kubernetes cluster, you just need to change\n",
    "the scheduler from `local_cwd` to `kubernetes`).\n"
   ]
  },
  {
   "cell_type": "code",
   "execution_count": null,
   "metadata": {
    "collapsed": false
   },
   "outputs": [],
   "source": [
    "import tempfile\n",
    "from ax.runners.torchx import TorchXRunner\n",
    "\n",
    "# Make a temporary dir to log our results into\n",
    "log_dir = tempfile.mkdtemp()\n",
    "\n",
    "ax_runner = TorchXRunner(\n",
    "    tracker_base=\"/tmp/\",\n",
    "    component=trainer,\n",
    "    # NOTE: To launch this job on a cluster instead of locally you can\n",
    "    # specify a different scheduler and adjust arguments appropriately.\n",
    "    scheduler=\"local_cwd\",\n",
    "    component_const_params={\"log_path\": log_dir},\n",
    "    cfg={},\n",
    ")"
   ]
  },
  {
   "cell_type": "markdown",
   "metadata": {},
   "source": [
    "Setting up the `SearchSpace`\n",
    "============================\n",
    "\n",
    "First, we define our search space. Ax supports both range parameters of\n",
    "type integer and float as well as choice parameters which can have\n",
    "non-numerical types such as strings. We will tune the hidden sizes,\n",
    "learning rate, dropout, and number of epochs as range parameters and\n",
    "tune the batch size as an ordered choice parameter to enforce it to be a\n",
    "power of 2.\n"
   ]
  },
  {
   "cell_type": "code",
   "execution_count": null,
   "metadata": {
    "collapsed": false
   },
   "outputs": [],
   "source": [
    "from ax.core import (\n",
    "    ChoiceParameter,\n",
    "    ParameterType,\n",
    "    RangeParameter,\n",
    "    SearchSpace,\n",
    ")\n",
    "\n",
    "parameters = [\n",
    "    # NOTE: In a real-world setting, hidden_size_1 and hidden_size_2\n",
    "    # should probably be powers of 2, but in our simple example this\n",
    "    # would mean that ``num_params`` can't take on that many values, which\n",
    "    # in turn makes the Pareto frontier look pretty weird.\n",
    "    RangeParameter(\n",
    "        name=\"hidden_size_1\",\n",
    "        lower=16,\n",
    "        upper=128,\n",
    "        parameter_type=ParameterType.INT,\n",
    "        log_scale=True,\n",
    "    ),\n",
    "    RangeParameter(\n",
    "        name=\"hidden_size_2\",\n",
    "        lower=16,\n",
    "        upper=128,\n",
    "        parameter_type=ParameterType.INT,\n",
    "        log_scale=True,\n",
    "    ),\n",
    "    RangeParameter(\n",
    "        name=\"learning_rate\",\n",
    "        lower=1e-4,\n",
    "        upper=1e-2,\n",
    "        parameter_type=ParameterType.FLOAT,\n",
    "        log_scale=True,\n",
    "    ),\n",
    "    RangeParameter(\n",
    "        name=\"epochs\",\n",
    "        lower=1,\n",
    "        upper=4,\n",
    "        parameter_type=ParameterType.INT,\n",
    "    ),\n",
    "    RangeParameter(\n",
    "        name=\"dropout\",\n",
    "        lower=0.0,\n",
    "        upper=0.5,\n",
    "        parameter_type=ParameterType.FLOAT,\n",
    "    ),\n",
    "    ChoiceParameter(  # NOTE: ``ChoiceParameters`` don't require log-scale\n",
    "        name=\"batch_size\",\n",
    "        values=[32, 64, 128, 256],\n",
    "        parameter_type=ParameterType.INT,\n",
    "        is_ordered=True,\n",
    "        sort_values=True,\n",
    "    ),\n",
    "]\n",
    "\n",
    "search_space = SearchSpace(\n",
    "    parameters=parameters,\n",
    "    # NOTE: In practice, it may make sense to add a constraint\n",
    "    # hidden_size_2 <= hidden_size_1\n",
    "    parameter_constraints=[],\n",
    ")"
   ]
  },
  {
   "cell_type": "markdown",
   "metadata": {},
   "source": [
    "Setting up Metrics\n",
    "==================\n",
    "\n",
    "Ax has the concept of a [Metric](https://ax.dev/api/core.html#metric)\n",
    "that defines properties of outcomes and how observations are obtained\n",
    "for these outcomes. This allows e.g. encoding how data is fetched from\n",
    "some distributed execution backend and post-processed before being\n",
    "passed as input to Ax.\n",
    "\n",
    "In this tutorial we will use [multi-objective\n",
    "optimization](https://ax.dev/tutorials/multiobjective_optimization.html)\n",
    "with the goal of maximizing the validation accuracy and minimizing the\n",
    "number of model parameters. The latter represents a simple proxy of\n",
    "model latency, which is hard to estimate accurately for small ML models\n",
    "(in an actual application we would benchmark the latency while running\n",
    "the model on-device).\n",
    "\n",
    "In our example TorchX will run the training jobs in a fully asynchronous\n",
    "fashion locally and write the results to the `log_dir` based on the\n",
    "trial index (see the `trainer()` function above). We will define a\n",
    "metric class that is aware of that logging directory. By subclassing\n",
    "[TensorboardCurveMetric](https://ax.dev/api/metrics.html?highlight=tensorboardcurvemetric#ax.metrics.tensorboard.TensorboardCurveMetric)\n",
    "we get the logic to read and parse the TensorBoard logs for free.\n"
   ]
  },
  {
   "cell_type": "code",
   "execution_count": null,
   "metadata": {
    "collapsed": false
   },
   "outputs": [],
   "source": [
    "from ax.metrics.tensorboard import TensorboardMetric\n",
    "from tensorboard.backend.event_processing import plugin_event_multiplexer as event_multiplexer\n",
    "\n",
    "class MyTensorboardMetric(TensorboardMetric):\n",
    "\n",
    "    # NOTE: We need to tell the new TensorBoard metric how to get the id /\n",
    "    # file handle for the TensorBoard logs from a trial. In this case\n",
    "    # our convention is to just save a separate file per trial in\n",
    "    # the prespecified log dir.\n",
    "    def _get_event_multiplexer_for_trial(self, trial):\n",
    "        mul = event_multiplexer.EventMultiplexer(max_reload_threads=20)\n",
    "        mul.AddRunsFromDirectory(Path(log_dir).joinpath(str(trial.index)).as_posix(), None)\n",
    "        mul.Reload()\n",
    "    \n",
    "        return mul\n",
    "\n",
    "    # This indicates whether the metric is queryable while the trial is\n",
    "    # still running. We don't use this in the current tutorial, but Ax\n",
    "    # utilizes this to implement trial-level early-stopping functionality.\n",
    "    @classmethod\n",
    "    def is_available_while_running(cls):\n",
    "        return False"
   ]
  },
  {
   "cell_type": "markdown",
   "metadata": {},
   "source": [
    "Now we can instantiate the metrics for accuracy and the number of model\n",
    "parameters. Here [curve\\_name]{.title-ref} is the name of the metric in\n",
    "the TensorBoard logs, while [name]{.title-ref} is the metric name used\n",
    "internally by Ax. We also specify [lower\\_is\\_better]{.title-ref} to\n",
    "indicate the favorable direction of the two metrics.\n"
   ]
  },
  {
   "cell_type": "code",
   "execution_count": null,
   "metadata": {
    "collapsed": false
   },
   "outputs": [],
   "source": [
    "val_acc = MyTensorboardMetric(\n",
    "    name=\"val_acc\",\n",
    "    tag=\"val_acc\",\n",
    "    lower_is_better=False,\n",
    ")\n",
    "model_num_params = MyTensorboardMetric(\n",
    "    name=\"num_params\",\n",
    "    tag=\"num_params\",\n",
    "    lower_is_better=True,\n",
    ")"
   ]
  },
  {
   "cell_type": "markdown",
   "metadata": {},
   "source": [
    "Setting up the `OptimizationConfig`\n",
    "===================================\n",
    "\n",
    "The way to tell Ax what it should optimize is by means of an\n",
    "[OptimizationConfig](https://ax.dev/api/core.html#module-ax.core.optimization_config).\n",
    "Here we use a `MultiObjectiveOptimizationConfig` as we will be\n",
    "performing multi-objective optimization.\n",
    "\n",
    "Additionally, Ax supports placing constraints on the different metrics\n",
    "by specifying objective thresholds, which bound the region of interest\n",
    "in the outcome space that we want to explore. For this example, we will\n",
    "constrain the validation accuracy to be at least 0.94 (94%) and the\n",
    "number of model parameters to be at most 80,000.\n"
   ]
  },
  {
   "cell_type": "code",
   "execution_count": null,
   "metadata": {
    "collapsed": false
   },
   "outputs": [],
   "source": [
    "from ax.core import MultiObjective, Objective, ObjectiveThreshold\n",
    "from ax.core.optimization_config import MultiObjectiveOptimizationConfig\n",
    "\n",
    "\n",
    "opt_config = MultiObjectiveOptimizationConfig(\n",
    "    objective=MultiObjective(\n",
    "        objectives=[\n",
    "            Objective(metric=val_acc, minimize=False),\n",
    "            Objective(metric=model_num_params, minimize=True),\n",
    "        ],\n",
    "    ),\n",
    "    objective_thresholds=[\n",
    "        ObjectiveThreshold(metric=val_acc, bound=0.94, relative=False),\n",
    "        ObjectiveThreshold(metric=model_num_params, bound=80_000, relative=False),\n",
    "    ],\n",
    ")"
   ]
  },
  {
   "cell_type": "markdown",
   "metadata": {},
   "source": [
    "Creating the Ax Experiment\n",
    "==========================\n",
    "\n",
    "In Ax, the\n",
    "[Experiment](https://ax.dev/api/core.html#ax.core.experiment.Experiment)\n",
    "object is the object that stores all the information about the problem\n",
    "setup.\n"
   ]
  },
  {
   "cell_type": "code",
   "execution_count": null,
   "metadata": {
    "collapsed": false
   },
   "outputs": [],
   "source": [
    "from ax.core import Experiment\n",
    "\n",
    "experiment = Experiment(\n",
    "    name=\"torchx_mnist\",\n",
    "    search_space=search_space,\n",
    "    optimization_config=opt_config,\n",
    "    runner=ax_runner,\n",
    ")"
   ]
  },
  {
   "cell_type": "markdown",
   "metadata": {},
   "source": [
    "Choosing the Generation Strategy\n",
    "================================\n",
    "\n",
    "A\n",
    "[GenerationStrategy](https://ax.dev/api/modelbridge.html#ax.modelbridge.generation_strategy.GenerationStrategy)\n",
    "is the abstract representation of how we would like to perform the\n",
    "optimization. While this can be customized (if you'd like to do so, see\n",
    "[this tutorial](https://ax.dev/tutorials/generation_strategy.html)), in\n",
    "most cases Ax can automatically determine an appropriate strategy based\n",
    "on the search space, optimization config, and the total number of trials\n",
    "we want to run.\n",
    "\n",
    "Typically, Ax chooses to evaluate a number of random configurations\n",
    "before starting a model-based Bayesian Optimization strategy.\n"
   ]
  },
  {
   "cell_type": "code",
   "execution_count": null,
   "metadata": {
    "collapsed": false
   },
   "outputs": [],
   "source": [
    "total_trials = 48  # total evaluation budget\n",
    "\n",
    "from ax.modelbridge.dispatch_utils import choose_generation_strategy\n",
    "\n",
    "gs = choose_generation_strategy(\n",
    "    search_space=experiment.search_space,\n",
    "    optimization_config=experiment.optimization_config,\n",
    "    num_trials=total_trials,\n",
    "  )"
   ]
  },
  {
   "cell_type": "markdown",
   "metadata": {},
   "source": [
    "Configuring the Scheduler\n",
    "=========================\n",
    "\n",
    "The `Scheduler` acts as the loop control for the optimization. It\n",
    "communicates with the backend to launch trials, check their status, and\n",
    "retrieve results. In the case of this tutorial, it is simply reading and\n",
    "parsing the locally saved logs. In a remote execution setting, it would\n",
    "call APIs. The following illustration from the Ax [Scheduler\n",
    "tutorial](https://ax.dev/tutorials/scheduler.html) summarizes how the\n",
    "Scheduler interacts with external systems used to run trial evaluations:\n",
    "\n",
    "![image](https://pytorch.org/tutorials/_static/img/ax_scheduler_illustration.png)\n",
    "\n",
    "The `Scheduler` requires the `Experiment` and the `GenerationStrategy`.\n",
    "A set of options can be passed in via `SchedulerOptions`. Here, we\n",
    "configure the number of total evaluations as well as\n",
    "`max_pending_trials`, the maximum number of trials that should run\n",
    "concurrently. In our local setting, this is the number of training jobs\n",
    "running as individual processes, while in a remote execution setting,\n",
    "this would be the number of machines you want to use in parallel.\n"
   ]
  },
  {
   "cell_type": "code",
   "execution_count": null,
   "metadata": {
    "collapsed": false
   },
   "outputs": [],
   "source": [
    "from ax.service.scheduler import Scheduler, SchedulerOptions\n",
    "\n",
    "scheduler = Scheduler(\n",
    "    experiment=experiment,\n",
    "    generation_strategy=gs,\n",
    "    options=SchedulerOptions(\n",
    "        total_trials=total_trials, max_pending_trials=4\n",
    "    ),\n",
    ")"
   ]
  },
  {
   "cell_type": "markdown",
   "metadata": {},
   "source": [
    "Running the optimization\n",
    "========================\n",
    "\n",
    "Now that everything is configured, we can let Ax run the optimization in\n",
    "a fully automated fashion. The Scheduler will periodically check the\n",
    "logs for the status of all currently running trials, and if a trial\n",
    "completes the scheduler will update its status on the experiment and\n",
    "fetch the observations needed for the Bayesian optimization algorithm.\n"
   ]
  },
  {
   "cell_type": "code",
   "execution_count": null,
   "metadata": {
    "collapsed": false
   },
   "outputs": [],
   "source": [
    "scheduler.run_all_trials()"
   ]
  },
  {
   "cell_type": "markdown",
   "metadata": {},
   "source": [
    "Evaluating the results\n",
    "======================\n",
    "\n",
    "We can now inspect the result of the optimization using helper functions\n",
    "and visualizations included with Ax.\n"
   ]
  },
  {
   "cell_type": "markdown",
   "metadata": {},
   "source": [
    "First, we generate a dataframe with a summary of the results of the\n",
    "experiment. Each row in this dataframe corresponds to a trial (that is,\n",
    "a training job that was run), and contains information on the status of\n",
    "the trial, the parameter configuration that was evaluated, and the\n",
    "metric values that were observed. This provides an easy way to sanity\n",
    "check the optimization.\n"
   ]
  },
  {
   "cell_type": "code",
   "execution_count": null,
   "metadata": {
    "collapsed": false
   },
   "outputs": [],
   "source": [
    "from ax.service.utils.report_utils import exp_to_df\n",
    "\n",
    "df = exp_to_df(experiment)\n",
    "df.head(10)"
   ]
  },
  {
   "cell_type": "markdown",
   "metadata": {},
   "source": [
    "We can also visualize the Pareto frontier of tradeoffs between the\n",
    "validation accuracy and the number of model parameters.\n",
    "\n",
    "<div style=\"background-color: #6bcebb; color: #fff; font-weight: 700; padding-left: 10px; padding-top: 5px; padding-bottom: 5px\"><strong>TIP:</strong></div>\n",
    "\n",
    "<div style=\"background-color: #f3f4f7; padding-left: 10px; padding-top: 10px; padding-bottom: 10px; padding-right: 10px\">\n",
    "\n",
    "<p>Ax uses Plotly to produce interactive plots, which allow you todo things like zoom, crop, or hover in order to view detailsof components of the plot. Try it out, and take a look at the<a href=\"https://ax.dev/tutorials/visualizations.html\">visualization tutorial</a>if you'd like to learn more).</p>\n",
    "\n",
    "</div>\n",
    "\n",
    "The final optimization results are shown in the figure below where the\n",
    "color corresponds to the iteration number for each trial. We see that\n",
    "our method was able to successfully explore the trade-offs and found\n",
    "both large models with high validation accuracy as well as small models\n",
    "with comparatively lower validation accuracy.\n"
   ]
  },
  {
   "cell_type": "code",
   "execution_count": null,
   "metadata": {
    "collapsed": false
   },
   "outputs": [],
   "source": [
    "from ax.service.utils.report_utils import _pareto_frontier_scatter_2d_plotly\n",
    "\n",
    "_pareto_frontier_scatter_2d_plotly(experiment)"
   ]
  },
  {
   "cell_type": "markdown",
   "metadata": {},
   "source": [
    "To better understand what our surrogate models have learned about the\n",
    "black box objectives, we can take a look at the leave-one-out cross\n",
    "validation results. Since our models are Gaussian Processes, they not\n",
    "only provide point predictions but also uncertainty estimates about\n",
    "these predictions. A good model means that the predicted means (the\n",
    "points in the figure) are close to the 45 degree line and that the\n",
    "confidence intervals cover the 45 degree line with the expected\n",
    "frequency (here we use 95% confidence intervals, so we would expect them\n",
    "to contain the true observation 95% of the time).\n",
    "\n",
    "As the figures below show, the model size (`num_params`) metric is much\n",
    "easier to model than the validation accuracy (`val_acc`) metric.\n"
   ]
  },
  {
   "cell_type": "code",
   "execution_count": null,
   "metadata": {
    "collapsed": false
   },
   "outputs": [],
   "source": [
    "from ax.modelbridge.cross_validation import compute_diagnostics, cross_validate\n",
    "from ax.plot.diagnostic import interact_cross_validation_plotly\n",
    "from ax.utils.notebook.plotting import init_notebook_plotting, render\n",
    "\n",
    "cv = cross_validate(model=gs.model)  # The surrogate model is stored on the ``GenerationStrategy``\n",
    "compute_diagnostics(cv)\n",
    "\n",
    "interact_cross_validation_plotly(cv)"
   ]
  },
  {
   "cell_type": "markdown",
   "metadata": {},
   "source": [
    "We can also make contour plots to better understand how the different\n",
    "objectives depend on two of the input parameters. In the figure below,\n",
    "we show the validation accuracy predicted by the model as a function of\n",
    "the two hidden sizes. The validation accuracy clearly increases as the\n",
    "hidden sizes increase.\n"
   ]
  },
  {
   "cell_type": "code",
   "execution_count": null,
   "metadata": {
    "collapsed": false
   },
   "outputs": [],
   "source": [
    "from ax.plot.contour import interact_contour_plotly\n",
    "\n",
    "interact_contour_plotly(model=gs.model, metric_name=\"val_acc\")"
   ]
  },
  {
   "cell_type": "markdown",
   "metadata": {},
   "source": [
    "Similarly, we show the number of model parameters as a function of the\n",
    "hidden sizes in the figure below and see that it also increases as a\n",
    "function of the hidden sizes (the dependency on `hidden_size_1` is much\n",
    "larger).\n"
   ]
  },
  {
   "cell_type": "code",
   "execution_count": null,
   "metadata": {
    "collapsed": false
   },
   "outputs": [],
   "source": [
    "interact_contour_plotly(model=gs.model, metric_name=\"num_params\")"
   ]
  },
  {
   "cell_type": "markdown",
   "metadata": {},
   "source": [
    "Acknowledgments\n",
    "===============\n",
    "\n",
    "We thank the TorchX team (in particular Kiuk Chung and Tristan Rice) for\n",
    "their help with integrating TorchX with Ax.\n"
   ]
  }
 ],
 "metadata": {
  "kernelspec": {
   "display_name": "Python 3",
   "language": "python",
   "name": "python3"
  },
  "language_info": {
   "codemirror_mode": {
    "name": "ipython",
    "version": 3
   },
   "file_extension": ".py",
   "mimetype": "text/x-python",
   "name": "python",
   "nbconvert_exporter": "python",
   "pygments_lexer": "ipython3",
   "version": "3.10.12"
  }
 },
 "nbformat": 4,
 "nbformat_minor": 0
}
