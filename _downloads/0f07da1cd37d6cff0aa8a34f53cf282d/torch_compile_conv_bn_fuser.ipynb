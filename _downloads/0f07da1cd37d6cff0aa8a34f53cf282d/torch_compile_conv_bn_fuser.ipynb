{
 "cells": [
  {
   "cell_type": "code",
   "execution_count": null,
   "metadata": {
    "collapsed": false
   },
   "outputs": [],
   "source": [
    "# For tips on running notebooks in Google Colab, see\n",
    "# https://docs.pytorch.org/tutorials/beginner/colab\n",
    "%matplotlib inline"
   ]
  },
  {
   "cell_type": "markdown",
   "metadata": {},
   "source": [
    "Building a Convolution/Batch Norm fuser with torch.compile\n",
    "==========================================================\n",
    "\n",
    "**Author:** [Horace He](https://github.com/chillee), [Will\n",
    "Feng](https://github.com/yf225)\n",
    "\n",
    "<div style=\"width: 45%; float: left; padding: 20px;\"><h2> What you will learn</h2><ul><li>How to register custom fusion patterns with torch.compile's pattern matcher</li></ul></div><div style=\"width: 45%; float: right; padding: 20px;\"><h2> Prerequisites</h2><ul><li>PyTorch v2.7.0</li></ul></div>\n",
    "\n",
    "<div style=\"background-color: #54c7ec; color: #fff; font-weight: 700; padding-left: 10px; padding-top: 5px; padding-bottom: 5px\"><strong>NOTE:</strong></div>\n",
    "\n",
    "<div style=\"background-color: #f3f4f7; padding-left: 10px; padding-top: 10px; padding-bottom: 10px; padding-right: 10px\">\n",
    "\n",
    "<p>This optimization only works for models in inference mode (i.e. <code>model.eval()</code>).However, torch.compile's pattern matching system works for both training and inference.</p>\n",
    "\n",
    "</div>\n",
    "\n"
   ]
  },
  {
   "cell_type": "markdown",
   "metadata": {},
   "source": [
    "First, let\\'s get some imports out of the way (we will be using all of\n",
    "these later in the code).\n"
   ]
  },
  {
   "cell_type": "code",
   "execution_count": null,
   "metadata": {
    "collapsed": false
   },
   "outputs": [],
   "source": [
    "from typing import Type, Dict, Any, Tuple, Iterable\n",
    "import copy\n",
    "import torch\n",
    "import torch.nn as nn\n",
    "\n",
    "device = torch.device(\"cuda\" if torch.cuda.is_available() else \"cpu\")"
   ]
  },
  {
   "cell_type": "markdown",
   "metadata": {},
   "source": [
    "For this tutorial, we are going to create a model consisting of\n",
    "convolutions and batch norms. Note that this model has some tricky\n",
    "components - some of the conv/batch norm patterns are hidden within\n",
    "Sequentials and one of the `BatchNorms` is wrapped in another Module.\n"
   ]
  },
  {
   "cell_type": "code",
   "execution_count": null,
   "metadata": {
    "collapsed": false
   },
   "outputs": [],
   "source": [
    "class WrappedBatchNorm(nn.Module):\n",
    "    def __init__(self):\n",
    "        super().__init__()\n",
    "        self.mod = nn.BatchNorm2d(1)\n",
    "    def forward(self, x):\n",
    "        return self.mod(x)\n",
    "\n",
    "class M(nn.Module):\n",
    "    def __init__(self):\n",
    "        super().__init__()\n",
    "        self.conv1 = nn.Conv2d(1, 1, 1)\n",
    "        self.bn1 = nn.BatchNorm2d(1)\n",
    "        self.conv2 = nn.Conv2d(1, 1, 1)\n",
    "        self.nested = nn.Sequential(\n",
    "            nn.BatchNorm2d(1),\n",
    "            nn.Conv2d(1, 1, 1),\n",
    "        )\n",
    "        self.wrapped = WrappedBatchNorm()\n",
    "\n",
    "    def forward(self, x):\n",
    "        x = self.conv1(x)\n",
    "        x = self.bn1(x)\n",
    "        x = self.conv2(x)\n",
    "        x = self.nested(x)\n",
    "        x = self.wrapped(x)\n",
    "        return x\n",
    "\n",
    "model = M().to(device)\n",
    "model.eval()"
   ]
  },
  {
   "cell_type": "markdown",
   "metadata": {},
   "source": [
    "Fusing Convolution with Batch Norm\n",
    "==================================\n",
    "\n",
    "One of the primary challenges with trying to automatically fuse\n",
    "convolution and batch norm in PyTorch is that PyTorch does not provide\n",
    "an easy way of accessing the computational graph. torch.compile resolves\n",
    "this problem by capturing the computational graph during compilation,\n",
    "allowing us to apply pattern-based optimizations across the entire\n",
    "model, including operations nested within Sequential modules or wrapped\n",
    "in custom modules.\n"
   ]
  },
  {
   "cell_type": "code",
   "execution_count": null,
   "metadata": {
    "collapsed": false
   },
   "outputs": [],
   "source": [
    "import torch._inductor.pattern_matcher as pm\n",
    "from torch._inductor.pattern_matcher import register_replacement"
   ]
  },
  {
   "cell_type": "markdown",
   "metadata": {},
   "source": [
    "torch.compile will capture a graph representation of our model. During\n",
    "compilation, modules hidden within Sequential containers and wrapped\n",
    "modules are all inlined into the graph, making them available for\n",
    "pattern matching and optimization.\n"
   ]
  },
  {
   "cell_type": "markdown",
   "metadata": {},
   "source": [
    "Fusing Convolution with Batch Norm\n",
    "==================================\n",
    "\n",
    "Unlike some other fusions, fusion of convolution with batch norm does\n",
    "not require any new operators. Instead, as batch norm during inference\n",
    "consists of a pointwise add and multiply, these operations can be\n",
    "\\\"baked\\\" into the preceding convolution\\'s weights. This allows us to\n",
    "remove the batch norm entirely from our model! Read\n",
    "<https://nenadmarkus.com/p/fusing-batchnorm-and-conv/> for further\n",
    "details. The code here is copied from\n",
    "<https://github.com/pytorch/pytorch/blob/orig/release/1.8/torch/nn/utils/fusion.py>\n",
    "clarity purposes.\n"
   ]
  },
  {
   "cell_type": "code",
   "execution_count": null,
   "metadata": {
    "collapsed": false
   },
   "outputs": [],
   "source": [
    "def fuse_conv_bn_eval(conv, bn):\n",
    "    \"\"\"\n",
    "    Given a conv Module `A` and an batch_norm module `B`, returns a conv\n",
    "    module `C` such that C(x) == B(A(x)) in inference mode.\n",
    "    \"\"\"\n",
    "    assert(not (conv.training or bn.training)), \"Fusion only for eval!\"\n",
    "    fused_conv = copy.deepcopy(conv)\n",
    "\n",
    "    fused_conv.weight, fused_conv.bias = \\\n",
    "        fuse_conv_bn_weights(fused_conv.weight, fused_conv.bias,\n",
    "                             bn.running_mean, bn.running_var, bn.eps, bn.weight, bn.bias)\n",
    "\n",
    "    return fused_conv\n",
    "\n",
    "def fuse_conv_bn_weights(conv_w, conv_b, bn_rm, bn_rv, bn_eps, bn_w, bn_b):\n",
    "    if conv_b is None:\n",
    "        conv_b = torch.zeros_like(bn_rm)\n",
    "    if bn_w is None:\n",
    "        bn_w = torch.ones_like(bn_rm)\n",
    "    if bn_b is None:\n",
    "        bn_b = torch.zeros_like(bn_rm)\n",
    "    bn_var_rsqrt = torch.rsqrt(bn_rv + bn_eps)\n",
    "\n",
    "    conv_w = conv_w * (bn_w * bn_var_rsqrt).reshape([-1] + [1] * (len(conv_w.shape) - 1))\n",
    "    conv_b = (conv_b - bn_rm) * bn_var_rsqrt * bn_w + bn_b\n",
    "\n",
    "    return torch.nn.Parameter(conv_w), torch.nn.Parameter(conv_b)"
   ]
  },
  {
   "cell_type": "markdown",
   "metadata": {},
   "source": [
    "Pattern Matching with torch.compile\n",
    "===================================\n",
    "\n",
    "Now that we have our fusion logic, we need to register a pattern that\n",
    "torch.compile\\'s pattern matcher will recognize and replace during\n",
    "compilation.\n"
   ]
  },
  {
   "cell_type": "code",
   "execution_count": null,
   "metadata": {
    "collapsed": false
   },
   "outputs": [],
   "source": [
    "# Define the pattern we want to match: conv2d followed by batch_norm\n",
    "def conv_bn_pattern(x, conv_weight, conv_bias, bn_mean, bn_var, bn_weight, bn_bias):\n",
    "    conv_out = torch.nn.functional.conv2d(x, conv_weight, conv_bias)\n",
    "    bn_out = torch.nn.functional.batch_norm(\n",
    "        conv_out, bn_mean, bn_var, bn_weight, bn_bias,\n",
    "        training=False, eps=1e-5\n",
    "    )\n",
    "    return bn_out\n",
    "\n",
    "def conv_bn_replacement(x, conv_weight, conv_bias, bn_mean, bn_var, bn_weight, bn_bias):\n",
    "    fused_weight, fused_bias = fuse_conv_bn_weights(\n",
    "        conv_weight, conv_bias, bn_mean, bn_var, 1e-5, bn_weight, bn_bias\n",
    "    )\n",
    "    return torch.nn.functional.conv2d(x, fused_weight, fused_bias)\n",
    "\n",
    "# Example inputs are needed to trace the pattern functions.\n",
    "# The inputs should match the function signatures of conv_bn_pattern and conv_bn_replacement.\n",
    "# These are used to trace the pattern functions to create the match template.\n",
    "# IMPORTANT: The pattern matcher is shape-agnostic! The specific shapes you use here\n",
    "# don't limit what shapes will be matched - any valid conv2d->batch_norm sequence\n",
    "# will be matched regardless of channels, kernel size, or spatial dimensions.\n",
    "# - x: input tensor (batch_size, channels, height, width)\n",
    "# - conv_weight: (out_channels, in_channels, kernel_h, kernel_w)\n",
    "# - conv_bias: (out_channels,)\n",
    "# - bn_mean, bn_var, bn_weight, bn_bias: all have shape (num_features,) matching out_channels\n",
    "example_inputs = [\n",
    "    torch.randn(1, 1, 4, 4).to(device),  # x: input tensor\n",
    "    torch.randn(1, 1, 1, 1).to(device),  # conv_weight: 1 output channel, 1 input channel, 1x1 kernel\n",
    "    torch.randn(1).to(device),           # conv_bias: 1 output channel\n",
    "    torch.randn(1).to(device),           # bn_mean: batch norm running mean\n",
    "    torch.randn(1).to(device),           # bn_var: batch norm running variance\n",
    "    torch.randn(1).to(device),           # bn_weight: batch norm weight (gamma)\n",
    "    torch.randn(1).to(device),           # bn_bias: batch norm bias (beta)\n",
    "]\n",
    "\n",
    "from torch._inductor.pattern_matcher import PatternMatcherPass\n",
    "from torch._inductor import config\n",
    "\n",
    "# Create a pattern matcher pass and register our pattern\n",
    "patterns = PatternMatcherPass()\n",
    "\n",
    "register_replacement(\n",
    "    conv_bn_pattern,\n",
    "    conv_bn_replacement,\n",
    "    example_inputs,\n",
    "    pm.fwd_only,\n",
    "    patterns,\n",
    ")\n",
    "\n",
    "# Create a custom pass function that applies our patterns\n",
    "def conv_bn_fusion_pass(graph):\n",
    "    return patterns.apply(graph)\n",
    "\n",
    "# Set our custom pass in the config\n",
    "config.post_grad_custom_post_pass = conv_bn_fusion_pass"
   ]
  },
  {
   "cell_type": "markdown",
   "metadata": {},
   "source": [
    "<div style=\"background-color: #54c7ec; color: #fff; font-weight: 700; padding-left: 10px; padding-top: 5px; padding-bottom: 5px\"><strong>NOTE:</strong></div>\n",
    "\n",
    "<div style=\"background-color: #f3f4f7; padding-left: 10px; padding-top: 10px; padding-bottom: 10px; padding-right: 10px\">\n",
    "\n",
    "<p>We make some simplifications here for demonstration purposes, such as onlymatching 2D convolutions. The pattern matcher in torch.compilecan handle more complex patterns.</p>\n",
    "\n",
    "</div>\n",
    "\n"
   ]
  },
  {
   "cell_type": "markdown",
   "metadata": {},
   "source": [
    "Testing out our Fusion Pass\n",
    "===========================\n",
    "\n",
    "We can now run this fusion pass on our initial toy model and verify that\n",
    "our results are identical. In addition, we can print out the code for\n",
    "our fused model and verify that there are no more batch norms.\n"
   ]
  },
  {
   "cell_type": "code",
   "execution_count": null,
   "metadata": {
    "collapsed": false
   },
   "outputs": [],
   "source": [
    "from torch._dynamo.utils import counters\n",
    "\n",
    "# Clear the counters before compilation\n",
    "counters.clear()\n",
    "\n",
    "# Ensure pattern matcher is enabled\n",
    "config.pattern_matcher = True\n",
    "\n",
    "fused_model = torch.compile(model, backend=\"inductor\")\n",
    "inp = torch.randn(5, 1, 1, 1).to(device)\n",
    "\n",
    "# Run the model to trigger compilation and pattern matching\n",
    "with torch.no_grad():\n",
    "    output = fused_model(inp)\n",
    "    expected = model(inp)\n",
    "    torch.testing.assert_close(output, expected)\n",
    "\n",
    "# Check how many patterns were matched\n",
    "assert counters['inductor']['pattern_matcher_count'] == 3, \"Expected 3 conv-bn patterns to be matched\"\n",
    "\n",
    "# Create a model with different shapes than our example_inputs\n",
    "test_model_diff_shape = nn.Sequential(\n",
    "    nn.Conv2d(3, 16, 5),\n",
    "    nn.BatchNorm2d(16),\n",
    "    nn.ReLU(),\n",
    "    nn.Conv2d(16, 32, 7),\n",
    "    nn.BatchNorm2d(32),\n",
    ").to(device).eval()\n",
    "\n",
    "counters.clear()\n",
    "compiled_diff_shape = torch.compile(test_model_diff_shape, backend=\"inductor\")\n",
    "test_input_diff_shape = torch.randn(1, 3, 28, 28).to(device)\n",
    "with torch.no_grad():\n",
    "    compiled_diff_shape(test_input_diff_shape)\n",
    "\n",
    "# Check how many patterns were matched\n",
    "assert counters['inductor']['pattern_matcher_count'] == 2, \"Expected 2 conv-bn patterns to be matched\""
   ]
  },
  {
   "cell_type": "markdown",
   "metadata": {},
   "source": [
    "Benchmarking our Fusion on ResNet18\n",
    "===================================\n",
    "\n",
    "We can test our fusion pass on a larger model like ResNet18 and see how\n",
    "much this pass improves inference performance.\n"
   ]
  },
  {
   "cell_type": "code",
   "execution_count": null,
   "metadata": {
    "collapsed": false
   },
   "outputs": [],
   "source": [
    "import torchvision.models as models\n",
    "import time\n",
    "\n",
    "rn18 = models.resnet18().to(device)\n",
    "rn18.eval()\n",
    "\n",
    "inp = torch.randn(10, 3, 224, 224).to(device)\n",
    "output = rn18(inp)\n",
    "\n",
    "def benchmark(model, iters=20):\n",
    "    with torch.no_grad():\n",
    "        for _ in range(10):\n",
    "            model(inp)\n",
    "        begin = time.time()\n",
    "        for _ in range(iters):\n",
    "            model(inp)\n",
    "        return str(time.time()-begin)\n",
    "\n",
    "# Benchmark original model\n",
    "print(\"Original model time: \", benchmark(rn18))\n",
    "\n",
    "# Compile with our custom pattern\n",
    "compiled_with_pattern_matching = torch.compile(rn18, backend=\"inductor\")\n",
    "\n",
    "# Benchmark compiled model\n",
    "print(\"\\ntorch.compile (with conv-bn pattern matching and other fusions): \", benchmark(compiled_with_pattern_matching))\n",
    "\n",
    "\n",
    "############\n",
    "# Conclusion\n",
    "# ----------\n",
    "# As we can see, torch.compile provides a powerful way to implement\n",
    "# graph transformations and optimizations through pattern matching.\n",
    "# By registering custom patterns, we can extend torch.compile's\n",
    "# optimization capabilities to handle domain-specific transformations.\n",
    "#\n",
    "# The conv-bn fusion demonstrated here is just one example of what's\n",
    "# possible with torch.compile's pattern matching system."
   ]
  }
 ],
 "metadata": {
  "kernelspec": {
   "display_name": "Python 3",
   "language": "python",
   "name": "python3"
  },
  "language_info": {
   "codemirror_mode": {
    "name": "ipython",
    "version": 3
   },
   "file_extension": ".py",
   "mimetype": "text/x-python",
   "name": "python",
   "nbconvert_exporter": "python",
   "pygments_lexer": "ipython3",
   "version": "3.10.12"
  }
 },
 "nbformat": 4,
 "nbformat_minor": 0
}
