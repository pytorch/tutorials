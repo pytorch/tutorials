{
 "cells": [
  {
   "cell_type": "code",
   "execution_count": null,
   "metadata": {
    "collapsed": false
   },
   "outputs": [],
   "source": [
    "# For tips on running notebooks in Google Colab, see\n",
    "# https://docs.pytorch.org/tutorials/beginner/colab\n",
    "%matplotlib inline"
   ]
  },
  {
   "cell_type": "markdown",
   "metadata": {},
   "source": [
    "Hooks for autograd saved tensors\n",
    "================================\n"
   ]
  },
  {
   "cell_type": "markdown",
   "metadata": {},
   "source": [
    "PyTorch typically computes gradients using backpropagation. However,\n",
    "certain operations require intermediary results to be saved in order to\n",
    "perform backpropagation. This tutorial walks through how these tensors\n",
    "are saved/retrieved and how you can define hooks to control the\n",
    "packing/unpacking process.\n",
    "\n",
    "This tutorial assumes you are familiar with how backpropagation works in\n",
    "theory. If not, read\n",
    "[this](https://colab.research.google.com/drive/1aWNdmYt7RcHMbUk-Xz2Cv5-cGFSWPXe0#scrollTo=AHcEJ6nXUb7W)\n",
    "first.\n"
   ]
  },
  {
   "cell_type": "markdown",
   "metadata": {},
   "source": [
    "Saved tensors\n",
    "=============\n"
   ]
  },
  {
   "cell_type": "markdown",
   "metadata": {},
   "source": [
    "Training a model usually consumes more memory than running it for\n",
    "inference. Broadly speaking, one can say that it is because \"PyTorch\n",
    "needs to save the computation graph, which is needed to call\n",
    "`backward`\", hence the additional memory usage. One goal of this\n",
    "tutorial is to finetune this understanding.\n",
    "\n",
    "In fact, the graph in itself sometimes does not consume much more memory\n",
    "as it never copies any tensors. However, the graph can keep *references*\n",
    "to tensors that would otherwise have gone out of scope: those are\n",
    "referred to as **saved tensors**.\n"
   ]
  },
  {
   "cell_type": "markdown",
   "metadata": {},
   "source": [
    "Why does training a model (typically) requires more memory than evaluating it?\n",
    "==============================================================================\n"
   ]
  },
  {
   "cell_type": "markdown",
   "metadata": {},
   "source": [
    "We start with a simple example: $y = a \\cdot b$ , for which we know the\n",
    "gradients of $y$ with respect to $a$ and $b$:\n",
    "\n",
    "$$\\frac{\\partial y}{\\partial a} = b$$\n",
    "\n",
    "$$\\frac{\\partial y}{\\partial b} = a$$\n"
   ]
  },
  {
   "cell_type": "code",
   "execution_count": null,
   "metadata": {
    "collapsed": false
   },
   "outputs": [],
   "source": [
    "import torch\n",
    "\n",
    "a = torch.randn(5, requires_grad=True)\n",
    "b = torch.ones(5, requires_grad=True)\n",
    "y = a * b"
   ]
  },
  {
   "cell_type": "markdown",
   "metadata": {},
   "source": [
    "Using a torchviz, we can visualize the computation graph\n",
    "\n",
    "> ![](https://user-images.githubusercontent.com/8019486/130124513-72e016a3-c36f-42b9-88e2-53baf3e016c5.png){.align-center\n",
    "> width=\"300px\"}\n"
   ]
  },
  {
   "cell_type": "markdown",
   "metadata": {},
   "source": [
    "In this example, PyTorch saves intermediary values $a$ and $b$ in order\n",
    "to compute the gradient during the backward.\n",
    "\n",
    "> ![](https://user-images.githubusercontent.com/8019486/130124538-3da50977-6f0b-46d0-8909-5456ade9b598.png){.align-center\n",
    "> width=\"300px\"}\n"
   ]
  },
  {
   "cell_type": "markdown",
   "metadata": {},
   "source": [
    "Those intermediary values (in orange above) can be accessed (for\n",
    "debugging purposes) by looking for attributes of the `grad_fn` of `y`\n",
    "which start with the prefix `_saved`:\n"
   ]
  },
  {
   "cell_type": "code",
   "execution_count": null,
   "metadata": {
    "collapsed": false
   },
   "outputs": [],
   "source": [
    "print(y.grad_fn._saved_self)\n",
    "print(y.grad_fn._saved_other)"
   ]
  },
  {
   "cell_type": "markdown",
   "metadata": {},
   "source": [
    "As the computation graph grows in depth, it will store more *saved\n",
    "tensors*. Meanwhile, those tensors would have gone out of scope if not\n",
    "for the graph.\n"
   ]
  },
  {
   "cell_type": "code",
   "execution_count": null,
   "metadata": {
    "collapsed": false
   },
   "outputs": [],
   "source": [
    "def f(x):\n",
    "    return x * x\n",
    "\n",
    "x = torch.randn(5, requires_grad=True)\n",
    "y = f(f(f(x)))"
   ]
  },
  {
   "cell_type": "markdown",
   "metadata": {},
   "source": [
    "![](https://user-images.githubusercontent.com/8019486/130124570-f1074098-1bb3-459e-bf5a-03bf6f65b403.png){.align-center\n",
    "width=\"500px\"}\n"
   ]
  },
  {
   "cell_type": "markdown",
   "metadata": {},
   "source": [
    "In the example above, executing without grad would only have kept `x`\n",
    "and `y` in the scope, But the graph additionally stores `f(x)` and\n",
    "`f(f(x))`. Hence, running a forward pass during training will be more\n",
    "costly in memory usage than during evaluation (more precisely, when\n",
    "autograd is not required).\n"
   ]
  },
  {
   "cell_type": "markdown",
   "metadata": {},
   "source": [
    "The concept of packing / unpacking\n",
    "==================================\n"
   ]
  },
  {
   "cell_type": "markdown",
   "metadata": {},
   "source": [
    "Going back to the first example: `y.grad_fn._saved_self` and\n",
    "`y.grad_fn._saved_other` point to the original tensor object,\n",
    "respectively `a` and `b`.\n"
   ]
  },
  {
   "cell_type": "code",
   "execution_count": null,
   "metadata": {
    "collapsed": false
   },
   "outputs": [],
   "source": [
    "a = torch.randn(5, requires_grad=True)\n",
    "b = torch.ones(5, requires_grad=True)\n",
    "y = a * b\n",
    "\n",
    "print(y.grad_fn._saved_self is a)   # True\n",
    "print(y.grad_fn._saved_other is b)  # True"
   ]
  },
  {
   "cell_type": "markdown",
   "metadata": {},
   "source": [
    "However, that may not always be the case.\n"
   ]
  },
  {
   "cell_type": "code",
   "execution_count": null,
   "metadata": {
    "collapsed": false
   },
   "outputs": [],
   "source": [
    "a = torch.randn(5, requires_grad=True)\n",
    "y = torch.exp(a)\n",
    "print(y.grad_fn._saved_result.equal(y))  # True\n",
    "print(y.grad_fn._saved_result is y)      # False"
   ]
  },
  {
   "cell_type": "markdown",
   "metadata": {},
   "source": [
    "Under the hood, PyTorch has **packed** and **unpacked** the tensor `y`\n",
    "to prevent reference cycles.\n",
    "\n",
    "As a rule of thumb, you should *not* rely on the fact that accessing the\n",
    "tensor saved for backward will yield the same tensor object as the\n",
    "original tensor. They will however share the same *storage*.\n"
   ]
  },
  {
   "cell_type": "markdown",
   "metadata": {},
   "source": [
    "Saved tensors hooks\n",
    "===================\n"
   ]
  },
  {
   "cell_type": "markdown",
   "metadata": {},
   "source": [
    "PyTorch provides an API to control how saved tensors should be packed /\n",
    "unpacked.\n"
   ]
  },
  {
   "cell_type": "code",
   "execution_count": null,
   "metadata": {
    "collapsed": false
   },
   "outputs": [],
   "source": [
    "def pack_hook(x):\n",
    "    print(\"Packing\", x)\n",
    "    return x\n",
    "\n",
    "def unpack_hook(x):\n",
    "    print(\"Unpacking\", x)\n",
    "    return x\n",
    "a = torch.ones(5, requires_grad=True)\n",
    "b = torch.ones(5, requires_grad=True) * 2\n",
    "\n",
    "with torch.autograd.graph.saved_tensors_hooks(pack_hook, unpack_hook):\n",
    "    y = a * b\n",
    "\n",
    "y.sum().backward()"
   ]
  },
  {
   "cell_type": "markdown",
   "metadata": {},
   "source": [
    "The `pack_hook` function will be called every time an operation saves a\n",
    "tensor for backward. The output of `pack_hook` is then stored in the\n",
    "computation graph instead of the original tensor. The `unpack_hook` uses\n",
    "that return value to compute a new tensor, which is the one actually\n",
    "used during the backward pass. In general, you want\n",
    "`unpack_hook(pack_hook(t))` to be equal to `t`.\n"
   ]
  },
  {
   "cell_type": "code",
   "execution_count": null,
   "metadata": {
    "collapsed": false
   },
   "outputs": [],
   "source": [
    "x = torch.randn(5, requires_grad=True)\n",
    "with torch.autograd.graph.saved_tensors_hooks(lambda x: x * 4, lambda x: x / 4):\n",
    "    y = torch.pow(x, 2)\n",
    "y.sum().backward()\n",
    "assert(x.grad.equal(2 * x))"
   ]
  },
  {
   "cell_type": "markdown",
   "metadata": {},
   "source": [
    "One thing to note is that the output of `pack_hook` can be *any Python\n",
    "object*, as long as `unpack_hook` can derive a tensor with the correct\n",
    "value from it.\n"
   ]
  },
  {
   "cell_type": "markdown",
   "metadata": {},
   "source": [
    "Some unconventional examples\n",
    "============================\n"
   ]
  },
  {
   "cell_type": "markdown",
   "metadata": {},
   "source": [
    "First, some silly examples to illustrate what is possible but you\n",
    "probably don't ever want to do it.\n"
   ]
  },
  {
   "cell_type": "markdown",
   "metadata": {},
   "source": [
    "Returning an `int`\n",
    "==================\n",
    "\n",
    "Returning the index of a Python list Relatively harmless but with\n",
    "debatable usefulness\n"
   ]
  },
  {
   "cell_type": "code",
   "execution_count": null,
   "metadata": {
    "collapsed": false
   },
   "outputs": [],
   "source": [
    "storage = []\n",
    "\n",
    "def pack(x):\n",
    "    storage.append(x)\n",
    "    return len(storage) - 1\n",
    "\n",
    "def unpack(x):\n",
    "    return storage[x]\n",
    "\n",
    "x = torch.randn(5, requires_grad=True)\n",
    "with torch.autograd.graph.saved_tensors_hooks(pack, unpack):\n",
    "    y = x * x\n",
    "y.sum().backward()\n",
    "\n",
    "assert(x.grad.equal(2 * x))"
   ]
  },
  {
   "cell_type": "markdown",
   "metadata": {},
   "source": [
    "Returning a tuple\n",
    "=================\n",
    "\n",
    "Returning some tensor and a function how to unpack it Quite unlikely to\n",
    "be useful in its current form\n"
   ]
  },
  {
   "cell_type": "code",
   "execution_count": null,
   "metadata": {
    "collapsed": false
   },
   "outputs": [],
   "source": [
    "def pack(x):\n",
    "    delta = torch.randn(*x.size())\n",
    "    return x - delta, lambda x: x + delta\n",
    "\n",
    "def unpack(packed):\n",
    "    x, f = packed\n",
    "    return f(x)\n",
    "\n",
    "\n",
    "x = torch.randn(5, requires_grad=True)\n",
    "with torch.autograd.graph.saved_tensors_hooks(pack, unpack):\n",
    "    y = x * x\n",
    "y.sum().backward()\n",
    "\n",
    "assert(torch.allclose(x.grad, 2 * x))"
   ]
  },
  {
   "cell_type": "markdown",
   "metadata": {},
   "source": [
    "Returning a `str`\n",
    "=================\n",
    "\n",
    "Returning the `__repr__ of` the tensor Probably never do this\n"
   ]
  },
  {
   "cell_type": "code",
   "execution_count": null,
   "metadata": {
    "collapsed": false
   },
   "outputs": [],
   "source": [
    "x = torch.randn(5, requires_grad=True)\n",
    "with torch.autograd.graph.saved_tensors_hooks(lambda x: repr(x), lambda x: eval(\"torch.\" + x)):\n",
    "    y = x * x\n",
    "y.sum().backward()\n",
    "assert(torch.all(x.grad - 2 * x <= 1e-4))"
   ]
  },
  {
   "cell_type": "markdown",
   "metadata": {},
   "source": [
    "Although those examples will not be useful in practice, they illustrate\n",
    "that the output of `pack_hook` can really be any Python object as long\n",
    "as it contains enough information to retrieve the content of the\n",
    "original tensor. In the next sections, we focus on more useful\n",
    "applications.\n"
   ]
  },
  {
   "cell_type": "markdown",
   "metadata": {},
   "source": [
    "Saving tensors to CPU\n",
    "=====================\n"
   ]
  },
  {
   "cell_type": "markdown",
   "metadata": {},
   "source": [
    "Very often, the tensors involved in the computation graph live on GPU.\n",
    "Keeping a reference to those tensors in the graph is what causes most\n",
    "models to run out of GPU memory during training while they would have\n",
    "done fine during evaluation.\n",
    "\n",
    "Hooks provide a very simple way to implement that.\n"
   ]
  },
  {
   "cell_type": "code",
   "execution_count": null,
   "metadata": {
    "collapsed": false
   },
   "outputs": [],
   "source": [
    "def pack_hook(x):\n",
    "    return (x.device, x.cpu())\n",
    "\n",
    "def unpack_hook(packed):\n",
    "    device, tensor = packed\n",
    "    return tensor.to(device)\n",
    "\n",
    "x = torch.randn(5, requires_grad=True)\n",
    "with torch.autograd.graph.saved_tensors_hooks(pack, unpack):\n",
    "    y = x * x\n",
    "y.sum().backward()\n",
    "\n",
    "torch.allclose(x.grad, (2 * x))"
   ]
  },
  {
   "cell_type": "markdown",
   "metadata": {},
   "source": [
    "In fact, PyTorch provides an API to conveniently use those hooks (as\n",
    "well as the ability to use pinned memory).\n"
   ]
  },
  {
   "cell_type": "code",
   "execution_count": null,
   "metadata": {
    "collapsed": false
   },
   "outputs": [],
   "source": [
    "import torch.nn as nn\n",
    "\n",
    "class Model(nn.Module):\n",
    "    def __init__(self):\n",
    "        super().__init__()\n",
    "        self.w = nn.Parameter(torch.randn(5))\n",
    "\n",
    "    def forward(self, x):\n",
    "        with torch.autograd.graph.save_on_cpu(pin_memory=True):\n",
    "            # some computation\n",
    "            return self.w * x\n",
    "\n",
    "x = torch.randn(5)\n",
    "model = Model()\n",
    "loss = model(x).sum()\n",
    "loss.backward()"
   ]
  },
  {
   "cell_type": "markdown",
   "metadata": {},
   "source": [
    "In practice, on a A100 GPU, for a ResNet-152 with batch size 256, this\n",
    "corresponds to a GPU memory usage reduction from 48GB to 5GB, at the\n",
    "cost of a 6x slowdown.\n",
    "\n",
    "Of course, you can modulate the tradeoff by only saving to CPU certain\n",
    "parts of the network.\n",
    "\n",
    "For instance, you could define a special `nn.Module` that wraps any\n",
    "module and saves its tensors to CPU.\n"
   ]
  },
  {
   "cell_type": "code",
   "execution_count": null,
   "metadata": {
    "collapsed": false
   },
   "outputs": [],
   "source": [
    "class SaveToCpu(nn.Module):\n",
    "    def __init__(self, module):\n",
    "        super().__init__()\n",
    "        self.module = module\n",
    "\n",
    "    def forward(self, *args, **kwargs):\n",
    "        with torch.autograd.graph.save_on_cpu(pin_memory=True):\n",
    "            return self.module(*args, **kwargs)\n",
    "\n",
    "model = nn.Sequential(\n",
    "    nn.Linear(10, 100),\n",
    "    SaveToCpu(nn.Linear(100, 100)),\n",
    "    nn.Linear(100, 10),\n",
    ")\n",
    "\n",
    "x = torch.randn(10)\n",
    "loss = model(x).sum()\n",
    "loss.backward()"
   ]
  },
  {
   "cell_type": "markdown",
   "metadata": {},
   "source": [
    "Saving tensors to disk\n",
    "======================\n"
   ]
  },
  {
   "cell_type": "markdown",
   "metadata": {},
   "source": [
    "Similarly, you may want to save those tensors to disk. Again, this is\n",
    "achievable with those hooks.\n"
   ]
  },
  {
   "cell_type": "markdown",
   "metadata": {},
   "source": [
    "A naive version would look like this.\n"
   ]
  },
  {
   "cell_type": "code",
   "execution_count": null,
   "metadata": {
    "collapsed": false
   },
   "outputs": [],
   "source": [
    "# Naive version - HINT: Don't do this\n",
    "\n",
    "import uuid\n",
    "tmp_dir = \"temp\"\n",
    "\n",
    "def pack_hook(tensor):\n",
    "    name = os.path.join(tmp_dir, str(uuid.uuid4()))\n",
    "    torch.save(tensor, name)\n",
    "    return name\n",
    "\n",
    "def unpack_hook(name):\n",
    "    return torch.load(name, weights_only=True)"
   ]
  },
  {
   "cell_type": "markdown",
   "metadata": {},
   "source": [
    "The reason the above code is bad is that we are leaking files on the\n",
    "disk and they are never cleared. Fixing this is not as trivial as it\n",
    "seems.\n"
   ]
  },
  {
   "cell_type": "code",
   "execution_count": null,
   "metadata": {
    "collapsed": false
   },
   "outputs": [],
   "source": [
    "# Incorrect version - HINT: Don't do this\n",
    "\n",
    "import uuid\n",
    "import os\n",
    "import tempfile\n",
    "tmp_dir_obj = tempfile.TemporaryDirectory()\n",
    "tmp_dir = tmp_dir_obj.name\n",
    "\n",
    "def pack_hook(tensor):\n",
    "    name = os.path.join(tmp_dir, str(uuid.uuid4()))\n",
    "    torch.save(tensor, name)\n",
    "    return name\n",
    "\n",
    "def unpack_hook(name):\n",
    "    tensor = torch.load(name, weights_only=True)\n",
    "    os.remove(name)\n",
    "    return tensor"
   ]
  },
  {
   "cell_type": "markdown",
   "metadata": {},
   "source": [
    "The reason the above code doesn't work is that `unpack_hook` can be\n",
    "called multiple times. If we delete the file during unpacking the first\n",
    "time, it will not be available when the saved tensor is accessed a\n",
    "second time, which will raise an error.\n"
   ]
  },
  {
   "cell_type": "code",
   "execution_count": null,
   "metadata": {
    "collapsed": false
   },
   "outputs": [],
   "source": [
    "x = torch.ones(5, requires_grad=True)\n",
    "with torch.autograd.graph.saved_tensors_hooks(pack_hook, unpack_hook):\n",
    "    y = x.pow(2)\n",
    "print(y.grad_fn._saved_self)\n",
    "try:\n",
    "    print(y.grad_fn._saved_self)\n",
    "    print(\"Double access succeeded!\")\n",
    "except:\n",
    "    print(\"Double access failed!\")"
   ]
  },
  {
   "cell_type": "markdown",
   "metadata": {},
   "source": [
    "To fix this, we can write a version of those hooks that takes advantage\n",
    "of the fact that PyTorch automatically releases (deletes) the saved data\n",
    "when it is no longer needed.\n"
   ]
  },
  {
   "cell_type": "code",
   "execution_count": null,
   "metadata": {
    "collapsed": false
   },
   "outputs": [],
   "source": [
    "class SelfDeletingTempFile():\n",
    "    def __init__(self):\n",
    "        self.name = os.path.join(tmp_dir, str(uuid.uuid4()))\n",
    "\n",
    "    def __del__(self):\n",
    "        os.remove(self.name)\n",
    "\n",
    "def pack_hook(tensor):\n",
    "    temp_file = SelfDeletingTempFile()\n",
    "    torch.save(tensor, temp_file.name)\n",
    "    return temp_file\n",
    "\n",
    "def unpack_hook(temp_file):\n",
    "    return torch.load(temp_file.name, weights_only=True)"
   ]
  },
  {
   "cell_type": "markdown",
   "metadata": {},
   "source": [
    "When we call `backward`, the output of `pack_hook` will be deleted,\n",
    "which causes the file to be removed, so we're no longer leaking the\n",
    "files.\n",
    "\n",
    "This can then be used in your model, in the following way:\n"
   ]
  },
  {
   "cell_type": "code",
   "execution_count": null,
   "metadata": {
    "collapsed": false
   },
   "outputs": [],
   "source": [
    "# Only save on disk tensors that have size >= 1000\n",
    "SAVE_ON_DISK_THRESHOLD = 1000\n",
    "\n",
    "def pack_hook(x):\n",
    "    if x.numel() < SAVE_ON_DISK_THRESHOLD:\n",
    "        return x\n",
    "    temp_file = SelfDeletingTempFile()\n",
    "    torch.save(tensor, temp_file.name)\n",
    "    return temp_file\n",
    "\n",
    "def unpack_hook(tensor_or_sctf):\n",
    "    if isinstance(tensor_or_sctf, torch.Tensor):\n",
    "        return tensor_or_sctf\n",
    "    return torch.load(tensor_or_sctf.name)\n",
    "\n",
    "class SaveToDisk(nn.Module):\n",
    "    def __init__(self, module):\n",
    "        super().__init__()\n",
    "        self.module = module\n",
    "\n",
    "    def forward(self, *args, **kwargs):\n",
    "        with torch.autograd.graph.saved_tensors_hooks(pack_hook, unpack_hook):\n",
    "            return self.module(*args, **kwargs)\n",
    "\n",
    "net = nn.DataParallel(SaveToDisk(Model()))"
   ]
  },
  {
   "cell_type": "markdown",
   "metadata": {},
   "source": [
    "In this last example, we also demonstrate how to filter which tensors\n",
    "should be saved (here, those whose number of elements is greater than\n",
    "1000) and how to combine this feature with `nn.DataParallel`.\n"
   ]
  },
  {
   "cell_type": "markdown",
   "metadata": {},
   "source": [
    "If you've made it this far, congratulations! You now know how to use\n",
    "saved tensor hooks and how they can be useful in a few scenarios to\n",
    "tradeoff memory for compute.\n"
   ]
  }
 ],
 "metadata": {
  "kernelspec": {
   "display_name": "Python 3",
   "language": "python",
   "name": "python3"
  },
  "language_info": {
   "codemirror_mode": {
    "name": "ipython",
    "version": 3
   },
   "file_extension": ".py",
   "mimetype": "text/x-python",
   "name": "python",
   "nbconvert_exporter": "python",
   "pygments_lexer": "ipython3",
   "version": "3.10.12"
  }
 },
 "nbformat": 4,
 "nbformat_minor": 0
}
