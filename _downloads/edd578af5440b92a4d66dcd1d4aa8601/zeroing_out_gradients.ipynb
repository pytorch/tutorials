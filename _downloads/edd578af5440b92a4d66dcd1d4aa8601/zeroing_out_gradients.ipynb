{
 "cells": [
  {
   "cell_type": "code",
   "execution_count": null,
   "metadata": {
    "collapsed": false
   },
   "outputs": [],
   "source": [
    "# For tips on running notebooks in Google Colab, see\n",
    "# https://docs.pytorch.org/tutorials/beginner/colab\n",
    "%matplotlib inline"
   ]
  },
  {
   "cell_type": "markdown",
   "metadata": {},
   "source": [
    "Zeroing out gradients in PyTorch\n",
    "================================\n",
    "\n",
    "It is beneficial to zero out gradients when building a neural network.\n",
    "This is because by default, gradients are accumulated in buffers (i.e,\n",
    "not overwritten) whenever `.backward()` is called.\n",
    "\n",
    "Introduction\n",
    "------------\n",
    "\n",
    "When training your neural network, models are able to increase their\n",
    "accuracy through gradient descent. In short, gradient descent is the\n",
    "process of minimizing our loss (or error) by tweaking the weights and\n",
    "biases in our model.\n",
    "\n",
    "`torch.Tensor` is the central class of PyTorch. When you create a\n",
    "tensor, if you set its attribute `.requires_grad` as `True`, the package\n",
    "tracks all operations on it. This happens on subsequent backward passes.\n",
    "The gradient for this tensor will be accumulated into `.grad` attribute.\n",
    "The accumulation (or sum) of all the gradients is calculated when\n",
    ".backward() is called on the loss tensor.\n",
    "\n",
    "There are cases where it may be necessary to zero-out the gradients of a\n",
    "tensor. For example: when you start your training loop, you should zero\n",
    "out the gradients so that you can perform this tracking correctly. In\n",
    "this recipe, we will learn how to zero out gradients using the PyTorch\n",
    "library. We will demonstrate how to do this by training a neural network\n",
    "on the `CIFAR10` dataset built into PyTorch.\n",
    "\n",
    "Setup\n",
    "-----\n",
    "\n",
    "Since we will be training data in this recipe, if you are in a runnable\n",
    "notebook, it is best to switch the runtime to GPU or TPU. Before we\n",
    "begin, we need to install `torch` and `torchvision` if they aren't\n",
    "already available.\n",
    "\n",
    "``` {.sh}\n",
    "pip install torchvision\n",
    "```\n"
   ]
  },
  {
   "cell_type": "markdown",
   "metadata": {},
   "source": [
    "Steps\n",
    "=====\n",
    "\n",
    "Steps 1 through 4 set up our data and neural network for training. The\n",
    "process of zeroing out the gradients happens in step 5. If you already\n",
    "have your data and neural network built, skip to 5.\n",
    "\n",
    "1.  Import all necessary libraries for loading our data\n",
    "2.  Load and normalize the dataset\n",
    "3.  Build the neural network\n",
    "4.  Define the loss function\n",
    "5.  Zero the gradients while training the network\n",
    "\n",
    "1. Import necessary libraries for loading our data\n",
    "--------------------------------------------------\n",
    "\n",
    "For this recipe, we will just be using `torch` and `torchvision` to\n",
    "access the dataset.\n"
   ]
  },
  {
   "cell_type": "code",
   "execution_count": null,
   "metadata": {
    "collapsed": false
   },
   "outputs": [],
   "source": [
    "import torch\n",
    "\n",
    "import torch.nn as nn\n",
    "import torch.nn.functional as F\n",
    "\n",
    "import torch.optim as optim\n",
    "\n",
    "import torchvision\n",
    "import torchvision.transforms as transforms"
   ]
  },
  {
   "cell_type": "markdown",
   "metadata": {},
   "source": [
    "2. Load and normalize the dataset\n",
    "=================================\n",
    "\n",
    "PyTorch features various built-in datasets (see the Loading Data recipe\n",
    "for more information).\n"
   ]
  },
  {
   "cell_type": "code",
   "execution_count": null,
   "metadata": {
    "collapsed": false
   },
   "outputs": [],
   "source": [
    "transform = transforms.Compose(\n",
    "    [transforms.ToTensor(),\n",
    "     transforms.Normalize((0.5, 0.5, 0.5), (0.5, 0.5, 0.5))])\n",
    "\n",
    "trainset = torchvision.datasets.CIFAR10(root='./data', train=True,\n",
    "                                        download=True, transform=transform)\n",
    "trainloader = torch.utils.data.DataLoader(trainset, batch_size=4,\n",
    "                                          shuffle=True, num_workers=2)\n",
    "\n",
    "testset = torchvision.datasets.CIFAR10(root='./data', train=False,\n",
    "                                       download=True, transform=transform)\n",
    "testloader = torch.utils.data.DataLoader(testset, batch_size=4,\n",
    "                                         shuffle=False, num_workers=2)\n",
    "\n",
    "classes = ('plane', 'car', 'bird', 'cat',\n",
    "           'deer', 'dog', 'frog', 'horse', 'ship', 'truck')"
   ]
  },
  {
   "cell_type": "markdown",
   "metadata": {},
   "source": [
    "3. Build the neural network\n",
    "===========================\n",
    "\n",
    "We will use a convolutional neural network. To learn more see the\n",
    "Defining a Neural Network recipe.\n"
   ]
  },
  {
   "cell_type": "code",
   "execution_count": null,
   "metadata": {
    "collapsed": false
   },
   "outputs": [],
   "source": [
    "class Net(nn.Module):\n",
    "    def __init__(self):\n",
    "        super(Net, self).__init__()\n",
    "        self.conv1 = nn.Conv2d(3, 6, 5)\n",
    "        self.pool = nn.MaxPool2d(2, 2)\n",
    "        self.conv2 = nn.Conv2d(6, 16, 5)\n",
    "        self.fc1 = nn.Linear(16 * 5 * 5, 120)\n",
    "        self.fc2 = nn.Linear(120, 84)\n",
    "        self.fc3 = nn.Linear(84, 10)\n",
    "\n",
    "    def forward(self, x):\n",
    "        x = self.pool(F.relu(self.conv1(x)))\n",
    "        x = self.pool(F.relu(self.conv2(x)))\n",
    "        x = x.view(-1, 16 * 5 * 5)\n",
    "        x = F.relu(self.fc1(x))\n",
    "        x = F.relu(self.fc2(x))\n",
    "        x = self.fc3(x)\n",
    "        return x"
   ]
  },
  {
   "cell_type": "markdown",
   "metadata": {},
   "source": [
    "4. Define a Loss function and optimizer\n",
    "=======================================\n",
    "\n",
    "Let's use a Classification Cross-Entropy loss and SGD with momentum.\n"
   ]
  },
  {
   "cell_type": "code",
   "execution_count": null,
   "metadata": {
    "collapsed": false
   },
   "outputs": [],
   "source": [
    "net = Net()\n",
    "criterion = nn.CrossEntropyLoss()\n",
    "optimizer = optim.SGD(net.parameters(), lr=0.001, momentum=0.9)"
   ]
  },
  {
   "cell_type": "markdown",
   "metadata": {},
   "source": [
    "5. Zero the gradients while training the network\n",
    "================================================\n",
    "\n",
    "This is when things start to get interesting. We simply have to loop\n",
    "over our data iterator, and feed the inputs to the network and optimize.\n",
    "\n",
    "Notice that for each entity of data, we zero out the gradients. This is\n",
    "to ensure that we aren't tracking any unnecessary information when we\n",
    "train our neural network.\n"
   ]
  },
  {
   "cell_type": "code",
   "execution_count": null,
   "metadata": {
    "collapsed": false
   },
   "outputs": [],
   "source": [
    "for epoch in range(2):  # loop over the dataset multiple times\n",
    "\n",
    "    running_loss = 0.0\n",
    "    for i, data in enumerate(trainloader, 0):\n",
    "        # get the inputs; data is a list of [inputs, labels]\n",
    "        inputs, labels = data\n",
    "\n",
    "        # zero the parameter gradients\n",
    "        optimizer.zero_grad()\n",
    "\n",
    "        # forward + backward + optimize\n",
    "        outputs = net(inputs)\n",
    "        loss = criterion(outputs, labels)\n",
    "        loss.backward()\n",
    "        optimizer.step()\n",
    "\n",
    "        # print statistics\n",
    "        running_loss += loss.item()\n",
    "        if i % 2000 == 1999:    # print every 2000 mini-batches\n",
    "            print('[%d, %5d] loss: %.3f' %\n",
    "                  (epoch + 1, i + 1, running_loss / 2000))\n",
    "            running_loss = 0.0\n",
    "\n",
    "print('Finished Training')"
   ]
  },
  {
   "cell_type": "markdown",
   "metadata": {},
   "source": [
    "You can also use `model.zero_grad()`. This is the same as using\n",
    "`optimizer.zero_grad()` as long as all your model parameters are in that\n",
    "optimizer. Use your best judgment to decide which one to use.\n",
    "\n",
    "Congratulations! You have successfully zeroed out gradients in PyTorch.\n",
    "\n",
    "Learn More\n",
    "==========\n",
    "\n",
    "Take a look at these other recipes to continue your learning:\n",
    "\n",
    "-   [Loading data in\n",
    "    PyTorch](https://pytorch.org/tutorials/beginner/basics/data_tutorial.html)\n",
    "-   [Saving and loading models across devices in\n",
    "    PyTorch](https://pytorch.org/tutorials/recipes/recipes/save_load_across_devices.html)\n"
   ]
  }
 ],
 "metadata": {
  "kernelspec": {
   "display_name": "Python 3",
   "language": "python",
   "name": "python3"
  },
  "language_info": {
   "codemirror_mode": {
    "name": "ipython",
    "version": 3
   },
   "file_extension": ".py",
   "mimetype": "text/x-python",
   "name": "python",
   "nbconvert_exporter": "python",
   "pygments_lexer": "ipython3",
   "version": "3.10.12"
  }
 },
 "nbformat": 4,
 "nbformat_minor": 0
}
