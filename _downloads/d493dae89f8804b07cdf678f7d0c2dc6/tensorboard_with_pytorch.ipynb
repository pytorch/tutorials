{
 "cells": [
  {
   "cell_type": "code",
   "execution_count": null,
   "metadata": {
    "collapsed": false
   },
   "outputs": [],
   "source": [
    "# For tips on running notebooks in Google Colab, see\n",
    "# https://docs.pytorch.org/tutorials/beginner/colab\n",
    "%matplotlib inline"
   ]
  },
  {
   "cell_type": "markdown",
   "metadata": {},
   "source": [
    "How to use TensorBoard with PyTorch\n",
    "===================================\n",
    "\n",
    "TensorBoard is a visualization toolkit for machine learning\n",
    "experimentation. TensorBoard allows tracking and visualizing metrics\n",
    "such as loss and accuracy, visualizing the model graph, viewing\n",
    "histograms, displaying images and much more. In this tutorial we are\n",
    "going to cover TensorBoard installation, basic usage with PyTorch, and\n",
    "how to visualize data you logged in TensorBoard UI.\n",
    "\n",
    "Installation\n",
    "------------\n",
    "\n",
    "PyTorch should be installed to log models and metrics into TensorBoard\n",
    "log directory. The following command will install PyTorch 1.4+ via\n",
    "Anaconda (recommended):\n",
    "\n",
    "``` {.sh}\n",
    "$ conda install pytorch torchvision -c pytorch \n",
    "```\n",
    "\n",
    "or pip\n",
    "\n",
    "``` {.sh}\n",
    "$ pip install torch torchvision\n",
    "```\n"
   ]
  },
  {
   "cell_type": "markdown",
   "metadata": {},
   "source": [
    "Using TensorBoard in PyTorch\n",
    "============================\n",
    "\n",
    "Let's now try using TensorBoard with PyTorch! Before logging anything,\n",
    "we need to create a `SummaryWriter` instance.\n"
   ]
  },
  {
   "cell_type": "code",
   "execution_count": null,
   "metadata": {
    "collapsed": false
   },
   "outputs": [],
   "source": [
    "import torch\n",
    "from torch.utils.tensorboard import SummaryWriter\n",
    "writer = SummaryWriter()"
   ]
  },
  {
   "cell_type": "markdown",
   "metadata": {},
   "source": [
    "Writer will output to `./runs/` directory by default.\n"
   ]
  },
  {
   "cell_type": "markdown",
   "metadata": {},
   "source": [
    "Log scalars\n",
    "===========\n",
    "\n",
    "In machine learning, it's important to understand key metrics such as\n",
    "loss and how they change during training. Scalar helps to save the loss\n",
    "value of each training step, or the accuracy after each epoch.\n",
    "\n",
    "To log a scalar value, use\n",
    "`add_scalar(tag, scalar_value, global_step=None, walltime=None)`. For\n",
    "example, lets create a simple linear regression training, and log loss\n",
    "value using `add_scalar`\n"
   ]
  },
  {
   "cell_type": "code",
   "execution_count": null,
   "metadata": {
    "collapsed": false
   },
   "outputs": [],
   "source": [
    "x = torch.arange(-5, 5, 0.1).view(-1, 1)\n",
    "y = -5 * x + 0.1 * torch.randn(x.size())\n",
    "\n",
    "model = torch.nn.Linear(1, 1)\n",
    "criterion = torch.nn.MSELoss()\n",
    "optimizer = torch.optim.SGD(model.parameters(), lr = 0.1)\n",
    "\n",
    "def train_model(iter):\n",
    "    for epoch in range(iter):\n",
    "        y1 = model(x)\n",
    "        loss = criterion(y1, y)\n",
    "        writer.add_scalar(\"Loss/train\", loss, epoch)\n",
    "        optimizer.zero_grad()\n",
    "        loss.backward()\n",
    "        optimizer.step()\n",
    "        \n",
    "train_model(10)\n",
    "writer.flush()"
   ]
  },
  {
   "cell_type": "markdown",
   "metadata": {},
   "source": [
    "Call `flush()` method to make sure that all pending events have been\n",
    "written to disk.\n",
    "\n",
    "See [torch.utils.tensorboard\n",
    "tutorials](https://pytorch.org/docs/stable/tensorboard.html) to find\n",
    "more TensorBoard visualization types you can log.\n",
    "\n",
    "If you do not need the summary writer anymore, call `close()` method.\n"
   ]
  },
  {
   "cell_type": "code",
   "execution_count": null,
   "metadata": {
    "collapsed": false
   },
   "outputs": [],
   "source": [
    "writer.close()"
   ]
  },
  {
   "cell_type": "markdown",
   "metadata": {},
   "source": [
    "Run TensorBoard\n",
    "===============\n",
    "\n",
    "Install TensorBoard through the command line to visualize data you\n",
    "logged\n",
    "\n",
    "``` {.sh}\n",
    "pip install tensorboard\n",
    "```\n",
    "\n",
    "Now, start TensorBoard, specifying the root log directory you used\n",
    "above. Argument `logdir` points to directory where TensorBoard will look\n",
    "to find event files that it can display. TensorBoard will recursively\n",
    "walk the directory structure rooted at `logdir`, looking for\n",
    "`.*tfevents.*` files.\n",
    "\n",
    "``` {.sh}\n",
    "tensorboard --logdir=runs\n",
    "```\n",
    "\n",
    "Go to the URL it provides OR to <http://localhost:6006/>\n",
    "\n",
    "![image](https://pytorch.org/tutorials/_static/img/thumbnails/tensorboard_scalars.png)\n",
    "\n",
    "This dashboard shows how the loss and accuracy change with every epoch.\n",
    "You can use it to also track training speed, learning rate, and other\n",
    "scalar values. It's helpful to compare these metrics across different\n",
    "training runs to improve your model.\n"
   ]
  },
  {
   "cell_type": "markdown",
   "metadata": {},
   "source": [
    "Learn More\n",
    "==========\n",
    "\n",
    "-   [torch.utils.tensorboard](https://pytorch.org/docs/stable/tensorboard.html)\n",
    "    docs\n",
    "-   [Visualizing models, data, and training with\n",
    "    TensorBoard](https://pytorch.org/tutorials/intermediate/tensorboard_tutorial.html)\n",
    "    tutorial\n"
   ]
  }
 ],
 "metadata": {
  "kernelspec": {
   "display_name": "Python 3",
   "language": "python",
   "name": "python3"
  },
  "language_info": {
   "codemirror_mode": {
    "name": "ipython",
    "version": 3
   },
   "file_extension": ".py",
   "mimetype": "text/x-python",
   "name": "python",
   "nbconvert_exporter": "python",
   "pygments_lexer": "ipython3",
   "version": "3.10.12"
  }
 },
 "nbformat": 4,
 "nbformat_minor": 0
}
