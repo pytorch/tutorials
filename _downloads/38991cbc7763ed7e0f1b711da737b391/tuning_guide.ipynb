{
 "cells": [
  {
   "cell_type": "code",
   "execution_count": null,
   "metadata": {
    "collapsed": false
   },
   "outputs": [],
   "source": [
    "# For tips on running notebooks in Google Colab, see\n",
    "# https://docs.pytorch.org/tutorials/beginner/colab\n",
    "%matplotlib inline"
   ]
  },
  {
   "cell_type": "markdown",
   "metadata": {},
   "source": [
    "Performance Tuning Guide\n",
    "========================\n",
    "\n",
    "**Author**: [Szymon Migacz](https://github.com/szmigacz)\n",
    "\n",
    "Performance Tuning Guide is a set of optimizations and best practices\n",
    "which can accelerate training and inference of deep learning models in\n",
    "PyTorch. Presented techniques often can be implemented by changing only\n",
    "a few lines of code and can be applied to a wide range of deep learning\n",
    "models across all domains.\n",
    "\n",
    "<div style=\"width: 45%; float: left; padding: 20px;\"><h2> What you will learn</h2><ul><li>General optimization techniques for PyTorch models</li><li>CPU-specific performance optimizations</li><li>GPU acceleration strategies</li><li>Distributed training optimizations</li></ul></div><div style=\"width: 45%; float: right; padding: 20px;\"><h2> Prerequisites</h2><ul><li>PyTorch 2.0 or later</li><li>Python 3.8 or later</li><li>CUDA-capable GPU (recommended for GPU optimizations)</li><li>Linux, macOS, or Windows operating system</li></ul></div>\n",
    "\n",
    "Overview\n",
    "--------\n",
    "\n",
    "Performance optimization is crucial for efficient deep learning model\n",
    "training and inference. This tutorial covers a comprehensive set of\n",
    "techniques to accelerate PyTorch workloads across different hardware\n",
    "configurations and use cases.\n",
    "\n",
    "General optimizations\n",
    "---------------------\n"
   ]
  },
  {
   "cell_type": "code",
   "execution_count": null,
   "metadata": {
    "collapsed": false
   },
   "outputs": [],
   "source": [
    "import torch\n",
    "import torchvision"
   ]
  },
  {
   "cell_type": "markdown",
   "metadata": {},
   "source": [
    "Enable asynchronous data loading and augmentation\n",
    "=================================================\n",
    "\n",
    "[torch.utils.data.DataLoader](https://pytorch.org/docs/stable/data.html#torch.utils.data.DataLoader)\n",
    "supports asynchronous data loading and data augmentation in separate\n",
    "worker subprocesses. The default setting for `DataLoader` is\n",
    "`num_workers=0`, which means that the data loading is synchronous and\n",
    "done in the main process. As a result the main training process has to\n",
    "wait for the data to be available to continue the execution.\n",
    "\n",
    "Setting `num_workers > 0` enables asynchronous data loading and overlap\n",
    "between the training and data loading. `num_workers` should be tuned\n",
    "depending on the workload, CPU, GPU, and location of training data.\n",
    "\n",
    "`DataLoader` accepts `pin_memory` argument, which defaults to `False`.\n",
    "When using a GPU it\\'s better to set `pin_memory=True`, this instructs\n",
    "`DataLoader` to use pinned memory and enables faster and asynchronous\n",
    "memory copy from the host to the GPU.\n"
   ]
  },
  {
   "cell_type": "markdown",
   "metadata": {},
   "source": [
    "Disable gradient calculation for validation or inference\n",
    "========================================================\n",
    "\n",
    "PyTorch saves intermediate buffers from all operations which involve\n",
    "tensors that require gradients. Typically gradients aren\\'t needed for\n",
    "validation or inference.\n",
    "[torch.no\\_grad()](https://pytorch.org/docs/stable/generated/torch.no_grad.html#torch.no_grad)\n",
    "context manager can be applied to disable gradient calculation within a\n",
    "specified block of code, this accelerates execution and reduces the\n",
    "amount of required memory.\n",
    "[torch.no\\_grad()](https://pytorch.org/docs/stable/generated/torch.no_grad.html#torch.no_grad)\n",
    "can also be used as a function decorator.\n"
   ]
  },
  {
   "cell_type": "markdown",
   "metadata": {},
   "source": [
    "Disable bias for convolutions directly followed by a batch norm\n",
    "===============================================================\n",
    "\n",
    "[torch.nn.Conv2d()](https://pytorch.org/docs/stable/generated/torch.nn.Conv2d.html#torch.nn.Conv2d)\n",
    "has `bias` parameter which defaults to `True` (the same is true for\n",
    "[Conv1d](https://pytorch.org/docs/stable/generated/torch.nn.Conv1d.html#torch.nn.Conv1d)\n",
    "and\n",
    "[Conv3d](https://pytorch.org/docs/stable/generated/torch.nn.Conv3d.html#torch.nn.Conv3d)\n",
    ").\n",
    "\n",
    "If a `nn.Conv2d` layer is directly followed by a `nn.BatchNorm2d` layer,\n",
    "then the bias in the convolution is not needed, instead use\n",
    "`nn.Conv2d(..., bias=False, ....)`. Bias is not needed because in the\n",
    "first step `BatchNorm` subtracts the mean, which effectively cancels out\n",
    "the effect of bias.\n",
    "\n",
    "This is also applicable to 1d and 3d convolutions as long as `BatchNorm`\n",
    "(or other normalization layer) normalizes on the same dimension as\n",
    "convolution\\'s bias.\n",
    "\n",
    "Models available from [torchvision](https://github.com/pytorch/vision)\n",
    "already implement this optimization.\n"
   ]
  },
  {
   "cell_type": "markdown",
   "metadata": {},
   "source": [
    "Use parameter.grad = None instead of model.zero\\_grad() or optimizer.zero\\_grad()\n",
    "=================================================================================\n",
    "\n",
    "Instead of calling:\n"
   ]
  },
  {
   "cell_type": "code",
   "execution_count": null,
   "metadata": {
    "collapsed": false
   },
   "outputs": [],
   "source": [
    "model.zero_grad()\n",
    "# or\n",
    "optimizer.zero_grad()"
   ]
  },
  {
   "cell_type": "markdown",
   "metadata": {},
   "source": [
    "to zero out gradients, use the following method instead:\n"
   ]
  },
  {
   "cell_type": "code",
   "execution_count": null,
   "metadata": {
    "collapsed": false
   },
   "outputs": [],
   "source": [
    "for param in model.parameters():\n",
    "    param.grad = None"
   ]
  },
  {
   "cell_type": "markdown",
   "metadata": {},
   "source": [
    "The second code snippet does not zero the memory of each individual\n",
    "parameter, also the subsequent backward pass uses assignment instead of\n",
    "addition to store gradients, this reduces the number of memory\n",
    "operations.\n",
    "\n",
    "Setting gradient to `None` has a slightly different numerical behavior\n",
    "than setting it to zero, for more details refer to the\n",
    "[documentation](https://pytorch.org/docs/master/optim.html#torch.optim.Optimizer.zero_grad).\n",
    "\n",
    "Alternatively, call `model` or `optimizer.zero_grad(set_to_none=True)`.\n"
   ]
  },
  {
   "cell_type": "markdown",
   "metadata": {},
   "source": [
    "Fuse operations\n",
    "===============\n",
    "\n",
    "Pointwise operations such as elementwise addition, multiplication, and\n",
    "math functions like [sin()]{.title-ref}, [cos()]{.title-ref},\n",
    "[sigmoid()]{.title-ref}, etc., can be combined into a single kernel.\n",
    "This fusion helps reduce memory access and kernel launch times.\n",
    "Typically, pointwise operations are memory-bound; PyTorch eager-mode\n",
    "initiates a separate kernel for each operation, which involves loading\n",
    "data from memory, executing the operation (often not the most\n",
    "time-consuming step), and writing the results back to memory.\n",
    "\n",
    "By using a fused operator, only one kernel is launched for multiple\n",
    "pointwise operations, and data is loaded and stored just once. This\n",
    "efficiency is particularly beneficial for activation functions,\n",
    "optimizers, and custom RNN cells etc.\n",
    "\n",
    "PyTorch 2 introduces a compile-mode facilitated by TorchInductor, an\n",
    "underlying compiler that automatically fuses kernels. TorchInductor\n",
    "extends its capabilities beyond simple element-wise operations, enabling\n",
    "advanced fusion of eligible pointwise and reduction operations for\n",
    "optimized performance.\n",
    "\n",
    "In the simplest case fusion can be enabled by applying\n",
    "[torch.compile](https://pytorch.org/docs/stable/generated/torch.compile.html)\n",
    "decorator to the function definition, for example:\n"
   ]
  },
  {
   "cell_type": "code",
   "execution_count": null,
   "metadata": {
    "collapsed": false
   },
   "outputs": [],
   "source": [
    "@torch.compile\n",
    "def gelu(x):\n",
    "    return x * 0.5 * (1.0 + torch.erf(x / 1.41421))"
   ]
  },
  {
   "cell_type": "markdown",
   "metadata": {},
   "source": [
    "Refer to [Introduction to\n",
    "torch.compile](https://pytorch.org/tutorials/intermediate/torch_compile_tutorial.html)\n",
    "for more advanced use cases.\n"
   ]
  },
  {
   "cell_type": "markdown",
   "metadata": {},
   "source": [
    "Enable channels\\_last memory format for computer vision models\n",
    "==============================================================\n",
    "\n",
    "PyTorch supports `channels_last` memory format for convolutional\n",
    "networks. This format is meant to be used in conjunction with\n",
    "[AMP](https://pytorch.org/docs/stable/amp.html) to further accelerate\n",
    "convolutional neural networks with [Tensor\n",
    "Cores](https://www.nvidia.com/en-us/data-center/tensor-cores/).\n",
    "\n",
    "Support for `channels_last` is experimental, but it\\'s expected to work\n",
    "for standard computer vision models (e.g. ResNet-50, SSD). To convert\n",
    "models to `channels_last` format follow [Channels Last Memory Format\n",
    "Tutorial](https://pytorch.org/tutorials/intermediate/memory_format_tutorial.html).\n",
    "The tutorial includes a section on [converting existing\n",
    "models](https://pytorch.org/tutorials/intermediate/memory_format_tutorial.html#converting-existing-models).\n"
   ]
  },
  {
   "cell_type": "markdown",
   "metadata": {},
   "source": [
    "Checkpoint intermediate buffers\n",
    "===============================\n",
    "\n",
    "Buffer checkpointing is a technique to mitigate the memory capacity\n",
    "burden of model training. Instead of storing inputs of all layers to\n",
    "compute upstream gradients in backward propagation, it stores the inputs\n",
    "of a few layers and the others are recomputed during backward pass. The\n",
    "reduced memory requirements enables increasing the batch size that can\n",
    "improve utilization.\n",
    "\n",
    "Checkpointing targets should be selected carefully. The best is not to\n",
    "store large layer outputs that have small re-computation cost. The\n",
    "example target layers are activation functions (e.g. `ReLU`, `Sigmoid`,\n",
    "`Tanh`), up/down sampling and matrix-vector operations with small\n",
    "accumulation depth.\n",
    "\n",
    "PyTorch supports a native\n",
    "[torch.utils.checkpoint](https://pytorch.org/docs/stable/checkpoint.html)\n",
    "API to automatically perform checkpointing and recomputation.\n"
   ]
  },
  {
   "cell_type": "markdown",
   "metadata": {},
   "source": [
    "Disable debugging APIs\n",
    "======================\n",
    "\n",
    "Many PyTorch APIs are intended for debugging and should be disabled for\n",
    "regular training runs:\n",
    "\n",
    "-   anomaly detection:\n",
    "    [torch.autograd.detect\\_anomaly](https://pytorch.org/docs/stable/autograd.html#torch.autograd.detect_anomaly)\n",
    "    or\n",
    "    [torch.autograd.set\\_detect\\_anomaly(True)](https://pytorch.org/docs/stable/autograd.html#torch.autograd.set_detect_anomaly)\n",
    "-   profiler related:\n",
    "    [torch.autograd.profiler.emit\\_nvtx](https://pytorch.org/docs/stable/autograd.html#torch.autograd.profiler.emit_nvtx),\n",
    "    [torch.autograd.profiler.profile](https://pytorch.org/docs/stable/autograd.html#torch.autograd.profiler.profile)\n",
    "-   autograd `gradcheck`:\n",
    "    [torch.autograd.gradcheck](https://pytorch.org/docs/stable/autograd.html#torch.autograd.gradcheck)\n",
    "    or\n",
    "    [torch.autograd.gradgradcheck](https://pytorch.org/docs/stable/autograd.html#torch.autograd.gradgradcheck)\n"
   ]
  },
  {
   "cell_type": "markdown",
   "metadata": {},
   "source": [
    "CPU specific optimizations\n",
    "==========================\n"
   ]
  },
  {
   "cell_type": "markdown",
   "metadata": {},
   "source": [
    "Utilize Non-Uniform Memory Access (NUMA) Controls\n",
    "=================================================\n",
    "\n",
    "NUMA or non-uniform memory access is a memory layout design used in data\n",
    "center machines meant to take advantage of locality of memory in\n",
    "multi-socket machines with multiple memory controllers and blocks.\n",
    "Generally speaking, all deep learning workloads, training or inference,\n",
    "get better performance without accessing hardware resources across NUMA\n",
    "nodes. Thus, inference can be run with multiple instances, each instance\n",
    "runs on one socket, to raise throughput. For training tasks on single\n",
    "node, distributed training is recommended to make each training process\n",
    "run on one socket.\n",
    "\n",
    "In general cases the following command executes a PyTorch script on\n",
    "cores on the Nth node only, and avoids cross-socket memory access to\n",
    "reduce memory access overhead.\n",
    "\n",
    "``` {.sh}\n",
    "numactl --cpunodebind=N --membind=N python <pytorch_script>\n",
    "```\n"
   ]
  },
  {
   "cell_type": "markdown",
   "metadata": {},
   "source": [
    "More detailed descriptions can be found\n",
    "[here](https://intel.github.io/intel-extension-for-pytorch/cpu/latest/tutorials/performance_tuning/tuning_guide.html).\n"
   ]
  },
  {
   "cell_type": "markdown",
   "metadata": {},
   "source": [
    "Utilize OpenMP\n",
    "==============\n",
    "\n",
    "OpenMP is utilized to bring better performance for parallel computation\n",
    "tasks. `OMP_NUM_THREADS` is the easiest switch that can be used to\n",
    "accelerate computations. It determines number of threads used for OpenMP\n",
    "computations. CPU affinity setting controls how workloads are\n",
    "distributed over multiple cores. It affects communication overhead,\n",
    "cache line invalidation overhead, or page thrashing, thus proper setting\n",
    "of CPU affinity brings performance benefits. `GOMP_CPU_AFFINITY` or\n",
    "`KMP_AFFINITY` determines how to bind OpenMP\\* threads to physical\n",
    "processing units. Detailed information can be found\n",
    "[here](https://intel.github.io/intel-extension-for-pytorch/cpu/latest/tutorials/performance_tuning/tuning_guide.html).\n"
   ]
  },
  {
   "cell_type": "markdown",
   "metadata": {},
   "source": [
    "With the following command, PyTorch run the task on N OpenMP threads.\n",
    "\n",
    "``` {.sh}\n",
    "export OMP_NUM_THREADS=N\n",
    "```\n"
   ]
  },
  {
   "cell_type": "markdown",
   "metadata": {},
   "source": [
    "Typically, the following environment variables are used to set for CPU\n",
    "affinity with GNU OpenMP implementation. `OMP_PROC_BIND` specifies\n",
    "whether threads may be moved between processors. Setting it to CLOSE\n",
    "keeps OpenMP threads close to the primary thread in contiguous place\n",
    "partitions. `OMP_SCHEDULE` determines how OpenMP threads are scheduled.\n",
    "`GOMP_CPU_AFFINITY` binds threads to specific CPUs. An important tuning\n",
    "parameter is core pinning which prevent the threads of migrating between\n",
    "multiple CPUs, enhancing data location and minimizing inter core\n",
    "communication.\n",
    "\n",
    "``` {.sh}\n",
    "export OMP_SCHEDULE=STATIC\n",
    "export OMP_PROC_BIND=CLOSE\n",
    "export GOMP_CPU_AFFINITY=\"N-M\"\n",
    "```\n"
   ]
  },
  {
   "cell_type": "markdown",
   "metadata": {},
   "source": [
    "Intel OpenMP Runtime Library (`libiomp`)\n",
    "========================================\n",
    "\n",
    "By default, PyTorch uses GNU OpenMP (GNU `libgomp`) for parallel\n",
    "computation. On Intel platforms, Intel OpenMP Runtime Library\n",
    "(`libiomp`) provides OpenMP API specification support. It sometimes\n",
    "brings more performance benefits compared to `libgomp`. Utilizing\n",
    "environment variable `LD_PRELOAD` can switch OpenMP library to\n",
    "`libiomp`:\n",
    "\n",
    "``` {.sh}\n",
    "export LD_PRELOAD=<path>/libiomp5.so:$LD_PRELOAD\n",
    "```\n"
   ]
  },
  {
   "cell_type": "markdown",
   "metadata": {},
   "source": [
    "Similar to CPU affinity settings in GNU OpenMP, environment variables\n",
    "are provided in `libiomp` to control CPU affinity settings.\n",
    "`KMP_AFFINITY` binds OpenMP threads to physical processing units.\n",
    "`KMP_BLOCKTIME` sets the time, in milliseconds, that a thread should\n",
    "wait, after completing the execution of a parallel region, before\n",
    "sleeping. In most cases, setting `KMP_BLOCKTIME` to 1 or 0 yields good\n",
    "performances. The following commands show a common settings with Intel\n",
    "OpenMP Runtime Library.\n",
    "\n",
    "``` {.sh}\n",
    "export KMP_AFFINITY=granularity=fine,compact,1,0\n",
    "export KMP_BLOCKTIME=1\n",
    "```\n"
   ]
  },
  {
   "cell_type": "markdown",
   "metadata": {},
   "source": [
    "Switch Memory allocator\n",
    "=======================\n",
    "\n",
    "For deep learning workloads, `Jemalloc` or `TCMalloc` can get better\n",
    "performance by reusing memory as much as possible than default `malloc`\n",
    "function. [Jemalloc](https://github.com/jemalloc/jemalloc) is a general\n",
    "purpose `malloc` implementation that emphasizes fragmentation avoidance\n",
    "and scalable concurrency support.\n",
    "[TCMalloc](https://google.github.io/tcmalloc/overview.html) also\n",
    "features a couple of optimizations to speed up program executions. One\n",
    "of them is holding memory in caches to speed up access of commonly-used\n",
    "objects. Holding such caches even after deallocation also helps avoid\n",
    "costly system calls if such memory is later re-allocated. Use\n",
    "environment variable `LD_PRELOAD` to take advantage of one of them.\n",
    "\n",
    "``` {.sh}\n",
    "export LD_PRELOAD=<jemalloc.so/tcmalloc.so>:$LD_PRELOAD\n",
    "```\n"
   ]
  },
  {
   "cell_type": "markdown",
   "metadata": {},
   "source": [
    "Train a model on CPU with PyTorch `DistributedDataParallel`(DDP) functionality\n",
    "==============================================================================\n",
    "\n",
    "For small scale models or memory-bound models, such as DLRM, training on\n",
    "CPU is also a good choice. On a machine with multiple sockets,\n",
    "distributed training brings a high-efficient hardware resource usage to\n",
    "accelerate the training process.\n",
    "[Torch-ccl](https://github.com/intel/torch-ccl), optimized with Intel(R)\n",
    "`oneCCL` (collective communications library) for efficient distributed\n",
    "deep learning training implementing such collectives like `allreduce`,\n",
    "`allgather`, `alltoall`, implements PyTorch C10D `ProcessGroup` API and\n",
    "can be dynamically loaded as external `ProcessGroup`. Upon optimizations\n",
    "implemented in PyTorch DDP module, `torch-ccl` accelerates communication\n",
    "operations. Beside the optimizations made to communication kernels,\n",
    "`torch-ccl` also features simultaneous computation-communication\n",
    "functionality.\n"
   ]
  },
  {
   "cell_type": "markdown",
   "metadata": {},
   "source": [
    "GPU specific optimizations\n",
    "==========================\n"
   ]
  },
  {
   "cell_type": "markdown",
   "metadata": {},
   "source": [
    "Enable Tensor cores\n",
    "===================\n",
    "\n",
    "Tensor cores are specialized hardware designed to compute matrix-matrix\n",
    "multiplication operations, primarily utilized in deep learning and AI\n",
    "workloads. Tensor cores have specific precision requirements which can\n",
    "be adjusted manually or via the Automatic Mixed Precision API.\n",
    "\n",
    "In particular, tensor operations take advantage of lower precision\n",
    "workloads. Which can be controlled via\n",
    "`torch.set_float32_matmul_precision`. The default format is set to\n",
    "\\'highest,\\' which utilizes the tensor data type. However, PyTorch\n",
    "offers alternative precision settings: \\'high\\' and \\'medium.\\' These\n",
    "options prioritize computational speed over numerical precision.\\\"\n"
   ]
  },
  {
   "cell_type": "markdown",
   "metadata": {},
   "source": [
    "Use CUDA Graphs\n",
    "===============\n",
    "\n",
    "At the time of using a GPU, work first must be launched from the CPU and\n",
    "in some cases the context switch between CPU and GPU can lead to bad\n",
    "resource utilization. CUDA graphs are a way to keep computation within\n",
    "the GPU without paying the extra cost of kernel launches and host\n",
    "synchronization.\n"
   ]
  },
  {
   "cell_type": "code",
   "execution_count": null,
   "metadata": {
    "collapsed": false
   },
   "outputs": [],
   "source": [
    "# It can be enabled using \n",
    "torch.compile(m, \"reduce-overhead\")\n",
    "# or\n",
    "torch.compile(m, \"max-autotune\")"
   ]
  },
  {
   "cell_type": "markdown",
   "metadata": {},
   "source": [
    "Support for CUDA graph is in development, and its usage can incur in\n",
    "increased device memory consumption and some models might not compile.\n"
   ]
  },
  {
   "cell_type": "markdown",
   "metadata": {},
   "source": [
    "Enable cuDNN auto-tuner\n",
    "=======================\n",
    "\n",
    "[NVIDIA cuDNN](https://developer.nvidia.com/cudnn) supports many\n",
    "algorithms to compute a convolution. Autotuner runs a short benchmark\n",
    "and selects the kernel with the best performance on a given hardware for\n",
    "a given input size.\n",
    "\n",
    "For convolutional networks (other types currently not supported), enable\n",
    "cuDNN autotuner before launching the training loop by setting:\n"
   ]
  },
  {
   "cell_type": "code",
   "execution_count": null,
   "metadata": {
    "collapsed": false
   },
   "outputs": [],
   "source": [
    "torch.backends.cudnn.benchmark = True"
   ]
  },
  {
   "cell_type": "markdown",
   "metadata": {},
   "source": [
    "-   the auto-tuner decisions may be non-deterministic; different\n",
    "    algorithm may be selected for different runs. For more details see\n",
    "    [PyTorch:\n",
    "    Reproducibility](https://pytorch.org/docs/stable/notes/randomness.html?highlight=determinism)\n",
    "-   in some rare cases, such as with highly variable input sizes, it\\'s\n",
    "    better to run convolutional networks with autotuner disabled to\n",
    "    avoid the overhead associated with algorithm selection for each\n",
    "    input size.\n"
   ]
  },
  {
   "cell_type": "markdown",
   "metadata": {},
   "source": [
    "Avoid unnecessary CPU-GPU synchronization\n",
    "=========================================\n",
    "\n",
    "Avoid unnecessary synchronizations, to let the CPU run ahead of the\n",
    "accelerator as much as possible to make sure that the accelerator work\n",
    "queue contains many operations.\n",
    "\n",
    "When possible, avoid operations which require synchronizations, for\n",
    "example:\n",
    "\n",
    "-   `print(cuda_tensor)`\n",
    "-   `cuda_tensor.item()`\n",
    "-   memory copies: `tensor.cuda()`, `cuda_tensor.cpu()` and equivalent\n",
    "    `tensor.to(device)` calls\n",
    "-   `cuda_tensor.nonzero()`\n",
    "-   python control flow which depends on results of operations performed\n",
    "    on CUDA tensors e.g. `if (cuda_tensor != 0).all()`\n"
   ]
  },
  {
   "cell_type": "markdown",
   "metadata": {},
   "source": [
    "Create tensors directly on the target device\n",
    "============================================\n",
    "\n",
    "Instead of calling `torch.rand(size).cuda()` to generate a random\n",
    "tensor, produce the output directly on the target device:\n",
    "`torch.rand(size, device='cuda')`.\n",
    "\n",
    "This is applicable to all functions which create new tensors and accept\n",
    "`device` argument:\n",
    "[torch.rand()](https://pytorch.org/docs/stable/generated/torch.rand.html#torch.rand),\n",
    "[torch.zeros()](https://pytorch.org/docs/stable/generated/torch.zeros.html#torch.zeros),\n",
    "[torch.full()](https://pytorch.org/docs/stable/generated/torch.full.html#torch.full)\n",
    "and similar.\n"
   ]
  },
  {
   "cell_type": "markdown",
   "metadata": {},
   "source": [
    "Use mixed precision and AMP\n",
    "===========================\n",
    "\n",
    "Mixed precision leverages [Tensor\n",
    "Cores](https://www.nvidia.com/en-us/data-center/tensor-cores/) and\n",
    "offers up to 3x overall speedup on Volta and newer GPU architectures. To\n",
    "use Tensor Cores AMP should be enabled and matrix/tensor dimensions\n",
    "should satisfy requirements for calling kernels that use Tensor Cores.\n",
    "\n",
    "To use Tensor Cores:\n",
    "\n",
    "-   set sizes to multiples of 8 (to map onto dimensions of Tensor Cores)\n",
    "    -   see [Deep Learning Performance\n",
    "        Documentation](https://docs.nvidia.com/deeplearning/performance/index.html#optimizing-performance)\n",
    "        for more details and guidelines specific to layer type\n",
    "    -   if layer size is derived from other parameters rather than\n",
    "        fixed, it can still be explicitly padded e.g. vocabulary size in\n",
    "        NLP models\n",
    "-   enable AMP\n",
    "    -   Introduction to Mixed Precision Training and AMP:\n",
    "        [slides](https://nvlabs.github.io/eccv2020-mixed-precision-tutorial/files/dusan_stosic-training-neural-networks-with-tensor-cores.pdf)\n",
    "    -   native PyTorch AMP is available:\n",
    "        [documentation](https://pytorch.org/docs/stable/amp.html),\n",
    "        [examples](https://pytorch.org/docs/stable/notes/amp_examples.html#amp-examples),\n",
    "        [tutorial](https://pytorch.org/tutorials/recipes/recipes/amp_recipe.html)\n"
   ]
  },
  {
   "cell_type": "markdown",
   "metadata": {},
   "source": [
    "Preallocate memory in case of variable input length\n",
    "===================================================\n",
    "\n",
    "Models for speech recognition or for NLP are often trained on input\n",
    "tensors with variable sequence length. Variable length can be\n",
    "problematic for PyTorch caching allocator and can lead to reduced\n",
    "performance or to unexpected out-of-memory errors. If a batch with a\n",
    "short sequence length is followed by an another batch with longer\n",
    "sequence length, then PyTorch is forced to release intermediate buffers\n",
    "from previous iteration and to re-allocate new buffers. This process is\n",
    "time consuming and causes fragmentation in the caching allocator which\n",
    "may result in out-of-memory errors.\n",
    "\n",
    "A typical solution is to implement preallocation. It consists of the\n",
    "following steps:\n",
    "\n",
    "1.  generate a (usually random) batch of inputs with maximum sequence\n",
    "    length (either corresponding to max length in the training dataset\n",
    "    or to some predefined threshold)\n",
    "2.  execute a forward and a backward pass with the generated batch, do\n",
    "    not execute an optimizer or a learning rate scheduler, this step\n",
    "    preallocates buffers of maximum size, which can be reused in\n",
    "    subsequent training iterations\n",
    "3.  zero out gradients\n",
    "4.  proceed to regular training\n"
   ]
  },
  {
   "cell_type": "markdown",
   "metadata": {},
   "source": [
    "Distributed optimizations\n",
    "=========================\n"
   ]
  },
  {
   "cell_type": "markdown",
   "metadata": {},
   "source": [
    "Use efficient data-parallel backend\n",
    "===================================\n",
    "\n",
    "PyTorch has two ways to implement data-parallel training:\n",
    "\n",
    "-   [torch.nn.DataParallel](https://pytorch.org/docs/stable/generated/torch.nn.DataParallel.html#torch.nn.DataParallel)\n",
    "-   [torch.nn.parallel.DistributedDataParallel](https://pytorch.org/docs/stable/generated/torch.nn.parallel.DistributedDataParallel.html#torch.nn.parallel.DistributedDataParallel)\n",
    "\n",
    "`DistributedDataParallel` offers much better performance and scaling to\n",
    "multiple-GPUs. For more information refer to the [relevant section of\n",
    "CUDA Best\n",
    "Practices](https://pytorch.org/docs/stable/notes/cuda.html#use-nn-parallel-distributeddataparallel-instead-of-multiprocessing-or-nn-dataparallel)\n",
    "from PyTorch documentation.\n"
   ]
  },
  {
   "cell_type": "markdown",
   "metadata": {},
   "source": [
    "Skip unnecessary all-reduce if training with `DistributedDataParallel` and gradient accumulation\n",
    "================================================================================================\n",
    "\n",
    "By default\n",
    "[torch.nn.parallel.DistributedDataParallel](https://pytorch.org/docs/stable/generated/torch.nn.parallel.DistributedDataParallel.html#torch.nn.parallel.DistributedDataParallel)\n",
    "executes gradient all-reduce after every backward pass to compute the\n",
    "average gradient over all workers participating in the training. If\n",
    "training uses gradient accumulation over N steps, then all-reduce is not\n",
    "necessary after every training step, it\\'s only required to perform\n",
    "all-reduce after the last call to backward, just before the execution of\n",
    "the optimizer.\n",
    "\n",
    "`DistributedDataParallel` provides\n",
    "[no\\_sync()](https://pytorch.org/docs/stable/generated/torch.nn.parallel.DistributedDataParallel.html#torch.nn.parallel.DistributedDataParallel.no_sync)\n",
    "context manager which disables gradient all-reduce for particular\n",
    "iteration. `no_sync()` should be applied to first `N-1` iterations of\n",
    "gradient accumulation, the last iteration should follow the default\n",
    "execution and perform the required gradient all-reduce.\n"
   ]
  },
  {
   "cell_type": "markdown",
   "metadata": {},
   "source": [
    "Match the order of layers in constructors and during the execution if using `DistributedDataParallel(find_unused_parameters=True)`\n",
    "==================================================================================================================================\n",
    "\n",
    "[torch.nn.parallel.DistributedDataParallel](https://pytorch.org/docs/stable/generated/torch.nn.parallel.DistributedDataParallel.html#torch.nn.parallel.DistributedDataParallel)\n",
    "with `find_unused_parameters=True` uses the order of layers and\n",
    "parameters from model constructors to build buckets for\n",
    "`DistributedDataParallel` gradient all-reduce. `DistributedDataParallel`\n",
    "overlaps all-reduce with the backward pass. All-reduce for a particular\n",
    "bucket is asynchronously triggered only when all gradients for\n",
    "parameters in a given bucket are available.\n",
    "\n",
    "To maximize the amount of overlap, the order in model constructors\n",
    "should roughly match the order during the execution. If the order\n",
    "doesn\\'t match, then all-reduce for the entire bucket waits for the\n",
    "gradient which is the last to arrive, this may reduce the overlap\n",
    "between backward pass and all-reduce, all-reduce may end up being\n",
    "exposed, which slows down the training.\n",
    "\n",
    "`DistributedDataParallel` with `find_unused_parameters=False` (which is\n",
    "the default setting) relies on automatic bucket formation based on order\n",
    "of operations encountered during the backward pass. With\n",
    "`find_unused_parameters=False` it\\'s not necessary to reorder layers or\n",
    "parameters to achieve optimal performance.\n"
   ]
  },
  {
   "cell_type": "markdown",
   "metadata": {},
   "source": [
    "Load-balance workload in a distributed setting\n",
    "==============================================\n",
    "\n",
    "Load imbalance typically may happen for models processing sequential\n",
    "data (speech recognition, translation, language models etc.). If one\n",
    "device receives a batch of data with sequence length longer than\n",
    "sequence lengths for the remaining devices, then all devices wait for\n",
    "the worker which finishes last. Backward pass functions as an implicit\n",
    "synchronization point in a distributed setting with\n",
    "[DistributedDataParallel](https://pytorch.org/docs/stable/generated/torch.nn.parallel.DistributedDataParallel.html#torch.nn.parallel.DistributedDataParallel)\n",
    "backend.\n",
    "\n",
    "There are multiple ways to solve the load balancing problem. The core\n",
    "idea is to distribute workload over all workers as uniformly as possible\n",
    "within each global batch. For example Transformer solves imbalance by\n",
    "forming batches with approximately constant number of tokens (and\n",
    "variable number of sequences in a batch), other models solve imbalance\n",
    "by bucketing samples with similar sequence length or even by sorting\n",
    "dataset by sequence length.\n"
   ]
  },
  {
   "cell_type": "markdown",
   "metadata": {},
   "source": [
    "Conclusion\n",
    "==========\n",
    "\n",
    "This tutorial covered a comprehensive set of performance optimization\n",
    "techniques for PyTorch models. The key takeaways include:\n",
    "\n",
    "-   **General optimizations**: Enable async data loading, disable\n",
    "    gradients for inference, fuse operations with `torch.compile`, and\n",
    "    use efficient memory formats\n",
    "-   **CPU optimizations**: Leverage NUMA controls, optimize OpenMP\n",
    "    settings, and use efficient memory allocators\n",
    "-   **GPU optimizations**: Enable Tensor cores, use CUDA graphs, enable\n",
    "    cuDNN autotuner, and implement mixed precision training\n",
    "-   **Distributed optimizations**: Use DistributedDataParallel, optimize\n",
    "    gradient synchronization, and balance workloads across devices\n",
    "\n",
    "Many of these optimizations can be applied with minimal code changes and\n",
    "provide significant performance improvements across a wide range of deep\n",
    "learning models.\n",
    "\n",
    "Further Reading\n",
    "===============\n",
    "\n",
    "-   [PyTorch Performance Tuning\n",
    "    Documentation](https://pytorch.org/tutorials/recipes/recipes/tuning_guide.html)\n",
    "-   [CUDA Best\n",
    "    Practices](https://pytorch.org/docs/stable/notes/cuda.html)\n",
    "-   [Distributed Training\n",
    "    Documentation](https://pytorch.org/tutorials/intermediate/ddp_tutorial.html)\n",
    "-   [Mixed Precision Training](https://pytorch.org/docs/stable/amp.html)\n",
    "-   [torch.compile\n",
    "    Tutorial](https://pytorch.org/tutorials/intermediate/torch_compile_tutorial.html)\n"
   ]
  }
 ],
 "metadata": {
  "kernelspec": {
   "display_name": "Python 3",
   "language": "python",
   "name": "python3"
  },
  "language_info": {
   "codemirror_mode": {
    "name": "ipython",
    "version": 3
   },
   "file_extension": ".py",
   "mimetype": "text/x-python",
   "name": "python",
   "nbconvert_exporter": "python",
   "pygments_lexer": "ipython3",
   "version": "3.10.12"
  }
 },
 "nbformat": 4,
 "nbformat_minor": 0
}
