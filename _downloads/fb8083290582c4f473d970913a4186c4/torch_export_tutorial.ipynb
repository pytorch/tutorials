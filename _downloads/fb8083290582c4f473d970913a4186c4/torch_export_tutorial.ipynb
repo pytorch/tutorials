{
 "cells": [
  {
   "cell_type": "code",
   "execution_count": null,
   "metadata": {
    "collapsed": false
   },
   "outputs": [],
   "source": [
    "# For tips on running notebooks in Google Colab, see\n",
    "# https://docs.pytorch.org/tutorials/beginner/colab\n",
    "%matplotlib inline"
   ]
  },
  {
   "cell_type": "markdown",
   "metadata": {},
   "source": [
    "torch.export Tutorial\n",
    "=====================\n",
    "\n",
    "**Author:** William Wen, Zhengxu Chen, Angela Yi, Pian Pawakapan\n"
   ]
  },
  {
   "cell_type": "markdown",
   "metadata": {},
   "source": [
    "<div style=\"background-color: #e94f3b; color: #fff; font-weight: 700; padding-left: 10px; padding-top: 5px; padding-bottom: 5px\"><strong>WARNING:</strong></div>\n",
    "\n",
    "<div style=\"background-color: #f3f4f7; padding-left: 10px; padding-top: 10px; padding-bottom: 10px; padding-right: 10px\">\n",
    "\n",
    "<p><code>torch.export</code> and its related features are in prototype status and are subject to backwards compatibilitybreaking changes. This tutorial provides a snapshot of <code>torch.export</code> usage as of PyTorch 2.5.</p>\n",
    "\n",
    "</div>\n",
    "\n",
    "`torch.export`{.interpreted-text role=\"func\"} is the PyTorch 2.X way to\n",
    "export PyTorch models into standardized model representations, intended\n",
    "to be run on different (i.e. Python-less) environments. The official\n",
    "documentation can be found\n",
    "[here](https://pytorch.org/docs/main/export.html).\n",
    "\n",
    "In this tutorial, you will learn how to use\n",
    "`torch.export`{.interpreted-text role=\"func\"} to extract\n",
    "`ExportedProgram`\\'s (i.e. single-graph representations) from PyTorch\n",
    "programs. We also detail some considerations/modifications that you may\n",
    "need to make in order to make your model compatible with `torch.export`.\n",
    "\n",
    "**Contents**\n",
    "\n",
    "::: {.contents local=\"\"}\n",
    ":::\n"
   ]
  },
  {
   "cell_type": "markdown",
   "metadata": {},
   "source": [
    "Basic Usage\n",
    "===========\n",
    "\n",
    "`torch.export` extracts single-graph representations from PyTorch\n",
    "programs by tracing the target function, given example inputs.\n",
    "`torch.export.export()` is the main entry point for `torch.export`.\n",
    "\n",
    "In this tutorial, `torch.export` and `torch.export.export()` are\n",
    "practically synonymous, though `torch.export` generally refers to the\n",
    "PyTorch 2.X export process, and `torch.export.export()` generally refers\n",
    "to the actual function call.\n",
    "\n",
    "The signature of `torch.export.export()` is:\n",
    "\n",
    "``` {.python}\n",
    "export(\n",
    "    mod: torch.nn.Module,\n",
    "    args: Tuple[Any, ...],\n",
    "    kwargs: Optional[Dict[str, Any]] = None,\n",
    "    *,\n",
    "    dynamic_shapes: Optional[Dict[str, Dict[int, Dim]]] = None\n",
    ") -> ExportedProgram\n",
    "```\n",
    "\n",
    "`torch.export.export()` traces the tensor computation graph from calling\n",
    "`mod(*args, **kwargs)` and wraps it in an `ExportedProgram`, which can\n",
    "be serialized or executed later with different inputs. To execute the\n",
    "`ExportedProgram` we can call `.module()` on it to return a\n",
    "`torch.nn.Module` which is callable, just like the original program. We\n",
    "will detail the `dynamic_shapes` argument later in the tutorial.\n"
   ]
  },
  {
   "cell_type": "code",
   "execution_count": null,
   "metadata": {
    "collapsed": false
   },
   "outputs": [],
   "source": [
    "import torch\n",
    "from torch.export import export\n",
    "\n",
    "class MyModule(torch.nn.Module):\n",
    "    def __init__(self):\n",
    "        super().__init__()\n",
    "        self.lin = torch.nn.Linear(100, 10)\n",
    "\n",
    "    def forward(self, x, y):\n",
    "        return torch.nn.functional.relu(self.lin(x + y), inplace=True)\n",
    "\n",
    "mod = MyModule()\n",
    "exported_mod = export(mod, (torch.randn(8, 100), torch.randn(8, 100)))\n",
    "print(type(exported_mod))\n",
    "print(exported_mod.module()(torch.randn(8, 100), torch.randn(8, 100)))"
   ]
  },
  {
   "cell_type": "markdown",
   "metadata": {},
   "source": [
    "Let\\'s review some attributes of `ExportedProgram` that are of interest.\n",
    "\n",
    "The `graph` attribute is an [FX\n",
    "graph](https://pytorch.org/docs/stable/fx.html#torch.fx.Graph) traced\n",
    "from the function we exported, that is, the computation graph of all\n",
    "PyTorch operations. The FX graph is in \\\"ATen IR\\\" meaning that it\n",
    "contains only \\\"ATen-level\\\" operations.\n",
    "\n",
    "The `graph_signature` attribute gives a more detailed description of the\n",
    "input and output nodes in the exported graph, describing which ones are\n",
    "parameters, buffers, user inputs, or user outputs.\n",
    "\n",
    "The `range_constraints` attributes will be covered later.\n"
   ]
  },
  {
   "cell_type": "code",
   "execution_count": null,
   "metadata": {
    "collapsed": false
   },
   "outputs": [],
   "source": [
    "print(exported_mod)"
   ]
  },
  {
   "cell_type": "markdown",
   "metadata": {},
   "source": [
    "See the `torch.export`\n",
    "[documentation](https://pytorch.org/docs/main/export.html#torch.export.export)\n",
    "for more details.\n"
   ]
  },
  {
   "cell_type": "markdown",
   "metadata": {},
   "source": [
    "Graph Breaks\n",
    "============\n",
    "\n",
    "Although `torch.export` shares components with `torch.compile`, the key\n",
    "limitation of `torch.export`, especially when compared to\n",
    "`torch.compile`, is that it does not support graph breaks. This is\n",
    "because handling graph breaks involves interpreting the unsupported\n",
    "operation with default Python evaluation, which is incompatible with the\n",
    "export use case. Therefore, in order to make your model code compatible\n",
    "with `torch.export`, you will need to modify your code to remove graph\n",
    "breaks.\n",
    "\n",
    "A graph break is necessary in cases such as:\n",
    "\n",
    "-   data-dependent control flow\n"
   ]
  },
  {
   "cell_type": "code",
   "execution_count": null,
   "metadata": {
    "collapsed": false
   },
   "outputs": [],
   "source": [
    "class Bad1(torch.nn.Module):\n",
    "    def forward(self, x):\n",
    "        if x.sum() > 0:\n",
    "            return torch.sin(x)\n",
    "        return torch.cos(x)\n",
    "\n",
    "import traceback as tb\n",
    "try:\n",
    "    export(Bad1(), (torch.randn(3, 3),))\n",
    "except Exception:\n",
    "    tb.print_exc()"
   ]
  },
  {
   "cell_type": "markdown",
   "metadata": {},
   "source": [
    "-   accessing tensor data with `.data`\n"
   ]
  },
  {
   "cell_type": "code",
   "execution_count": null,
   "metadata": {
    "collapsed": false
   },
   "outputs": [],
   "source": [
    "class Bad2(torch.nn.Module):\n",
    "    def forward(self, x):\n",
    "        x.data[0, 0] = 3\n",
    "        return x\n",
    "\n",
    "try:\n",
    "    export(Bad2(), (torch.randn(3, 3),))\n",
    "except Exception:\n",
    "    tb.print_exc()"
   ]
  },
  {
   "cell_type": "markdown",
   "metadata": {},
   "source": [
    "-   calling unsupported functions (such as many built-in functions)\n"
   ]
  },
  {
   "cell_type": "code",
   "execution_count": null,
   "metadata": {
    "collapsed": false
   },
   "outputs": [],
   "source": [
    "class Bad3(torch.nn.Module):\n",
    "    def forward(self, x):\n",
    "        x = x + 1\n",
    "        return x + id(x)\n",
    "\n",
    "try:\n",
    "    export(Bad3(), (torch.randn(3, 3),))\n",
    "except Exception:\n",
    "    tb.print_exc()"
   ]
  },
  {
   "cell_type": "markdown",
   "metadata": {},
   "source": [
    "Non-Strict Export\n",
    "=================\n",
    "\n",
    "To trace the program, `torch.export` uses TorchDynamo by default, a byte\n",
    "code analysis engine, to symbolically analyze the Python code and build\n",
    "a graph based on the results. This analysis allows `torch.export` to\n",
    "provide stronger guarantees about safety, but not all Python code is\n",
    "supported, causing these graph breaks.\n",
    "\n",
    "To address this issue, in PyTorch 2.3, we introduced a new mode of\n",
    "exporting called non-strict mode, where we trace through the program\n",
    "using the Python interpreter executing it exactly as it would in eager\n",
    "mode, allowing us to skip over unsupported Python features. This is done\n",
    "through adding a `strict=False` flag.\n",
    "\n",
    "Looking at some of the previous examples which resulted in graph breaks:\n"
   ]
  },
  {
   "cell_type": "markdown",
   "metadata": {},
   "source": [
    "\\- Calling unsupported functions (such as many built-in functions)\n",
    "traces through, but in this case, `id(x)` gets specialized as a constant\n",
    "integer in the graph. This is because `id(x)` is not a tensor operation,\n",
    "so the operation is not recorded in the graph.\n"
   ]
  },
  {
   "cell_type": "code",
   "execution_count": null,
   "metadata": {
    "collapsed": false
   },
   "outputs": [],
   "source": [
    "class Bad3(torch.nn.Module):\n",
    "    def forward(self, x):\n",
    "        x = x + 1\n",
    "        return x + id(x)\n",
    "\n",
    "bad3_nonstrict = export(Bad3(), (torch.randn(3, 3),), strict=False)\n",
    "print(bad3_nonstrict)\n",
    "print(bad3_nonstrict.module()(torch.ones(3, 3)))"
   ]
  },
  {
   "cell_type": "markdown",
   "metadata": {},
   "source": [
    "However, there are still some features that require rewrites to the\n",
    "original module:\n"
   ]
  },
  {
   "cell_type": "markdown",
   "metadata": {},
   "source": [
    "Control Flow Ops\n",
    "================\n",
    "\n",
    "`torch.export` actually does support data-dependent control flow. But\n",
    "these need to be expressed using control flow ops. For example, we can\n",
    "fix the control flow example above using the `cond` op, like so:\n"
   ]
  },
  {
   "cell_type": "code",
   "execution_count": null,
   "metadata": {
    "collapsed": false
   },
   "outputs": [],
   "source": [
    "class Bad1Fixed(torch.nn.Module):\n",
    "    def forward(self, x):\n",
    "        def true_fn(x):\n",
    "            return torch.sin(x)\n",
    "        def false_fn(x):\n",
    "            return torch.cos(x)\n",
    "        return torch.cond(x.sum() > 0, true_fn, false_fn, [x])\n",
    "\n",
    "exported_bad1_fixed = export(Bad1Fixed(), (torch.randn(3, 3),))\n",
    "print(exported_bad1_fixed)\n",
    "print(exported_bad1_fixed.module()(torch.ones(3, 3)))\n",
    "print(exported_bad1_fixed.module()(-torch.ones(3, 3)))"
   ]
  },
  {
   "cell_type": "markdown",
   "metadata": {},
   "source": [
    "There are limitations to `cond` that one should be aware of:\n",
    "\n",
    "-   The predicate (i.e. `x.sum() > 0`) must result in a boolean or a\n",
    "    single-element tensor.\n",
    "-   The operands (i.e. `[x]`) must be tensors.\n",
    "-   The branch function (i.e. `true_fn` and `false_fn`) signature must\n",
    "    match with the operands and they must both return a single tensor\n",
    "    with the same metadata (for example, `dtype`, `shape`, etc.).\n",
    "-   Branch functions cannot mutate input or global variables.\n",
    "-   Branch functions cannot access closure variables, except for `self`\n",
    "    if the function is defined in the scope of a method.\n",
    "\n",
    "For more details about `cond`, check out the [cond\n",
    "documentation](https://pytorch.org/docs/main/cond.html).\n"
   ]
  },
  {
   "cell_type": "markdown",
   "metadata": {},
   "source": [
    "We can also use `map`, which applies a function across the first\n",
    "dimension of the first tensor argument.\n"
   ]
  },
  {
   "cell_type": "code",
   "execution_count": null,
   "metadata": {
    "collapsed": false
   },
   "outputs": [],
   "source": [
    "from torch._higher_order_ops.map import map as torch_map\n",
    "\n",
    "class MapModule(torch.nn.Module):\n",
    "    def forward(self, xs, y, z):\n",
    "        def body(x, y, z):\n",
    "            return x + y + z\n",
    "\n",
    "        return torch_map(body, xs, y, z)\n",
    "\n",
    "inps = (torch.ones(6, 4), torch.tensor(5), torch.tensor(4))\n",
    "exported_map_example = export(MapModule(), inps)\n",
    "print(exported_map_example)\n",
    "print(exported_map_example.module()(*inps))"
   ]
  },
  {
   "cell_type": "markdown",
   "metadata": {},
   "source": [
    "Other control flow ops include `while_loop`, `associative_scan`, and\n",
    "`scan`. For more documentation on each operator, please refer to [this\n",
    "page](https://github.com/pytorch/pytorch/tree/main/torch/_higher_order_ops).\n"
   ]
  },
  {
   "cell_type": "markdown",
   "metadata": {},
   "source": [
    "Constraints/Dynamic Shapes\n",
    "==========================\n",
    "\n",
    "This section covers dynamic behavior and representation of exported\n",
    "programs. Dynamic behavior is subjective to the particular model being\n",
    "exported, so for the most part of this tutorial, we\\'ll focus on this\n",
    "particular toy model (with the resulting tensor shapes annotated):\n"
   ]
  },
  {
   "cell_type": "code",
   "execution_count": null,
   "metadata": {
    "collapsed": false
   },
   "outputs": [],
   "source": [
    "class DynamicModel(torch.nn.Module):\n",
    "    def __init__(self):\n",
    "        super().__init__()\n",
    "        self.l = torch.nn.Linear(5, 3)\n",
    "\n",
    "    def forward(\n",
    "        self,\n",
    "        w: torch.Tensor,  # [6, 5]\n",
    "        x: torch.Tensor,  # [4]\n",
    "        y: torch.Tensor,  # [8, 4]\n",
    "        z: torch.Tensor,  # [32]\n",
    "    ):\n",
    "        x0 = x + y  # [8, 4]\n",
    "        x1 = self.l(w)  # [6, 3]\n",
    "        x2 = x0.flatten()  # [32]\n",
    "        x3 = x2 + z  # [32]\n",
    "        return x1, x3"
   ]
  },
  {
   "cell_type": "markdown",
   "metadata": {},
   "source": [
    "By default, `torch.export` produces a static program. One consequence of\n",
    "this is that at runtime, the program won\\'t work on inputs with\n",
    "different shapes, even if they\\'re valid in eager mode.\n"
   ]
  },
  {
   "cell_type": "code",
   "execution_count": null,
   "metadata": {
    "collapsed": false
   },
   "outputs": [],
   "source": [
    "w = torch.randn(6, 5)\n",
    "x = torch.randn(4)\n",
    "y = torch.randn(8, 4)\n",
    "z = torch.randn(32)\n",
    "model = DynamicModel()\n",
    "ep = export(model, (w, x, y, z))\n",
    "model(w, x, torch.randn(3, 4), torch.randn(12))\n",
    "try:\n",
    "    ep.module()(w, x, torch.randn(3, 4), torch.randn(12))\n",
    "except Exception:\n",
    "    tb.print_exc()"
   ]
  },
  {
   "cell_type": "markdown",
   "metadata": {},
   "source": [
    "Basic concepts: symbols and guards\n",
    "==================================\n",
    "\n",
    "To enable dynamism, `export()` provides a `dynamic_shapes` argument. The\n",
    "easiest way to work with dynamic shapes is using `Dim.AUTO` and looking\n",
    "at the program that\\'s returned. Dynamic behavior is specified at a\n",
    "input dimension-level; for each input we can specify a tuple of values:\n"
   ]
  },
  {
   "cell_type": "code",
   "execution_count": null,
   "metadata": {
    "collapsed": false
   },
   "outputs": [],
   "source": [
    "from torch.export.dynamic_shapes import Dim\n",
    "\n",
    "dynamic_shapes = {\n",
    "    \"w\": (Dim.AUTO, Dim.AUTO),\n",
    "    \"x\": (Dim.AUTO,),\n",
    "    \"y\": (Dim.AUTO, Dim.AUTO),\n",
    "    \"z\": (Dim.AUTO,),\n",
    "}\n",
    "ep = export(model, (w, x, y, z), dynamic_shapes=dynamic_shapes)"
   ]
  },
  {
   "cell_type": "markdown",
   "metadata": {},
   "source": [
    "Before we look at the program that\\'s produced, let\\'s understand what\n",
    "specifying `dynamic_shapes` entails, and how that interacts with export.\n",
    "For every input dimension where a `Dim` object is specified, a symbol is\n",
    "[allocated](https://pytorch.org/docs/main/export.programming_model.html#basics-of-symbolic-shapes),\n",
    "taking on a range of `[2, inf]` (why not `[0, inf]` or `[1, inf]`?\n",
    "we\\'ll explain later in the 0/1 specialization section).\n",
    "\n",
    "Export then runs model tracing, looking at each operation that\\'s\n",
    "performed by the model. Each individual operation can emit what\\'s\n",
    "called \\\"guards\\\"; basically boolean condition that are required to be\n",
    "true for the program to be valid. When guards involve symbols allocated\n",
    "for input dimensions, the program contains restrictions on what input\n",
    "shapes are valid; i.e. the program\\'s dynamic behavior. The symbolic\n",
    "shapes subsystem is the part responsible for taking in all the emitted\n",
    "guards and producing a final program representation that adheres to all\n",
    "of these guards. Before we see this \\\"final representation\\\" in an\n",
    "`ExportedProgram`, let\\'s look at the guards emitted by the toy model\n",
    "we\\'re tracing.\n",
    "\n",
    "Here, each forward input tensor is annotated with the symbol allocated\n",
    "at the start of tracing:\n"
   ]
  },
  {
   "cell_type": "code",
   "execution_count": null,
   "metadata": {
    "collapsed": false
   },
   "outputs": [],
   "source": [
    "class DynamicModel(torch.nn.Module):\n",
    "    def __init__(self):\n",
    "        super().__init__()\n",
    "        self.l = torch.nn.Linear(5, 3)\n",
    "\n",
    "    def forward(\n",
    "        self,\n",
    "        w: torch.Tensor,  # [s0, s1]\n",
    "        x: torch.Tensor,  # [s2]\n",
    "        y: torch.Tensor,  # [s3, s4]\n",
    "        z: torch.Tensor,  # [s5]\n",
    "    ):\n",
    "        x0 = x + y  # guard: s2 == s4\n",
    "        x1 = self.l(w)  # guard: s1 == 5\n",
    "        x2 = x0.flatten()  # no guard added here\n",
    "        x3 = x2 + z  # guard: s3 * s4 == s5\n",
    "        return x1, x3"
   ]
  },
  {
   "cell_type": "markdown",
   "metadata": {},
   "source": [
    "Let\\'s understand each of the operations and the emitted guards:\n",
    "\n",
    "-   `x0 = x + y`: This is an element-wise add with broadcasting, since\n",
    "    `x` is a 1-d tensor and `y` a 2-d tensor. `x` is broadcasted along\n",
    "    the last dimension of `y`, emitting the guard `s2 == s4`.\n",
    "-   `x1 = self.l(w)`: Calling `nn.Linear()` performs a matrix\n",
    "    multiplication with model parameters. In export, parameters,\n",
    "    buffers, and constants are considered program state, which is\n",
    "    considered static, and so this is a matmul between a dynamic input\n",
    "    (`w: [s0, s1]`), and a statically-shaped tensor. This emits the\n",
    "    guard `s1 == 5`.\n",
    "-   `x2 = x0.flatten()`: This call actually doesn\\'t emit any guards!\n",
    "    (at least none relevant to input shapes)\n",
    "-   `x3 = x2 + z`: `x2` has shape `[s3*s4]` after flattening, and this\n",
    "    element-wise add emits `s3 * s4 == s5`.\n",
    "\n",
    "Writing all of these guards down and summarizing is almost like a\n",
    "mathematical proof, which is what the symbolic shapes subsystem tries to\n",
    "do! In summary, we can conclude that the program must have the following\n",
    "input shapes to be valid:\n",
    "\n",
    "-   `w: [s0, 5]`\n",
    "-   `x: [s2]`\n",
    "-   `y: [s3, s2]`\n",
    "-   `z: [s2*s3]`\n",
    "\n",
    "And when we do finally print out the exported program to see our result,\n",
    "those shapes are what we see annotated on the corresponding inputs:\n"
   ]
  },
  {
   "cell_type": "code",
   "execution_count": null,
   "metadata": {
    "collapsed": false
   },
   "outputs": [],
   "source": [
    "print(ep)"
   ]
  },
  {
   "cell_type": "markdown",
   "metadata": {},
   "source": [
    "Another feature to notice is the range\\_constraints field above, which\n",
    "contains a valid range for each symbol. This isn\\'t so interesting\n",
    "currently, since this export call doesn\\'t emit any guards related to\n",
    "symbol bounds and each base symbol has a generic bound, but this will\n",
    "come up later.\n",
    "\n",
    "So far, because we\\'ve been exporting this toy model, this experience\n",
    "has not been representative of how hard it typically is to debug dynamic\n",
    "shapes guards & issues. In most cases it isn\\'t obvious what guards are\n",
    "being emitted, and which operations and parts of user code are\n",
    "responsible. For this toy model we pinpoint the exact lines, and the\n",
    "guards are rather intuitive.\n",
    "\n",
    "In more complicated cases, a helpful first step is always to enable\n",
    "verbose logging. This can be done either with the environment variable\n",
    "`TORCH_LOGS=\"+dynamic\"`, or interactively with\n",
    "`torch._logging.set_logs(dynamic=10)`:\n"
   ]
  },
  {
   "cell_type": "code",
   "execution_count": null,
   "metadata": {
    "collapsed": false
   },
   "outputs": [],
   "source": [
    "torch._logging.set_logs(dynamic=10)\n",
    "ep = export(model, (w, x, y, z), dynamic_shapes=dynamic_shapes)"
   ]
  },
  {
   "cell_type": "markdown",
   "metadata": {},
   "source": [
    "This spits out quite a handful, even with this simple toy model. The log\n",
    "lines here have been cut short at front and end to ignore unnecessary\n",
    "info, but looking through the logs we can see the lines relevant to what\n",
    "we described above; e.g. the allocation of symbols:\n"
   ]
  },
  {
   "cell_type": "code",
   "execution_count": null,
   "metadata": {
    "collapsed": false
   },
   "outputs": [],
   "source": [
    "\"\"\"\n",
    "create_symbol s0 = 6 for L['w'].size()[0] [2, int_oo] (_dynamo/variables/builder.py:2841 in <lambda>)\n",
    "create_symbol s1 = 5 for L['w'].size()[1] [2, int_oo] (_dynamo/variables/builder.py:2841 in <lambda>)\n",
    "runtime_assert True == True [statically known]\n",
    "create_symbol s2 = 4 for L['x'].size()[0] [2, int_oo] (_dynamo/variables/builder.py:2841 in <lambda>)\n",
    "create_symbol s3 = 8 for L['y'].size()[0] [2, int_oo] (_dynamo/variables/builder.py:2841 in <lambda>)\n",
    "create_symbol s4 = 4 for L['y'].size()[1] [2, int_oo] (_dynamo/variables/builder.py:2841 in <lambda>)\n",
    "create_symbol s5 = 32 for L['z'].size()[0] [2, int_oo] (_dynamo/variables/builder.py:2841 in <lambda>)\n",
    "\"\"\""
   ]
  },
  {
   "cell_type": "markdown",
   "metadata": {},
   "source": [
    "The lines with [create\\_symbol]{.title-ref} show when a new symbol has\n",
    "been allocated, and the logs also identify the tensor variable names and\n",
    "dimensions they\\'ve been allocated for. In other lines we can also see\n",
    "the guards emitted:\n"
   ]
  },
  {
   "cell_type": "code",
   "execution_count": null,
   "metadata": {
    "collapsed": false
   },
   "outputs": [],
   "source": [
    "\"\"\"\n",
    "runtime_assert Eq(s2, s4) [guard added] x0 = x + y  # output shape: [8, 4]  # dynamic_shapes_tutorial.py:16 in forward (_subclasses/fake_impls.py:845 in infer_size), for more info run with TORCHDYNAMO_EXTENDED_DEBUG_GUARD_ADDED=\"Eq(s2, s4)\"\n",
    "runtime_assert Eq(s1, 5) [guard added] x1 = self.l(w)  # [6, 3]  # dynamic_shapes_tutorial.py:17 in forward (_meta_registrations.py:2127 in meta_mm), for more info run with TORCHDYNAMO_EXTENDED_DEBUG_GUARD_ADDED=\"Eq(s1, 5)\"\n",
    "runtime_assert Eq(s2*s3, s5) [guard added] x3 = x2 + z  # [32]  # dynamic_shapes_tutorial.py:19 in forward (_subclasses/fake_impls.py:845 in infer_size), for more info run with TORCHDYNAMO_EXTENDED_DEBUG_GUARD_ADDED=\"Eq(s2*s3, s5)\"\n",
    "\"\"\""
   ]
  },
  {
   "cell_type": "markdown",
   "metadata": {},
   "source": [
    "Next to the `[guard added]` messages, we also see the responsible user\n",
    "lines of code - luckily here the model is simple enough. In many\n",
    "real-world cases it\\'s not so straightforward: high-level torch\n",
    "operations can have complicated fake-kernel implementations or operator\n",
    "decompositions that complicate where and what guards are emitted. In\n",
    "such cases the best way to dig deeper and investigate is to follow the\n",
    "logs\\' suggestion, and re-run with environment variable\n",
    "`TORCHDYNAMO_EXTENDED_DEBUG_GUARD_ADDED=\"...\"`, to further attribute the\n",
    "guard of interest.\n",
    "\n",
    "`Dim.AUTO` is just one of the available options for interacting with\n",
    "`dynamic_shapes`; as of writing this 2 other options are available:\n",
    "`Dim.DYNAMIC`, and `Dim.STATIC`. `Dim.STATIC` simply marks a dimension\n",
    "static, while `Dim.DYNAMIC` is similar to `Dim.AUTO` in all ways except\n",
    "one: it raises an error when specializing to a constant; this is\n",
    "designed to maintain dynamism. See for example what happens when a\n",
    "static guard is emitted on a dynamically-marked dimension:\n"
   ]
  },
  {
   "cell_type": "code",
   "execution_count": null,
   "metadata": {
    "collapsed": false
   },
   "outputs": [],
   "source": [
    "dynamic_shapes[\"w\"] = (Dim.AUTO, Dim.DYNAMIC)\n",
    "try:\n",
    "    export(model, (w, x, y, z), dynamic_shapes=dynamic_shapes)\n",
    "except Exception:\n",
    "    tb.print_exc()"
   ]
  },
  {
   "cell_type": "markdown",
   "metadata": {},
   "source": [
    "Static guards also aren\\'t always inherent to the model; they can also\n",
    "come from user specifications. In fact, a common pitfall leading to\n",
    "shape specializations is when the user specifies conflicting markers for\n",
    "equivalent dimensions; one dynamic and another static. The same error\n",
    "type is raised when this is the case for `x.shape[0]` and `y.shape[1]`:\n"
   ]
  },
  {
   "cell_type": "code",
   "execution_count": null,
   "metadata": {
    "collapsed": false
   },
   "outputs": [],
   "source": [
    "dynamic_shapes[\"w\"] = (Dim.AUTO, Dim.AUTO)\n",
    "dynamic_shapes[\"x\"] = (Dim.STATIC,)\n",
    "dynamic_shapes[\"y\"] = (Dim.AUTO, Dim.DYNAMIC)\n",
    "try:\n",
    "    export(model, (w, x, y, z), dynamic_shapes=dynamic_shapes)\n",
    "except Exception:\n",
    "    tb.print_exc()"
   ]
  },
  {
   "cell_type": "markdown",
   "metadata": {},
   "source": [
    "Here you might ask why export \\\"specializes\\\", i.e. why we resolve this\n",
    "static/dynamic conflict by going with the static route. The answer is\n",
    "because of the symbolic shapes system described above, of symbols and\n",
    "guards. When `x.shape[0]` is marked static, we don\\'t allocate a symbol,\n",
    "and compile treating this shape as a concrete integer 4. A symbol is\n",
    "allocated for `y.shape[1]`, and so we finally emit the guard `s3 == 4`,\n",
    "leading to specialization.\n",
    "\n",
    "One feature of export is that during tracing, statements like asserts,\n",
    "`torch._check()`, and `if/else` conditions will also emit guards. See\n",
    "what happens when we augment the existing model with such statements:\n"
   ]
  },
  {
   "cell_type": "code",
   "execution_count": null,
   "metadata": {
    "collapsed": false
   },
   "outputs": [],
   "source": [
    "class DynamicModel(torch.nn.Module):\n",
    "    def __init__(self):\n",
    "        super().__init__()\n",
    "        self.l = torch.nn.Linear(5, 3)\n",
    "\n",
    "    def forward(self, w, x, y, z):\n",
    "        assert w.shape[0] <= 512\n",
    "        torch._check(x.shape[0] >= 4)\n",
    "        if w.shape[0] == x.shape[0] + 2:\n",
    "            x0 = x + y\n",
    "            x1 = self.l(w)\n",
    "            x2 = x0.flatten()\n",
    "            x3 = x2 + z\n",
    "            return x1, x3\n",
    "        else:\n",
    "            return w\n",
    "\n",
    "dynamic_shapes = {\n",
    "    \"w\": (Dim.AUTO, Dim.AUTO),\n",
    "    \"x\": (Dim.AUTO,),\n",
    "    \"y\": (Dim.AUTO, Dim.AUTO),\n",
    "    \"z\": (Dim.AUTO,),\n",
    "}\n",
    "try:\n",
    "    ep = export(DynamicModel(), (w, x, y, z), dynamic_shapes=dynamic_shapes)\n",
    "except Exception:\n",
    "    tb.print_exc()"
   ]
  },
  {
   "cell_type": "markdown",
   "metadata": {},
   "source": [
    "Each of these statements emits an additional guard, and the exported\n",
    "program shows the changes; `s0` is eliminated in favor of `s2 + 2`, and\n",
    "`s2` now contains lower and upper bounds, reflected in\n",
    "`range_constraints`.\n",
    "\n",
    "For the if/else condition, you might ask why the True branch was taken,\n",
    "and why it wasn\\'t the `w.shape[0] != x.shape[0] + 2` guard that got\n",
    "emitted from tracing. The answer is that export is guided by the sample\n",
    "inputs provided by tracing, and specializes on the branches taken. If\n",
    "different sample input shapes were provided that fail the `if`\n",
    "condition, export would trace and emit guards corresponding to the\n",
    "`else` branch. Additionally, you might ask why we traced only the `if`\n",
    "branch, and if it\\'s possible to maintain control-flow in your program\n",
    "and keep both branches alive. For that, refer to rewriting your model\n",
    "code following the `Control Flow Ops` section above.\n"
   ]
  },
  {
   "cell_type": "markdown",
   "metadata": {},
   "source": [
    "0/1 specialization\n",
    "==================\n",
    "\n",
    "Since we\\'re talking about guards and specializations, it\\'s a good time\n",
    "to talk about the 0/1 specialization issue we brought up earlier. The\n",
    "bottom line is that export will specialize on sample input dimensions\n",
    "with value 0 or 1, because these shapes have trace-time properties that\n",
    "don\\'t generalize to other shapes. For example, size 1 tensors can\n",
    "broadcast while other sizes fail; and size 0 \\... . This just means that\n",
    "you should specify 0/1 sample inputs when you\\'d like your program to\n",
    "hardcode them, and non-0/1 sample inputs when dynamic behavior is\n",
    "desirable. See what happens at runtime when we export this linear layer:\n"
   ]
  },
  {
   "cell_type": "code",
   "execution_count": null,
   "metadata": {
    "collapsed": false
   },
   "outputs": [],
   "source": [
    "ep = export(\n",
    "    torch.nn.Linear(4, 3),\n",
    "    (torch.randn(1, 4),),\n",
    "    dynamic_shapes={\n",
    "        \"input\": (Dim.AUTO, Dim.STATIC),\n",
    "    },\n",
    ")\n",
    "try:\n",
    "    ep.module()(torch.randn(2, 4))\n",
    "except Exception:\n",
    "    tb.print_exc()"
   ]
  },
  {
   "cell_type": "markdown",
   "metadata": {},
   "source": [
    "Named Dims\n",
    "==========\n",
    "\n",
    "So far we\\'ve only been talking about 3 ways to specify dynamic shapes:\n",
    "`Dim.AUTO`, `Dim.DYNAMIC`, and `Dim.STATIC`. The attraction of these is\n",
    "the low-friction user experience; all the guards emitted during model\n",
    "tracing are adhered to, and dynamic behavior like min/max ranges,\n",
    "relations, and static/dynamic dimensions are automatically figured out\n",
    "underneath export. The dynamic shapes subsystem essentially acts as a\n",
    "\\\"discovery\\\" process, summarizing these guards and presenting what\n",
    "export believes is the overall dynamic behavior of the program. The\n",
    "drawback of this design appears once the user has stronger expectations\n",
    "or beliefs about the dynamic behavior of these models - maybe there is a\n",
    "strong desire on dynamism and specializations on particular dimensions\n",
    "are to be avoided at all costs, or maybe we just want to catch changes\n",
    "in dynamic behavior with changes to the original model code, or possibly\n",
    "underlying decompositions or meta-kernels. These changes won\\'t be\n",
    "detected and the `export()` call will most likely succeed, unless tests\n",
    "are in place that check the resulting `ExportedProgram` representation.\n",
    "\n",
    "For such cases, our stance is to recommend the \\\"traditional\\\" way of\n",
    "specifying dynamic shapes, which longer-term users of export might be\n",
    "familiar with: named `Dims`:\n"
   ]
  },
  {
   "cell_type": "code",
   "execution_count": null,
   "metadata": {
    "collapsed": false
   },
   "outputs": [],
   "source": [
    "dx = Dim(\"dx\", min=4, max=256)\n",
    "dh = Dim(\"dh\", max=512)\n",
    "dynamic_shapes = {\n",
    "    \"x\": (dx, None),\n",
    "    \"y\": (2 * dx, dh),\n",
    "}"
   ]
  },
  {
   "cell_type": "markdown",
   "metadata": {},
   "source": [
    "This style of dynamic shapes allows the user to specify what symbols are\n",
    "allocated for input dimensions, min/max bounds on those symbols, and\n",
    "places restrictions on the dynamic behavior of the `ExportedProgram`\n",
    "produced; `ConstraintViolation` errors will be raised if model tracing\n",
    "emits guards that conflict with the relations or static/dynamic\n",
    "specifications given. For example, in the above specification, the\n",
    "following is asserted:\n",
    "\n",
    "-   `x.shape[0]` is to have range `[4, 256]`, and related to\n",
    "    `y.shape[0]` by `y.shape[0] == 2 * x.shape[0]`.\n",
    "-   `x.shape[1]` is static.\n",
    "-   `y.shape[1]` has range `[2, 512]`, and is unrelated to any other\n",
    "    dimension.\n",
    "\n",
    "In this design, we allow relations between dimensions to be specified\n",
    "with univariate linear expressions: `A * dim + B` can be specified for\n",
    "any dimension. This allows users to specify more complex constraints\n",
    "like integer divisibility for dynamic dimensions:\n"
   ]
  },
  {
   "cell_type": "code",
   "execution_count": null,
   "metadata": {
    "collapsed": false
   },
   "outputs": [],
   "source": [
    "dx = Dim(\"dx\", min=4, max=512)\n",
    "dynamic_shapes = {\n",
    "    \"x\": (4 * dx, None)  # x.shape[0] has range [16, 2048], and is divisible by 4.\n",
    "}"
   ]
  },
  {
   "cell_type": "markdown",
   "metadata": {},
   "source": [
    "Constraint violations, suggested fixes\n",
    "======================================\n",
    "\n",
    "One common issue with this specification style (before `Dim.AUTO` was\n",
    "introduced), is that the specification would often be mismatched with\n",
    "what was produced by model tracing. That would lead to\n",
    "`ConstraintViolation` errors and export suggested fixes - see for\n",
    "example with this model & specification, where the model inherently\n",
    "requires equality between dimensions 0 of `x` and `y`, and requires\n",
    "dimension 1 to be static.\n"
   ]
  },
  {
   "cell_type": "code",
   "execution_count": null,
   "metadata": {
    "collapsed": false
   },
   "outputs": [],
   "source": [
    "class Foo(torch.nn.Module):\n",
    "    def forward(self, x, y):\n",
    "        w = x + y\n",
    "        return w + torch.ones(4)\n",
    "\n",
    "dx, dy, d1 = torch.export.dims(\"dx\", \"dy\", \"d1\")\n",
    "try:\n",
    "    ep = export(\n",
    "        Foo(),\n",
    "        (torch.randn(6, 4), torch.randn(6, 4)),\n",
    "        dynamic_shapes={\n",
    "            \"x\": (dx, d1),\n",
    "            \"y\": (dy, d1),\n",
    "        },\n",
    "    )\n",
    "except Exception:\n",
    "    tb.print_exc()"
   ]
  },
  {
   "cell_type": "markdown",
   "metadata": {},
   "source": [
    "The expectation with suggested fixes is that the user can interactively\n",
    "copy-paste the changes into their dynamic shapes specification, and\n",
    "successfully export afterwards.\n",
    "\n",
    "Lastly, there\\'s couple nice-to-knows about the options for\n",
    "specification:\n",
    "\n",
    "-   `None` is a good option for static behavior:\n",
    "    -   `dynamic_shapes=None` (default) exports with the entire model\n",
    "        being static.\n",
    "    -   specifying `None` at an input-level exports with all tensor\n",
    "        dimensions static, and is also required for non-tensor inputs.\n",
    "    -   specifying `None` at a dimension-level specializes that\n",
    "        dimension, though this is deprecated in favor of `Dim.STATIC`.\n",
    "-   specifying per-dimension integer values also produces static\n",
    "    behavior, and will additionally check that the provided sample input\n",
    "    matches the specification.\n",
    "\n",
    "These options are combined in the inputs & dynamic shapes spec below:\n"
   ]
  },
  {
   "cell_type": "code",
   "execution_count": null,
   "metadata": {
    "collapsed": false
   },
   "outputs": [],
   "source": [
    "inputs = (\n",
    "    torch.randn(4, 4),\n",
    "    torch.randn(3, 3),\n",
    "    16,\n",
    "    False,\n",
    ")\n",
    "dynamic_shapes = {\n",
    "    \"tensor_0\": (Dim.AUTO, None),\n",
    "    \"tensor_1\": None,\n",
    "    \"int_val\": None,\n",
    "    \"bool_val\": None,\n",
    "}"
   ]
  },
  {
   "cell_type": "markdown",
   "metadata": {},
   "source": [
    "Data-dependent errors\n",
    "=====================\n",
    "\n",
    "While trying to export models, you have may have encountered errors like\n",
    "\\\"Could not guard on data-dependent expression\\\", or Could not extract\n",
    "specialized integer from data-dependent expression\\\". These errors exist\n",
    "because `torch.export()` compiles programs using FakeTensors, which\n",
    "symbolically represent their real tensor counterparts. While these have\n",
    "equivalent symbolic properties (e.g. sizes, strides, dtypes), they\n",
    "diverge in that FakeTensors do not contain any data values. While this\n",
    "avoids unnecessary memory usage and expensive computation, it does mean\n",
    "that export may be unable to out-of-the-box compile parts of user code\n",
    "where compilation relies on data values. In short, if the compiler\n",
    "requires a concrete, data-dependent value in order to proceed, it will\n",
    "error out, complaining that the value is not available.\n",
    "\n",
    "Data-dependent values appear in many places, and common sources are\n",
    "calls like `item()`, `tolist()`, or `torch.unbind()` that extract scalar\n",
    "values from tensors. How are these values represented in the exported\n",
    "program? In the [Constraints/Dynamic\n",
    "Shapes](https://pytorch.org/tutorials/intermediate/torch_export_tutorial.html#constraints-dynamic-shapes)\n",
    "section, we talked about allocating symbols to represent dynamic input\n",
    "dimensions. The same happens here: we allocate symbols for every\n",
    "data-dependent value that appears in the program. The important\n",
    "distinction is that these are \\\"unbacked\\\" symbols, in contrast to the\n",
    "\\\"backed\\\" symbols allocated for input dimensions. The\n",
    "[\\\"backed/unbacked\\\"](https://pytorch.org/docs/main/export.programming_model.html#basics-of-symbolic-shapes)\n",
    "nomenclature refers to the presence/absence of a \\\"hint\\\" for the\n",
    "symbol: a concrete value backing the symbol, that can inform the\n",
    "compiler on how to proceed.\n",
    "\n",
    "In the input shape symbol case (backed symbols), these hints are simply\n",
    "the sample input shapes provided, which explains why control-flow\n",
    "branching is determined by the sample input properties. For\n",
    "data-dependent values, the symbols are taken from FakeTensor \\\"data\\\"\n",
    "during tracing, and so the compiler doesn\\'t know the actual values\n",
    "(hints) that these symbols would take on.\n",
    "\n",
    "Let\\'s see how these show up in exported programs:\n"
   ]
  },
  {
   "cell_type": "code",
   "execution_count": null,
   "metadata": {
    "collapsed": false
   },
   "outputs": [],
   "source": [
    "class Foo(torch.nn.Module):\n",
    "    def forward(self, x, y):\n",
    "        a = x.item()\n",
    "        b = y.tolist()\n",
    "        return b + [a]\n",
    "\n",
    "inps = (\n",
    "    torch.tensor(1),\n",
    "    torch.tensor([2, 3]),\n",
    ")\n",
    "ep = export(Foo(), inps)\n",
    "print(ep)"
   ]
  },
  {
   "cell_type": "markdown",
   "metadata": {},
   "source": [
    "The result is that 3 unbacked symbols (notice they\\'re prefixed with\n",
    "\\\"u\\\", instead of the usual \\\"s\\\" for input shape/backed symbols) are\n",
    "allocated and returned: 1 for the `item()` call, and 1 for each of the\n",
    "elements of `y` with the `tolist()` call. Note from the range\n",
    "constraints field that these take on ranges of `[-int_oo, int_oo]`, not\n",
    "the default `[0, int_oo]` range allocated to input shape symbols, since\n",
    "we have no information on what these values are - they don\\'t represent\n",
    "sizes, so don\\'t necessarily have positive values.\n"
   ]
  },
  {
   "cell_type": "markdown",
   "metadata": {},
   "source": [
    "Guards, torch.\\_check()\n",
    "=======================\n",
    "\n",
    "But the case above is easy to export, because the concrete values of\n",
    "these symbols aren\\'t used in any compiler decision-making; all that\\'s\n",
    "relevant is that the return values are unbacked symbols. The\n",
    "data-dependent errors highlighted in this section are cases like the\n",
    "following, where [data-dependent\n",
    "guards](https://pytorch.org/docs/main/export.programming_model.html#control-flow-static-vs-dynamic)\n",
    "are encountered:\n"
   ]
  },
  {
   "cell_type": "code",
   "execution_count": null,
   "metadata": {
    "collapsed": false
   },
   "outputs": [],
   "source": [
    "class Foo(torch.nn.Module):\n",
    "    def forward(self, x, y):\n",
    "        a = x.item()\n",
    "        if a // 2 >= 5:\n",
    "            return y + 2\n",
    "        else:\n",
    "            return y * 5"
   ]
  },
  {
   "cell_type": "markdown",
   "metadata": {},
   "source": [
    "Here we actually need the \\\"hint\\\", or the concrete value of `a` for the\n",
    "compiler to decide whether to trace `return y + 2` or `return y * 5` as\n",
    "the output. Because we trace with FakeTensors, we don\\'t know what\n",
    "`a // 2 >= 5` actually evaluates to, and export errors out with \\\"Could\n",
    "not guard on data-dependent expression `u0 // 2 >= 5 (unhinted)`\\\".\n",
    "\n",
    "So how do we export this toy model? Unlike `torch.compile()`, export\n",
    "requires full graph compilation, and we can\\'t just graph break on this.\n",
    "Here are some basic options:\n",
    "\n",
    "1.  Manual specialization: we could intervene by selecting the branch to\n",
    "    trace, either by removing the control-flow code to contain only the\n",
    "    specialized branch, or using `torch.compiler.is_compiling()` to\n",
    "    guard what\\'s traced at compile-time.\n",
    "2.  `torch.cond()`: we could rewrite the control-flow code to use\n",
    "    `torch.cond()` so we don\\'t specialize on a branch.\n",
    "\n",
    "While these options are valid, they have their pitfalls. Option 1\n",
    "sometimes requires drastic, invasive rewrites of the model code to\n",
    "specialize, and `torch.cond()` is not a comprehensive system for\n",
    "handling data-dependent errors. As we will see, there are data-dependent\n",
    "errors that do not involve control-flow.\n",
    "\n",
    "The generally recommended approach is to start with `torch._check()`\n",
    "calls. While these give the impression of purely being assert\n",
    "statements, they are in fact a system of informing the compiler on\n",
    "properties of symbols. While a `torch._check()` call does act as an\n",
    "assertion at runtime, when traced at compile-time, the checked\n",
    "expression is sent to the symbolic shapes subsystem for reasoning, and\n",
    "any symbol properties that follow from the expression being true, are\n",
    "stored as symbol properties (provided it\\'s smart enough to infer those\n",
    "properties). So even if unbacked symbols don\\'t have hints, if we\\'re\n",
    "able to communicate properties that are generally true for these symbols\n",
    "via `torch._check()` calls, we can potentially bypass data-dependent\n",
    "guards without rewriting the offending model code.\n",
    "\n",
    "For example in the model above, inserting `torch._check(a >= 10)` would\n",
    "tell the compiler that `y + 2` can always be returned, and\n",
    "`torch._check(a == 4)` tells it to return `y * 5`. See what happens when\n",
    "we re-export this model.\n"
   ]
  },
  {
   "cell_type": "code",
   "execution_count": null,
   "metadata": {
    "collapsed": false
   },
   "outputs": [],
   "source": [
    "class Foo(torch.nn.Module):\n",
    "    def forward(self, x, y):\n",
    "        a = x.item()\n",
    "        torch._check(a >= 10)\n",
    "        torch._check(a <= 60)\n",
    "        if a // 2 >= 5:\n",
    "            return y + 2\n",
    "        else:\n",
    "            return y * 5\n",
    "\n",
    "inps = (\n",
    "    torch.tensor(32),\n",
    "    torch.randn(4),\n",
    ")\n",
    "ep = export(Foo(), inps)\n",
    "print(ep)"
   ]
  },
  {
   "cell_type": "markdown",
   "metadata": {},
   "source": [
    "Export succeeds, and note from the range constraints field that `u0`\n",
    "takes on a range of `[10, 60]`.\n",
    "\n",
    "So what information do `torch._check()` calls actually communicate? This\n",
    "varies as the symbolic shapes subsystem gets smarter, but at a\n",
    "fundamental level, these are generally true:\n",
    "\n",
    "1.  Equality with non-data-dependent expressions: `torch._check()` calls\n",
    "    that communicate equalities like `u0 == s0 + 4` or `u0 == 5`.\n",
    "2.  Range refinement: calls that provide lower or upper bounds for\n",
    "    symbols, like the above.\n",
    "3.  Some basic reasoning around more complicated expressions: inserting\n",
    "    `torch._check(a < 4)` will typically tell the compiler that `a >= 4`\n",
    "    is false. Checks on complex expressions like\n",
    "    `torch._check(a ** 2 - 3 * a <= 10)` will typically get you past\n",
    "    identical guards.\n",
    "\n",
    "As mentioned previously, `torch._check()` calls have applicability\n",
    "outside of data-dependent control flow. For example, here\\'s a model\n",
    "where `torch._check()` insertion prevails while manual specialization &\n",
    "`torch.cond()` do not:\n"
   ]
  },
  {
   "cell_type": "code",
   "execution_count": null,
   "metadata": {
    "collapsed": false
   },
   "outputs": [],
   "source": [
    "class Foo(torch.nn.Module):\n",
    "    def forward(self, x, y):\n",
    "        a = x.item()\n",
    "        return y[a]\n",
    "\n",
    "inps = (\n",
    "    torch.tensor(32),\n",
    "    torch.randn(60),\n",
    ")\n",
    "try:\n",
    "    export(Foo(), inps)\n",
    "except Exception:\n",
    "    tb.print_exc()"
   ]
  },
  {
   "cell_type": "markdown",
   "metadata": {},
   "source": [
    "Here is a scenario where `torch._check()` insertion is required simply\n",
    "to prevent an operation from failing. The export call will fail with\n",
    "\\\"Could not guard on data-dependent expression `-u0 > 60`\\\", implying\n",
    "that the compiler doesn\\'t know if this is a valid indexing operation\n",
    "-if the value of `x` is out-of-bounds for `y` or not. Here, manual\n",
    "specialization is too prohibitive, and `torch.cond()` has no place.\n",
    "Instead, informing the compiler of `u0`\\'s range is sufficient:\n"
   ]
  },
  {
   "cell_type": "code",
   "execution_count": null,
   "metadata": {
    "collapsed": false
   },
   "outputs": [],
   "source": [
    "class Foo(torch.nn.Module):\n",
    "    def forward(self, x, y):\n",
    "        a = x.item()\n",
    "        torch._check(a >= 0)\n",
    "        torch._check(a < y.shape[0])\n",
    "        return y[a]\n",
    "\n",
    "inps = (\n",
    "    torch.tensor(32),\n",
    "    torch.randn(60),\n",
    ")\n",
    "ep = export(Foo(), inps)\n",
    "print(ep)"
   ]
  },
  {
   "cell_type": "markdown",
   "metadata": {},
   "source": [
    "Specialized values\n",
    "==================\n",
    "\n",
    "Another category of data-dependent error happens when the program\n",
    "attempts to extract a concrete data-dependent integer/float value while\n",
    "tracing. This looks something like \\\"Could not extract specialized\n",
    "integer from data-dependent expression\\\", and is analogous to the\n",
    "previous class of errors - if these occur when attempting to evaluate\n",
    "concrete integer/float values, data-dependent guard errors arise with\n",
    "evaluating concrete boolean values.\n",
    "\n",
    "This error typically occurs when there is an explicit or implicit\n",
    "`int()` cast on a data-dependent expression. For example, this list\n",
    "comprehension has a [range()]{.title-ref} call that implicitly does an\n",
    "`int()` cast on the size of the list:\n"
   ]
  },
  {
   "cell_type": "code",
   "execution_count": null,
   "metadata": {
    "collapsed": false
   },
   "outputs": [],
   "source": [
    "class Foo(torch.nn.Module):\n",
    "    def forward(self, x, y):\n",
    "        a = x.item()\n",
    "        b = torch.cat([y for y in range(a)], dim=0)\n",
    "        return b + int(a)\n",
    "\n",
    "inps = (\n",
    "    torch.tensor(32),\n",
    "    torch.randn(60),\n",
    ")\n",
    "try:\n",
    "    export(Foo(), inps, strict=False)\n",
    "except Exception:\n",
    "    tb.print_exc()"
   ]
  },
  {
   "cell_type": "markdown",
   "metadata": {},
   "source": [
    "For these errors, some basic options you have are:\n",
    "\n",
    "1.  Avoid unnecessary `int()` cast calls, in this case the `int(a)` in\n",
    "    the return statement.\n",
    "2.  Use `torch._check()` calls; unfortunately all you may be able to do\n",
    "    in this case is specialize (with `torch._check(a == 60)`).\n",
    "3.  Rewrite the offending code at a higher level. For example, the list\n",
    "    comprehension is semantically a `repeat()` op, which doesn\\'t\n",
    "    involve an `int()` cast. The following rewrite avoids data-dependent\n",
    "    errors:\n"
   ]
  },
  {
   "cell_type": "code",
   "execution_count": null,
   "metadata": {
    "collapsed": false
   },
   "outputs": [],
   "source": [
    "class Foo(torch.nn.Module):\n",
    "    def forward(self, x, y):\n",
    "        a = x.item()\n",
    "        b = y.unsqueeze(0).repeat(a, 1)\n",
    "        return b + a\n",
    "\n",
    "inps = (\n",
    "    torch.tensor(32),\n",
    "    torch.randn(60),\n",
    ")\n",
    "ep = export(Foo(), inps, strict=False)\n",
    "print(ep)"
   ]
  },
  {
   "cell_type": "markdown",
   "metadata": {},
   "source": [
    "Data-dependent errors can be much more involved, and there are many more\n",
    "options in your toolkit to deal with them: `torch._check_is_size()`,\n",
    "`guard_size_oblivious()`, or real-tensor tracing, as starters. For more\n",
    "in-depth guides, please refer to the [Export Programming\n",
    "Model](https://pytorch.org/docs/main/export.programming_model.html), or\n",
    "[Dealing with GuardOnDataDependentSymNode\n",
    "errors](https://docs.google.com/document/d/1HSuTTVvYH1pTew89Rtpeu84Ht3nQEFTYhAX3Ypa_xJs).\n"
   ]
  },
  {
   "cell_type": "markdown",
   "metadata": {},
   "source": [
    "Custom Ops\n",
    "==========\n",
    "\n",
    "`torch.export` can export PyTorch programs with custom operators. Please\n",
    "refer to [this\n",
    "page](https://pytorch.org/tutorials/advanced/custom_ops_landing_page.html)\n",
    "on how to author a custom operator in either C++ or Python.\n",
    "\n",
    "The following is an example of registering a custom operator in python\n",
    "to be used by `torch.export`. The important thing to note is that the\n",
    "custom op must have a [FakeTensor\n",
    "kernel](https://docs.google.com/document/d/1_W62p8WJOQQUzPsJYa7s701JXt0qf2OfLub2sbkHOaU/edit?tab=t.0#heading=h.xvrg7clz290).\n"
   ]
  },
  {
   "cell_type": "code",
   "execution_count": null,
   "metadata": {
    "collapsed": false
   },
   "outputs": [],
   "source": [
    "@torch.library.custom_op(\"my_custom_library::custom_op\", mutates_args={})\n",
    "def custom_op(x: torch.Tensor) -> torch.Tensor:\n",
    "    print(\"custom_op called!\")\n",
    "    return torch.relu(x)\n",
    "\n",
    "@custom_op.register_fake\n",
    "def custom_op_meta(x):\n",
    "    # Returns an empty tensor with the same shape as the expected output\n",
    "    return torch.empty_like(x)"
   ]
  },
  {
   "cell_type": "markdown",
   "metadata": {},
   "source": [
    "Here is an example of exporting a program with the custom op.\n"
   ]
  },
  {
   "cell_type": "code",
   "execution_count": null,
   "metadata": {
    "collapsed": false
   },
   "outputs": [],
   "source": [
    "class CustomOpExample(torch.nn.Module):\n",
    "    def forward(self, x):\n",
    "        x = torch.sin(x)\n",
    "        x = torch.ops.my_custom_library.custom_op(x)\n",
    "        x = torch.cos(x)\n",
    "        return x\n",
    "\n",
    "exported_custom_op_example = export(CustomOpExample(), (torch.randn(3, 3),))\n",
    "print(exported_custom_op_example)\n",
    "print(exported_custom_op_example.module()(torch.randn(3, 3)))"
   ]
  },
  {
   "cell_type": "markdown",
   "metadata": {},
   "source": [
    "Note that in the `ExportedProgram`, the custom operator is included in\n",
    "the graph.\n"
   ]
  },
  {
   "cell_type": "markdown",
   "metadata": {},
   "source": [
    "IR/Decompositions\n",
    "=================\n",
    "\n",
    "The graph produced by `torch.export` returns a graph containing only\n",
    "[ATen operators](https://pytorch.org/cppdocs/#aten), which are the basic\n",
    "unit of computation in PyTorch. As there are over 3000 ATen operators,\n",
    "export provides a way to narrow down the operator set used in the graph\n",
    "based on certain characteristics, creating different IRs.\n",
    "\n",
    "By default, export produces the most generic IR which contains all ATen\n",
    "operators, including both functional and non-functional operators. A\n",
    "functional operator is one that does not contain any mutations or\n",
    "aliasing of the inputs. You can find a list of all ATen operators\n",
    "[here](https://github.com/pytorch/pytorch/blob/main/aten/src/ATen/native/native_functions.yaml)\n",
    "and you can inspect if an operator is functional by checking\n",
    "`op._schema.is_mutable`, for example:\n"
   ]
  },
  {
   "cell_type": "code",
   "execution_count": null,
   "metadata": {
    "collapsed": false
   },
   "outputs": [],
   "source": [
    "print(torch.ops.aten.add.Tensor._schema.is_mutable)\n",
    "print(torch.ops.aten.add_.Tensor._schema.is_mutable)"
   ]
  },
  {
   "cell_type": "markdown",
   "metadata": {},
   "source": [
    "This generic IR can be used to train in eager PyTorch Autograd. This IR\n",
    "can be more explicitly reached through the API\n",
    "`torch.export.export_for_training`, which was introduced in PyTorch 2.5,\n",
    "but calling `torch.export.export` should produce the same graph as of\n",
    "PyTorch 2.6.\n"
   ]
  },
  {
   "cell_type": "code",
   "execution_count": null,
   "metadata": {
    "collapsed": false
   },
   "outputs": [],
   "source": [
    "class DecompExample(torch.nn.Module):\n",
    "    def __init__(self) -> None:\n",
    "        super().__init__()\n",
    "        self.conv = torch.nn.Conv2d(1, 3, 1, 1)\n",
    "        self.bn = torch.nn.BatchNorm2d(3)\n",
    "\n",
    "    def forward(self, x):\n",
    "        x = self.conv(x)\n",
    "        x = self.bn(x)\n",
    "        return (x,)\n",
    "\n",
    "ep_for_training = torch.export.export_for_training(DecompExample(), (torch.randn(1, 1, 3, 3),))\n",
    "print(ep_for_training.graph)"
   ]
  },
  {
   "cell_type": "markdown",
   "metadata": {},
   "source": [
    "We can then lower this exported program to an operator set which only\n",
    "contains functional ATen operators through the API `run_decompositions`,\n",
    "which decomposes the ATen operators into the ones specified in the\n",
    "decomposition table, and functionalizes the graph. By specifying an\n",
    "empty set, we\\'re only performing functionalization, and does not do any\n",
    "additional decompositions. This results in an IR which contains \\~2000\n",
    "operators (instead of the 3000 operators above), and is ideal for\n",
    "inference cases.\n"
   ]
  },
  {
   "cell_type": "code",
   "execution_count": null,
   "metadata": {
    "collapsed": false
   },
   "outputs": [],
   "source": [
    "ep_for_inference = ep_for_training.run_decompositions(decomp_table={})\n",
    "print(ep_for_inference.graph)"
   ]
  },
  {
   "cell_type": "markdown",
   "metadata": {},
   "source": [
    "As we can see, the previously mutable operator,\n",
    "`torch.ops.aten.add_.default` has now been replaced with\n",
    "`torch.ops.aten.add.default`, a l operator.\n"
   ]
  },
  {
   "cell_type": "markdown",
   "metadata": {},
   "source": [
    "We can also further lower this exported program to an operator set which\n",
    "only contains the [Core ATen Operator\n",
    "Set](https://pytorch.org/docs/main/torch.compiler_ir.html#core-aten-ir),\n",
    "which is a collection of only \\~180 operators. This IR is optimal for\n",
    "backends who do not want to reimplement all ATen operators.\n"
   ]
  },
  {
   "cell_type": "code",
   "execution_count": null,
   "metadata": {
    "collapsed": false
   },
   "outputs": [],
   "source": [
    "from torch.export import default_decompositions\n",
    "\n",
    "core_aten_decomp_table = default_decompositions()\n",
    "core_aten_ep = ep_for_training.run_decompositions(decomp_table=core_aten_decomp_table)\n",
    "print(core_aten_ep.graph)"
   ]
  },
  {
   "cell_type": "markdown",
   "metadata": {},
   "source": [
    "We now see that `torch.ops.aten.conv2d.default` has been decomposed into\n",
    "`torch.ops.aten.convolution.default`. This is because `convolution` is a\n",
    "more \\\"core\\\" operator, as operations like `conv1d` and `conv2d` can be\n",
    "implemented using the same op.\n"
   ]
  },
  {
   "cell_type": "markdown",
   "metadata": {},
   "source": [
    "We can also specify our own decomposition behaviors:\n"
   ]
  },
  {
   "cell_type": "code",
   "execution_count": null,
   "metadata": {
    "collapsed": false
   },
   "outputs": [],
   "source": [
    "my_decomp_table = torch.export.default_decompositions()\n",
    "\n",
    "def my_awesome_custom_conv2d_function(x, weight, bias, stride=[1, 1], padding=[0, 0], dilation=[1, 1], groups=1):\n",
    "    return 2 * torch.ops.aten.convolution(x, weight, bias, stride, padding, dilation, False, [0, 0], groups)\n",
    "\n",
    "my_decomp_table[torch.ops.aten.conv2d.default] = my_awesome_custom_conv2d_function\n",
    "my_ep = ep_for_training.run_decompositions(my_decomp_table)\n",
    "print(my_ep.graph)"
   ]
  },
  {
   "cell_type": "markdown",
   "metadata": {},
   "source": [
    "Notice that instead of `torch.ops.aten.conv2d.default` being decomposed\n",
    "into `torch.ops.aten.convolution.default`, it is now decomposed into\n",
    "`torch.ops.aten.convolution.default` and `torch.ops.aten.mul.Tensor`,\n",
    "which matches our custom decomposition rule.\n"
   ]
  },
  {
   "cell_type": "markdown",
   "metadata": {},
   "source": [
    "ExportDB\n",
    "========\n",
    "\n",
    "`torch.export` will only ever export a single computation graph from a\n",
    "PyTorch program. Because of this requirement, there will be Python or\n",
    "PyTorch features that are not compatible with `torch.export`, which will\n",
    "require users to rewrite parts of their model code. We have seen\n",
    "examples of this earlier in the tutorial \\-- for example, rewriting\n",
    "if-statements using `cond`.\n",
    "\n",
    "[ExportDB](https://pytorch.org/docs/main/generated/exportdb/index.html)\n",
    "is the standard reference that documents supported and unsupported\n",
    "Python/PyTorch features for `torch.export`. It is essentially a list a\n",
    "program samples, each of which represents the usage of one particular\n",
    "Python/PyTorch feature and its interaction with `torch.export`. Examples\n",
    "are also tagged by category so that they can be more easily searched.\n",
    "\n",
    "For example, let\\'s use ExportDB to get a better understanding of how\n",
    "the predicate works in the `cond` operator. We can look at the example\n",
    "called `cond_predicate`, which has a `torch.cond` tag. The example code\n",
    "looks like:\n"
   ]
  },
  {
   "cell_type": "code",
   "execution_count": null,
   "metadata": {
    "collapsed": false
   },
   "outputs": [],
   "source": [
    "def cond_predicate(x):\n",
    "    \"\"\"\n",
    "    The conditional statement (aka predicate) passed to ``cond()`` must be one of the following:\n",
    "    - ``torch.Tensor`` with a single element\n",
    "    - boolean expression\n",
    "    NOTE: If the `pred` is test on a dim with batch size < 2, it will be specialized.\n",
    "    \"\"\"\n",
    "    pred = x.dim() > 2 and x.shape[2] > 10\n",
    "    return cond(pred, lambda x: x.cos(), lambda y: y.sin(), [x])"
   ]
  },
  {
   "cell_type": "markdown",
   "metadata": {},
   "source": [
    "More generally, ExportDB can be used as a reference when one of the\n",
    "following occurs:\n",
    "\n",
    "1.  Before attempting `torch.export`, you know ahead of time that your\n",
    "    model uses some tricky Python/PyTorch features and you want to know\n",
    "    if `torch.export` covers that feature.\n",
    "2.  When attempting `torch.export`, there is a failure and it\\'s unclear\n",
    "    how to work around it.\n",
    "\n",
    "ExportDB is not exhaustive, but is intended to cover all use cases found\n",
    "in typical PyTorch code. Feel free to reach out if there is an important\n",
    "Python/PyTorch feature that should be added to ExportDB or supported by\n",
    "`torch.export`.\n"
   ]
  },
  {
   "cell_type": "markdown",
   "metadata": {},
   "source": [
    "Running the Exported Program\n",
    "============================\n",
    "\n",
    "As `torch.export` is only a graph capturing mechanism, calling the\n",
    "artifact produced by `torch.export` eagerly will be equivalent to\n",
    "running the eager module. To optimize the execution of the Exported\n",
    "Program, we can pass this exported artifact to backends such as Inductor\n",
    "through `torch.compile`,\n",
    "[AOTInductor](https://pytorch.org/docs/main/torch.compiler_aot_inductor.html),\n",
    "or [TensorRT](https://pytorch.org/TensorRT/dynamo/dynamo_export.html).\n"
   ]
  },
  {
   "cell_type": "code",
   "execution_count": null,
   "metadata": {
    "collapsed": false
   },
   "outputs": [],
   "source": [
    "class M(torch.nn.Module):\n",
    "    def __init__(self):\n",
    "        super().__init__()\n",
    "        self.linear = torch.nn.Linear(3, 3)\n",
    "\n",
    "    def forward(self, x):\n",
    "        x = self.linear(x)\n",
    "        return x\n",
    "\n",
    "inp = torch.randn(2, 3, device=\"cuda\")\n",
    "m = M().to(device=\"cuda\")\n",
    "ep = torch.export.export(m, (inp,))\n",
    "\n",
    "# Run it eagerly\n",
    "res = ep.module()(inp)\n",
    "print(res)\n",
    "\n",
    "# Run it with torch.compile\n",
    "res = torch.compile(ep.module(), backend=\"inductor\")(inp)\n",
    "print(res)"
   ]
  },
  {
   "cell_type": "markdown",
   "metadata": {},
   "source": [
    "``` {.python}\n",
    "import torch._inductor\n",
    "\n",
    "# Note: these APIs are subject to change\n",
    "# Compile the exported program to a PT2 archive using ``AOTInductor``\n",
    "with torch.no_grad():\n",
    "    pt2_path = torch._inductor.aoti_compile_and_package(ep)\n",
    "\n",
    "# Load and run the .so file in Python.\n",
    "# To load and run it in a C++ environment, see:\n",
    "# https://pytorch.org/docs/main/torch.compiler_aot_inductor.html\n",
    "aoti_compiled = torch._inductor.aoti_load_package(pt2_path)\n",
    "res = aoti_compiled(inp)\n",
    "```\n"
   ]
  },
  {
   "cell_type": "markdown",
   "metadata": {},
   "source": [
    "Conclusion\n",
    "==========\n",
    "\n",
    "We introduced `torch.export`, the new PyTorch 2.X way to export single\n",
    "computation graphs from PyTorch programs. In particular, we demonstrate\n",
    "several code modifications and considerations (control flow ops,\n",
    "constraints, etc.) that need to be made in order to export a graph.\n"
   ]
  }
 ],
 "metadata": {
  "kernelspec": {
   "display_name": "Python 3",
   "language": "python",
   "name": "python3"
  },
  "language_info": {
   "codemirror_mode": {
    "name": "ipython",
    "version": 3
   },
   "file_extension": ".py",
   "mimetype": "text/x-python",
   "name": "python",
   "nbconvert_exporter": "python",
   "pygments_lexer": "ipython3",
   "version": "3.10.12"
  }
 },
 "nbformat": 4,
 "nbformat_minor": 0
}
