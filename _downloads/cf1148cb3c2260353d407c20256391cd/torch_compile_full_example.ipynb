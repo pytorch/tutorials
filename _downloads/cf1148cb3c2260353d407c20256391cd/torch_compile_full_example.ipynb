{
 "cells": [
  {
   "cell_type": "code",
   "execution_count": null,
   "metadata": {
    "collapsed": false
   },
   "outputs": [],
   "source": [
    "# For tips on running notebooks in Google Colab, see\n",
    "# https://docs.pytorch.org/tutorials/beginner/colab\n",
    "%matplotlib inline"
   ]
  },
  {
   "cell_type": "markdown",
   "metadata": {},
   "source": [
    "`torch.compile` End-to-End Tutorial =================================\n",
    "**Author:** William Wen\n"
   ]
  },
  {
   "cell_type": "markdown",
   "metadata": {},
   "source": [
    "`torch.compile` is the new way to speed up your PyTorch code!\n",
    "`torch.compile` makes PyTorch code run faster by JIT-compiling PyTorch\n",
    "code into optimized kernels, while requiring minimal code changes.\n",
    "\n",
    "This tutorial covers an end-to-end example of training and evaluating a\n",
    "real model with `torch.compile`. For a gentle introduction to\n",
    "`torch.compile`, please check out [the introduction to torch.compile\n",
    "tutorial](https://pytorch.org/tutorials/intermediate/torch_compile_tutorial.html).\n",
    "\n",
    "**Required pip Dependencies**\n",
    "\n",
    "-   `torch >= 2.0`\n",
    "-   `torchvision`\n",
    "\n",
    "<div style=\"width: 45%; float: left; padding: 20px;\"><h2> What you will learn</h2><ul><li>How to apply <code>torch.compile</code> to a real model</li><li><code>torch.compile</code> speedups on a real model</li><li><code>torch.compile</code>'s first few iterations are expected to be slower due to compilation overhead</li></ul></div><div style=\"width: 45%; float: right; padding: 20px;\"><h2> Prerequisites</h2><ul><li><a href=\"https://pytorch.org/tutorials/intermediate/torch_compile_tutorial.html\">Introduction to torch.compile</a></li></ul></div>\n",
    "\n"
   ]
  },
  {
   "cell_type": "code",
   "execution_count": null,
   "metadata": {
    "collapsed": false
   },
   "outputs": [],
   "source": [
    "# NOTE: a modern NVIDIA GPU (H100, A100, or V100) is recommended for this tutorial in\n",
    "# order to reproduce the speedup numbers shown below and documented elsewhere.\n",
    "\n",
    "import torch\n",
    "import warnings\n",
    "\n",
    "gpu_ok = False\n",
    "if torch.cuda.is_available():\n",
    "    device_cap = torch.cuda.get_device_capability()\n",
    "    if device_cap in ((7, 0), (8, 0), (9, 0)):\n",
    "        gpu_ok = True\n",
    "\n",
    "if not gpu_ok:\n",
    "    warnings.warn(\n",
    "        \"GPU is not NVIDIA V100, A100, or H100. Speedup numbers may be lower \"\n",
    "        \"than expected.\"\n",
    "    )"
   ]
  },
  {
   "cell_type": "markdown",
   "metadata": {},
   "source": [
    "Let\\'s demonstrate how using `torch.compile` can speed up a real model.\n",
    "We will compare standard eager mode and `torch.compile` by evaluating\n",
    "and training a `torchvision` model on random data.\n",
    "\n",
    "Before we start, we need to define some utility functions.\n"
   ]
  },
  {
   "cell_type": "code",
   "execution_count": null,
   "metadata": {
    "collapsed": false
   },
   "outputs": [],
   "source": [
    "# Returns the result of running `fn()` and the time it took for `fn()` to run,\n",
    "# in seconds. We use CUDA events and synchronization for the most accurate\n",
    "# measurements.\n",
    "def timed(fn):\n",
    "    start = torch.cuda.Event(enable_timing=True)\n",
    "    end = torch.cuda.Event(enable_timing=True)\n",
    "    start.record()\n",
    "    result = fn()\n",
    "    end.record()\n",
    "    torch.cuda.synchronize()\n",
    "    return result, start.elapsed_time(end) / 1000\n",
    "\n",
    "\n",
    "# Generates random input and targets data for the model, where `b` is\n",
    "# batch size.\n",
    "def generate_data(b):\n",
    "    return (\n",
    "        torch.randn(b, 3, 128, 128).to().cuda(),\n",
    "        torch.randint(1000, (b,)).cuda(),\n",
    "    )\n",
    "\n",
    "\n",
    "N_ITERS = 10\n",
    "\n",
    "from torchvision.models import densenet121\n",
    "\n",
    "\n",
    "def init_model():\n",
    "    return densenet121().cuda()"
   ]
  },
  {
   "cell_type": "markdown",
   "metadata": {},
   "source": [
    "First, let\\'s compare inference.\n",
    "\n",
    "Note that in the call to `torch.compile`, we have the additional `mode`\n",
    "argument, which we will discuss below.\n"
   ]
  },
  {
   "cell_type": "code",
   "execution_count": null,
   "metadata": {
    "collapsed": false
   },
   "outputs": [],
   "source": [
    "model = init_model()\n",
    "\n",
    "# Note that we generally recommend directly compiling a torch.nn.Module by calling\n",
    "# its .compile() method.\n",
    "model_opt = init_model()\n",
    "model_opt.compile(mode=\"reduce-overhead\")\n",
    "\n",
    "inp = generate_data(16)[0]\n",
    "with torch.no_grad():\n",
    "    print(\"eager:\", timed(lambda: model(inp))[1])\n",
    "    print(\"compile:\", timed(lambda: model_opt(inp))[1])"
   ]
  },
  {
   "cell_type": "markdown",
   "metadata": {},
   "source": [
    "Notice that `torch.compile` takes a lot longer to complete compared to\n",
    "eager. This is because `torch.compile` compiles the model into optimized\n",
    "kernels as it executes. In our example, the structure of the model\n",
    "doesn\\'t change, and so recompilation is not needed. So if we run our\n",
    "optimized model several more times, we should see a significant\n",
    "improvement compared to eager.\n"
   ]
  },
  {
   "cell_type": "code",
   "execution_count": null,
   "metadata": {
    "collapsed": false
   },
   "outputs": [],
   "source": [
    "eager_times = []\n",
    "for i in range(N_ITERS):\n",
    "    inp = generate_data(16)[0]\n",
    "    with torch.no_grad():\n",
    "        _, eager_time = timed(lambda: model(inp))\n",
    "    eager_times.append(eager_time)\n",
    "    print(f\"eager eval time {i}: {eager_time}\")\n",
    "\n",
    "print(\"~\" * 10)\n",
    "\n",
    "compile_times = []\n",
    "for i in range(N_ITERS):\n",
    "    inp = generate_data(16)[0]\n",
    "    with torch.no_grad():\n",
    "        _, compile_time = timed(lambda: model_opt(inp))\n",
    "    compile_times.append(compile_time)\n",
    "    print(f\"compile eval time {i}: {compile_time}\")\n",
    "print(\"~\" * 10)\n",
    "\n",
    "import numpy as np\n",
    "\n",
    "eager_med = np.median(eager_times)\n",
    "compile_med = np.median(compile_times)\n",
    "speedup = eager_med / compile_med\n",
    "assert speedup > 1\n",
    "print(\n",
    "    f\"(eval) eager median: {eager_med}, compile median: {compile_med}, speedup: {speedup}x\"\n",
    ")\n",
    "print(\"~\" * 10)"
   ]
  },
  {
   "cell_type": "markdown",
   "metadata": {},
   "source": [
    "And indeed, we can see that running our model with `torch.compile`\n",
    "results in a significant speedup. Speedup mainly comes from reducing\n",
    "Python overhead and GPU read/writes, and so the observed speedup may\n",
    "vary on factors such as model architecture and batch size. For example,\n",
    "if a model\\'s architecture is simple and the amount of data is large,\n",
    "then the bottleneck would be GPU compute and the observed speedup may be\n",
    "less significant.\n",
    "\n",
    "You may also see different speedup results depending on the chosen\n",
    "`mode` argument. The `\"reduce-overhead\"` mode uses CUDA graphs to\n",
    "further reduce the overhead of Python. For your own models, you may need\n",
    "to experiment with different modes to maximize speedup. You can read\n",
    "more about modes\n",
    "[here](https://pytorch.org/get-started/pytorch-2.0/#user-experience).\n",
    "\n",
    "You may might also notice that the second time we run our model with\n",
    "`torch.compile` is significantly slower than the other runs, although it\n",
    "is much faster than the first run. This is because the\n",
    "`\"reduce-overhead\"` mode runs a few warm-up iterations for CUDA graphs.\n",
    "\n",
    "Now, let\\'s consider comparing training.\n"
   ]
  },
  {
   "cell_type": "code",
   "execution_count": null,
   "metadata": {
    "collapsed": false
   },
   "outputs": [],
   "source": [
    "model = init_model()\n",
    "opt = torch.optim.Adam(model.parameters())\n",
    "\n",
    "\n",
    "def train(mod, data):\n",
    "    opt.zero_grad(True)\n",
    "    pred = mod(data[0])\n",
    "    loss = torch.nn.CrossEntropyLoss()(pred, data[1])\n",
    "    loss.backward()\n",
    "    opt.step()\n",
    "\n",
    "\n",
    "eager_times = []\n",
    "for i in range(N_ITERS):\n",
    "    inp = generate_data(16)\n",
    "    _, eager_time = timed(lambda: train(model, inp))\n",
    "    eager_times.append(eager_time)\n",
    "    print(f\"eager train time {i}: {eager_time}\")\n",
    "print(\"~\" * 10)\n",
    "\n",
    "model = init_model()\n",
    "opt = torch.optim.Adam(model.parameters())\n",
    "\n",
    "# Note that because we are compiling a regular Python function, we do not\n",
    "# call any .compile() method.\n",
    "train_opt = torch.compile(train, mode=\"reduce-overhead\")\n",
    "\n",
    "compile_times = []\n",
    "for i in range(N_ITERS):\n",
    "    inp = generate_data(16)\n",
    "    _, compile_time = timed(lambda: train_opt(model, inp))\n",
    "    compile_times.append(compile_time)\n",
    "    print(f\"compile train time {i}: {compile_time}\")\n",
    "print(\"~\" * 10)\n",
    "\n",
    "eager_med = np.median(eager_times)\n",
    "compile_med = np.median(compile_times)\n",
    "speedup = eager_med / compile_med\n",
    "assert speedup > 1\n",
    "print(\n",
    "    f\"(train) eager median: {eager_med}, compile median: {compile_med}, speedup: {speedup}x\"\n",
    ")\n",
    "print(\"~\" * 10)"
   ]
  },
  {
   "cell_type": "markdown",
   "metadata": {},
   "source": [
    "Again, we can see that `torch.compile` takes longer in the first\n",
    "iteration, as it must compile the model, but in subsequent iterations,\n",
    "we see significant speedups compared to eager.\n",
    "\n",
    "We remark that the speedup numbers presented in this tutorial are for\n",
    "demonstration purposes only. Official speedup values can be seen at the\n",
    "[TorchInductor performance\n",
    "dashboard](https://hud.pytorch.org/benchmark/compilers).\n"
   ]
  },
  {
   "cell_type": "markdown",
   "metadata": {},
   "source": [
    "Conclusion\n",
    "==========\n",
    "\n",
    "In this tutorial, we applied `torch.compile` to training and inference\n",
    "on a real model, demonstrating speedups.\n",
    "\n",
    "Importantly, we note that the first few iterations of a compiled model\n",
    "are slower than eager mode due to compilation overhead, but subsequent\n",
    "iterations are expected to have speedups.\n",
    "\n",
    "For a gentle introduction to `torch.compile`, please check out [the\n",
    "introduction to torch.compile\n",
    "tutorial](https://pytorch.org/tutorials/intermediate/torch_compile_tutorial.html).\n",
    "\n",
    "To troubleshoot issues and to gain a deeper understanding of how to\n",
    "apply `torch.compile` to your code, check out [the torch.compile\n",
    "programming\n",
    "model](https://docs.pytorch.org/docs/main/compile/programming_model.html).\n",
    "\n",
    "We hope that you will give `torch.compile` a try!\n"
   ]
  }
 ],
 "metadata": {
  "kernelspec": {
   "display_name": "Python 3",
   "language": "python",
   "name": "python3"
  },
  "language_info": {
   "codemirror_mode": {
    "name": "ipython",
    "version": 3
   },
   "file_extension": ".py",
   "mimetype": "text/x-python",
   "name": "python",
   "nbconvert_exporter": "python",
   "pygments_lexer": "ipython3",
   "version": "3.10.12"
  }
 },
 "nbformat": 4,
 "nbformat_minor": 0
}
