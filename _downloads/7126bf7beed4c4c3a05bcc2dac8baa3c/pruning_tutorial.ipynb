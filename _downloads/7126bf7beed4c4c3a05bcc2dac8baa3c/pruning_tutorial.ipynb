{
 "cells": [
  {
   "cell_type": "code",
   "execution_count": null,
   "metadata": {
    "collapsed": false
   },
   "outputs": [],
   "source": [
    "# For tips on running notebooks in Google Colab, see\n",
    "# https://docs.pytorch.org/tutorials/beginner/colab\n",
    "%matplotlib inline"
   ]
  },
  {
   "cell_type": "markdown",
   "metadata": {},
   "source": [
    "Pruning Tutorial\n",
    "================\n",
    "\n",
    "**Author**: [Michela Paganini](https://github.com/mickypaganini)\n",
    "\n",
    "State-of-the-art deep learning techniques rely on over-parametrized\n",
    "models that are hard to deploy. On the contrary, biological neural\n",
    "networks are known to use efficient sparse connectivity. Identifying\n",
    "optimal techniques to compress models by reducing the number of\n",
    "parameters in them is important in order to reduce memory, battery, and\n",
    "hardware consumption without sacrificing accuracy. This in turn allows\n",
    "you to deploy lightweight models on device, and guarantee privacy with\n",
    "private on-device computation. On the research front, pruning is used to\n",
    "investigate the differences in learning dynamics between\n",
    "over-parametrized and under-parametrized networks, to study the role of\n",
    "lucky sparse subnetworks and initializations (\\\"[lottery\n",
    "tickets](https://arxiv.org/abs/1803.03635)\\\") as a destructive neural\n",
    "architecture search technique, and more.\n",
    "\n",
    "In this tutorial, you will learn how to use `torch.nn.utils.prune` to\n",
    "sparsify your neural networks, and how to extend it to implement your\n",
    "own custom pruning technique.\n",
    "\n",
    "Requirements\n",
    "------------\n",
    "\n",
    "`\"torch>=1.4.0a0+8e8a5e0\"`\n"
   ]
  },
  {
   "cell_type": "code",
   "execution_count": null,
   "metadata": {
    "collapsed": false
   },
   "outputs": [],
   "source": [
    "import torch\n",
    "from torch import nn\n",
    "import torch.nn.utils.prune as prune\n",
    "import torch.nn.functional as F"
   ]
  },
  {
   "cell_type": "markdown",
   "metadata": {},
   "source": [
    "Create a model\n",
    "==============\n",
    "\n",
    "In this tutorial, we use the\n",
    "[LeNet](http://yann.lecun.com/exdb/publis/pdf/lecun-98.pdf) architecture\n",
    "from LeCun et al., 1998.\n"
   ]
  },
  {
   "cell_type": "code",
   "execution_count": null,
   "metadata": {
    "collapsed": false
   },
   "outputs": [],
   "source": [
    "device = torch.device(\"cuda\" if torch.cuda.is_available() else \"cpu\")\n",
    "\n",
    "class LeNet(nn.Module):\n",
    "    def __init__(self):\n",
    "        super(LeNet, self).__init__()\n",
    "        # 1 input image channel, 6 output channels, 5x5 square conv kernel\n",
    "        self.conv1 = nn.Conv2d(1, 6, 5)\n",
    "        self.conv2 = nn.Conv2d(6, 16, 5)\n",
    "        self.fc1 = nn.Linear(16 * 5 * 5, 120)  # 5x5 image dimension\n",
    "        self.fc2 = nn.Linear(120, 84)\n",
    "        self.fc3 = nn.Linear(84, 10)\n",
    "\n",
    "    def forward(self, x):\n",
    "        x = F.max_pool2d(F.relu(self.conv1(x)), (2, 2))\n",
    "        x = F.max_pool2d(F.relu(self.conv2(x)), 2)\n",
    "        x = x.view(-1, int(x.nelement() / x.shape[0]))\n",
    "        x = F.relu(self.fc1(x))\n",
    "        x = F.relu(self.fc2(x))\n",
    "        x = self.fc3(x)\n",
    "        return x\n",
    "\n",
    "model = LeNet().to(device=device)"
   ]
  },
  {
   "cell_type": "markdown",
   "metadata": {},
   "source": [
    "Inspect a Module\n",
    "================\n",
    "\n",
    "Let\\'s inspect the (unpruned) `conv1` layer in our LeNet model. It will\n",
    "contain two parameters `weight` and `bias`, and no buffers, for now.\n"
   ]
  },
  {
   "cell_type": "code",
   "execution_count": null,
   "metadata": {
    "collapsed": false
   },
   "outputs": [],
   "source": [
    "module = model.conv1\n",
    "print(list(module.named_parameters()))"
   ]
  },
  {
   "cell_type": "code",
   "execution_count": null,
   "metadata": {
    "collapsed": false
   },
   "outputs": [],
   "source": [
    "print(list(module.named_buffers()))"
   ]
  },
  {
   "cell_type": "markdown",
   "metadata": {},
   "source": [
    "Pruning a Module\n",
    "================\n",
    "\n",
    "To prune a module (in this example, the `conv1` layer of our LeNet\n",
    "architecture), first select a pruning technique among those available in\n",
    "`torch.nn.utils.prune` (or\n",
    "[implement](#extending-torch-nn-utils-pruning-with-custom-pruning-functions)\n",
    "your own by subclassing `BasePruningMethod`). Then, specify the module\n",
    "and the name of the parameter to prune within that module. Finally,\n",
    "using the adequate keyword arguments required by the selected pruning\n",
    "technique, specify the pruning parameters.\n",
    "\n",
    "In this example, we will prune at random 30% of the connections in the\n",
    "parameter named `weight` in the `conv1` layer. The module is passed as\n",
    "the first argument to the function; `name` identifies the parameter\n",
    "within that module using its string identifier; and `amount` indicates\n",
    "either the percentage of connections to prune (if it is a float between\n",
    "0. and 1.), or the absolute number of connections to prune (if it is a\n",
    "non-negative integer).\n"
   ]
  },
  {
   "cell_type": "code",
   "execution_count": null,
   "metadata": {
    "collapsed": false
   },
   "outputs": [],
   "source": [
    "prune.random_unstructured(module, name=\"weight\", amount=0.3)"
   ]
  },
  {
   "cell_type": "markdown",
   "metadata": {},
   "source": [
    "Pruning acts by removing `weight` from the parameters and replacing it\n",
    "with a new parameter called `weight_orig` (i.e. appending `\"_orig\"` to\n",
    "the initial parameter `name`). `weight_orig` stores the unpruned version\n",
    "of the tensor. The `bias` was not pruned, so it will remain intact.\n"
   ]
  },
  {
   "cell_type": "code",
   "execution_count": null,
   "metadata": {
    "collapsed": false
   },
   "outputs": [],
   "source": [
    "print(list(module.named_parameters()))"
   ]
  },
  {
   "cell_type": "markdown",
   "metadata": {},
   "source": [
    "The pruning mask generated by the pruning technique selected above is\n",
    "saved as a module buffer named `weight_mask` (i.e. appending `\"_mask\"`\n",
    "to the initial parameter `name`).\n"
   ]
  },
  {
   "cell_type": "code",
   "execution_count": null,
   "metadata": {
    "collapsed": false
   },
   "outputs": [],
   "source": [
    "print(list(module.named_buffers()))"
   ]
  },
  {
   "cell_type": "markdown",
   "metadata": {},
   "source": [
    "For the forward pass to work without modification, the `weight`\n",
    "attribute needs to exist. The pruning techniques implemented in\n",
    "`torch.nn.utils.prune` compute the pruned version of the weight (by\n",
    "combining the mask with the original parameter) and store them in the\n",
    "attribute `weight`. Note, this is no longer a parameter of the `module`,\n",
    "it is now simply an attribute.\n"
   ]
  },
  {
   "cell_type": "code",
   "execution_count": null,
   "metadata": {
    "collapsed": false
   },
   "outputs": [],
   "source": [
    "print(module.weight)"
   ]
  },
  {
   "cell_type": "markdown",
   "metadata": {},
   "source": [
    "Finally, pruning is applied prior to each forward pass using PyTorch\\'s\n",
    "`forward_pre_hooks`. Specifically, when the `module` is pruned, as we\n",
    "have done here, it will acquire a `forward_pre_hook` for each parameter\n",
    "associated with it that gets pruned. In this case, since we have so far\n",
    "only pruned the original parameter named `weight`, only one hook will be\n",
    "present.\n"
   ]
  },
  {
   "cell_type": "code",
   "execution_count": null,
   "metadata": {
    "collapsed": false
   },
   "outputs": [],
   "source": [
    "print(module._forward_pre_hooks)"
   ]
  },
  {
   "cell_type": "markdown",
   "metadata": {},
   "source": [
    "For completeness, we can now prune the `bias` too, to see how the\n",
    "parameters, buffers, hooks, and attributes of the `module` change. Just\n",
    "for the sake of trying out another pruning technique, here we prune the\n",
    "3 smallest entries in the bias by L1 norm, as implemented in the\n",
    "`l1_unstructured` pruning function.\n"
   ]
  },
  {
   "cell_type": "code",
   "execution_count": null,
   "metadata": {
    "collapsed": false
   },
   "outputs": [],
   "source": [
    "prune.l1_unstructured(module, name=\"bias\", amount=3)"
   ]
  },
  {
   "cell_type": "markdown",
   "metadata": {},
   "source": [
    "We now expect the named parameters to include both `weight_orig` (from\n",
    "before) and `bias_orig`. The buffers will include `weight_mask` and\n",
    "`bias_mask`. The pruned versions of the two tensors will exist as module\n",
    "attributes, and the module will now have two `forward_pre_hooks`.\n"
   ]
  },
  {
   "cell_type": "code",
   "execution_count": null,
   "metadata": {
    "collapsed": false
   },
   "outputs": [],
   "source": [
    "print(list(module.named_parameters()))"
   ]
  },
  {
   "cell_type": "code",
   "execution_count": null,
   "metadata": {
    "collapsed": false
   },
   "outputs": [],
   "source": [
    "print(list(module.named_buffers()))"
   ]
  },
  {
   "cell_type": "code",
   "execution_count": null,
   "metadata": {
    "collapsed": false
   },
   "outputs": [],
   "source": [
    "print(module.bias)"
   ]
  },
  {
   "cell_type": "code",
   "execution_count": null,
   "metadata": {
    "collapsed": false
   },
   "outputs": [],
   "source": [
    "print(module._forward_pre_hooks)"
   ]
  },
  {
   "cell_type": "markdown",
   "metadata": {},
   "source": [
    "Iterative Pruning\n",
    "=================\n",
    "\n",
    "The same parameter in a module can be pruned multiple times, with the\n",
    "effect of the various pruning calls being equal to the combination of\n",
    "the various masks applied in series. The combination of a new mask with\n",
    "the old mask is handled by the `PruningContainer`\\'s `compute_mask`\n",
    "method.\n",
    "\n",
    "Say, for example, that we now want to further prune `module.weight`,\n",
    "this time using structured pruning along the 0th axis of the tensor (the\n",
    "0th axis corresponds to the output channels of the convolutional layer\n",
    "and has dimensionality 6 for `conv1`), based on the channels\\' L2 norm.\n",
    "This can be achieved using the `ln_structured` function, with `n=2` and\n",
    "`dim=0`.\n"
   ]
  },
  {
   "cell_type": "code",
   "execution_count": null,
   "metadata": {
    "collapsed": false
   },
   "outputs": [],
   "source": [
    "prune.ln_structured(module, name=\"weight\", amount=0.5, n=2, dim=0)\n",
    "\n",
    "# As we can verify, this will zero out all the connections corresponding to \n",
    "# 50% (3 out of 6) of the channels, while preserving the action of the \n",
    "# previous mask.\n",
    "print(module.weight)"
   ]
  },
  {
   "cell_type": "markdown",
   "metadata": {},
   "source": [
    "The corresponding hook will now be of type\n",
    "`torch.nn.utils.prune.PruningContainer`, and will store the history of\n",
    "pruning applied to the `weight` parameter.\n"
   ]
  },
  {
   "cell_type": "code",
   "execution_count": null,
   "metadata": {
    "collapsed": false
   },
   "outputs": [],
   "source": [
    "for hook in module._forward_pre_hooks.values():\n",
    "    if hook._tensor_name == \"weight\":  # select out the correct hook\n",
    "        break\n",
    "\n",
    "print(list(hook))  # pruning history in the container"
   ]
  },
  {
   "cell_type": "markdown",
   "metadata": {},
   "source": [
    "Serializing a pruned model\n",
    "==========================\n",
    "\n",
    "All relevant tensors, including the mask buffers and the original\n",
    "parameters used to compute the pruned tensors are stored in the model\\'s\n",
    "`state_dict` and can therefore be easily serialized and saved, if\n",
    "needed.\n"
   ]
  },
  {
   "cell_type": "code",
   "execution_count": null,
   "metadata": {
    "collapsed": false
   },
   "outputs": [],
   "source": [
    "print(model.state_dict().keys())"
   ]
  },
  {
   "cell_type": "markdown",
   "metadata": {},
   "source": [
    "Remove pruning re-parametrization\n",
    "=================================\n",
    "\n",
    "To make the pruning permanent, remove the re-parametrization in terms of\n",
    "`weight_orig` and `weight_mask`, and remove the `forward_pre_hook`, we\n",
    "can use the `remove` functionality from `torch.nn.utils.prune`. Note\n",
    "that this doesn\\'t undo the pruning, as if it never happened. It simply\n",
    "makes it permanent, instead, by reassigning the parameter `weight` to\n",
    "the model parameters, in its pruned version.\n"
   ]
  },
  {
   "cell_type": "markdown",
   "metadata": {},
   "source": [
    "Prior to removing the re-parametrization:\n"
   ]
  },
  {
   "cell_type": "code",
   "execution_count": null,
   "metadata": {
    "collapsed": false
   },
   "outputs": [],
   "source": [
    "print(list(module.named_parameters()))"
   ]
  },
  {
   "cell_type": "code",
   "execution_count": null,
   "metadata": {
    "collapsed": false
   },
   "outputs": [],
   "source": [
    "print(list(module.named_buffers()))"
   ]
  },
  {
   "cell_type": "code",
   "execution_count": null,
   "metadata": {
    "collapsed": false
   },
   "outputs": [],
   "source": [
    "print(module.weight)"
   ]
  },
  {
   "cell_type": "markdown",
   "metadata": {},
   "source": [
    "After removing the re-parametrization:\n"
   ]
  },
  {
   "cell_type": "code",
   "execution_count": null,
   "metadata": {
    "collapsed": false
   },
   "outputs": [],
   "source": [
    "prune.remove(module, 'weight')\n",
    "print(list(module.named_parameters()))"
   ]
  },
  {
   "cell_type": "code",
   "execution_count": null,
   "metadata": {
    "collapsed": false
   },
   "outputs": [],
   "source": [
    "print(list(module.named_buffers()))"
   ]
  },
  {
   "cell_type": "markdown",
   "metadata": {},
   "source": [
    "Pruning multiple parameters in a model\n",
    "======================================\n",
    "\n",
    "By specifying the desired pruning technique and parameters, we can\n",
    "easily prune multiple tensors in a network, perhaps according to their\n",
    "type, as we will see in this example.\n"
   ]
  },
  {
   "cell_type": "code",
   "execution_count": null,
   "metadata": {
    "collapsed": false
   },
   "outputs": [],
   "source": [
    "new_model = LeNet()\n",
    "for name, module in new_model.named_modules():\n",
    "    # prune 20% of connections in all 2D-conv layers \n",
    "    if isinstance(module, torch.nn.Conv2d):\n",
    "        prune.l1_unstructured(module, name='weight', amount=0.2)\n",
    "    # prune 40% of connections in all linear layers \n",
    "    elif isinstance(module, torch.nn.Linear):\n",
    "        prune.l1_unstructured(module, name='weight', amount=0.4)\n",
    "\n",
    "print(dict(new_model.named_buffers()).keys())  # to verify that all masks exist"
   ]
  },
  {
   "cell_type": "markdown",
   "metadata": {},
   "source": [
    "Global pruning\n",
    "==============\n",
    "\n",
    "So far, we only looked at what is usually referred to as \\\"local\\\"\n",
    "pruning, i.e. the practice of pruning tensors in a model one by one, by\n",
    "comparing the statistics (weight magnitude, activation, gradient, etc.)\n",
    "of each entry exclusively to the other entries in that tensor. However,\n",
    "a common and perhaps more powerful technique is to prune the model all\n",
    "at once, by removing (for example) the lowest 20% of connections across\n",
    "the whole model, instead of removing the lowest 20% of connections in\n",
    "each layer. This is likely to result in different pruning percentages\n",
    "per layer. Let\\'s see how to do that using `global_unstructured` from\n",
    "`torch.nn.utils.prune`.\n"
   ]
  },
  {
   "cell_type": "code",
   "execution_count": null,
   "metadata": {
    "collapsed": false
   },
   "outputs": [],
   "source": [
    "model = LeNet()\n",
    "\n",
    "parameters_to_prune = (\n",
    "    (model.conv1, 'weight'),\n",
    "    (model.conv2, 'weight'),\n",
    "    (model.fc1, 'weight'),\n",
    "    (model.fc2, 'weight'),\n",
    "    (model.fc3, 'weight'),\n",
    ")\n",
    "\n",
    "prune.global_unstructured(\n",
    "    parameters_to_prune,\n",
    "    pruning_method=prune.L1Unstructured,\n",
    "    amount=0.2,\n",
    ")"
   ]
  },
  {
   "cell_type": "markdown",
   "metadata": {},
   "source": [
    "Now we can check the sparsity induced in every pruned parameter, which\n",
    "will not be equal to 20% in each layer. However, the global sparsity\n",
    "will be (approximately) 20%.\n"
   ]
  },
  {
   "cell_type": "code",
   "execution_count": null,
   "metadata": {
    "collapsed": false
   },
   "outputs": [],
   "source": [
    "print(\n",
    "    \"Sparsity in conv1.weight: {:.2f}%\".format(\n",
    "        100. * float(torch.sum(model.conv1.weight == 0))\n",
    "        / float(model.conv1.weight.nelement())\n",
    "    )\n",
    ")\n",
    "print(\n",
    "    \"Sparsity in conv2.weight: {:.2f}%\".format(\n",
    "        100. * float(torch.sum(model.conv2.weight == 0))\n",
    "        / float(model.conv2.weight.nelement())\n",
    "    )\n",
    ")\n",
    "print(\n",
    "    \"Sparsity in fc1.weight: {:.2f}%\".format(\n",
    "        100. * float(torch.sum(model.fc1.weight == 0))\n",
    "        / float(model.fc1.weight.nelement())\n",
    "    )\n",
    ")\n",
    "print(\n",
    "    \"Sparsity in fc2.weight: {:.2f}%\".format(\n",
    "        100. * float(torch.sum(model.fc2.weight == 0))\n",
    "        / float(model.fc2.weight.nelement())\n",
    "    )\n",
    ")\n",
    "print(\n",
    "    \"Sparsity in fc3.weight: {:.2f}%\".format(\n",
    "        100. * float(torch.sum(model.fc3.weight == 0))\n",
    "        / float(model.fc3.weight.nelement())\n",
    "    )\n",
    ")\n",
    "print(\n",
    "    \"Global sparsity: {:.2f}%\".format(\n",
    "        100. * float(\n",
    "            torch.sum(model.conv1.weight == 0)\n",
    "            + torch.sum(model.conv2.weight == 0)\n",
    "            + torch.sum(model.fc1.weight == 0)\n",
    "            + torch.sum(model.fc2.weight == 0)\n",
    "            + torch.sum(model.fc3.weight == 0)\n",
    "        )\n",
    "        / float(\n",
    "            model.conv1.weight.nelement()\n",
    "            + model.conv2.weight.nelement()\n",
    "            + model.fc1.weight.nelement()\n",
    "            + model.fc2.weight.nelement()\n",
    "            + model.fc3.weight.nelement()\n",
    "        )\n",
    "    )\n",
    ")"
   ]
  },
  {
   "cell_type": "markdown",
   "metadata": {},
   "source": [
    "Extending `torch.nn.utils.prune` with custom pruning functions\n",
    "==============================================================\n",
    "\n",
    "To implement your own pruning function, you can extend the\n",
    "`nn.utils.prune` module by subclassing the `BasePruningMethod` base\n",
    "class, the same way all other pruning methods do. The base class\n",
    "implements the following methods for you: `__call__`, `apply_mask`,\n",
    "`apply`, `prune`, and `remove`. Beyond some special cases, you\n",
    "shouldn\\'t have to reimplement these methods for your new pruning\n",
    "technique. You will, however, have to implement `__init__` (the\n",
    "constructor), and `compute_mask` (the instructions on how to compute the\n",
    "mask for the given tensor according to the logic of your pruning\n",
    "technique). In addition, you will have to specify which type of pruning\n",
    "this technique implements (supported options are `global`, `structured`,\n",
    "and `unstructured`). This is needed to determine how to combine masks in\n",
    "the case in which pruning is applied iteratively. In other words, when\n",
    "pruning a prepruned parameter, the current pruning technique is expected\n",
    "to act on the unpruned portion of the parameter. Specifying the\n",
    "`PRUNING_TYPE` will enable the `PruningContainer` (which handles the\n",
    "iterative application of pruning masks) to correctly identify the slice\n",
    "of the parameter to prune.\n",
    "\n",
    "Let\\'s assume, for example, that you want to implement a pruning\n",
    "technique that prunes every other entry in a tensor (or \\-- if the\n",
    "tensor has previously been pruned \\-- in the remaining unpruned portion\n",
    "of the tensor). This will be of `PRUNING_TYPE='unstructured'` because it\n",
    "acts on individual connections in a layer and not on entire\n",
    "units/channels (`'structured'`), or across different parameters\n",
    "(`'global'`).\n"
   ]
  },
  {
   "cell_type": "code",
   "execution_count": null,
   "metadata": {
    "collapsed": false
   },
   "outputs": [],
   "source": [
    "class FooBarPruningMethod(prune.BasePruningMethod):\n",
    "    \"\"\"Prune every other entry in a tensor\n",
    "    \"\"\"\n",
    "    PRUNING_TYPE = 'unstructured'\n",
    "\n",
    "    def compute_mask(self, t, default_mask):\n",
    "        mask = default_mask.clone()\n",
    "        mask.view(-1)[::2] = 0 \n",
    "        return mask"
   ]
  },
  {
   "cell_type": "markdown",
   "metadata": {},
   "source": [
    "Now, to apply this to a parameter in an `nn.Module`, you should also\n",
    "provide a simple function that instantiates the method and applies it.\n"
   ]
  },
  {
   "cell_type": "code",
   "execution_count": null,
   "metadata": {
    "collapsed": false
   },
   "outputs": [],
   "source": [
    "def foobar_unstructured(module, name):\n",
    "    \"\"\"Prunes tensor corresponding to parameter called `name` in `module`\n",
    "    by removing every other entry in the tensors.\n",
    "    Modifies module in place (and also return the modified module) \n",
    "    by:\n",
    "    1) adding a named buffer called `name+'_mask'` corresponding to the \n",
    "    binary mask applied to the parameter `name` by the pruning method.\n",
    "    The parameter `name` is replaced by its pruned version, while the \n",
    "    original (unpruned) parameter is stored in a new parameter named \n",
    "    `name+'_orig'`.\n",
    "\n",
    "    Args:\n",
    "        module (nn.Module): module containing the tensor to prune\n",
    "        name (string): parameter name within `module` on which pruning\n",
    "                will act.\n",
    "\n",
    "    Returns:\n",
    "        module (nn.Module): modified (i.e. pruned) version of the input\n",
    "            module\n",
    "    \n",
    "    Examples:\n",
    "        >>> m = nn.Linear(3, 4)\n",
    "        >>> foobar_unstructured(m, name='bias')\n",
    "    \"\"\"\n",
    "    FooBarPruningMethod.apply(module, name)\n",
    "    return module"
   ]
  },
  {
   "cell_type": "markdown",
   "metadata": {},
   "source": [
    "Let\\'s try it out!\n"
   ]
  },
  {
   "cell_type": "code",
   "execution_count": null,
   "metadata": {
    "collapsed": false
   },
   "outputs": [],
   "source": [
    "model = LeNet()\n",
    "foobar_unstructured(model.fc3, name='bias')\n",
    "\n",
    "print(model.fc3.bias_mask)"
   ]
  }
 ],
 "metadata": {
  "kernelspec": {
   "display_name": "Python 3",
   "language": "python",
   "name": "python3"
  },
  "language_info": {
   "codemirror_mode": {
    "name": "ipython",
    "version": 3
   },
   "file_extension": ".py",
   "mimetype": "text/x-python",
   "name": "python",
   "nbconvert_exporter": "python",
   "pygments_lexer": "ipython3",
   "version": "3.10.12"
  }
 },
 "nbformat": 4,
 "nbformat_minor": 0
}
