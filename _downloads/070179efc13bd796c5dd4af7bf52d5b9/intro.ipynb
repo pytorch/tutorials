{
 "cells": [
  {
   "cell_type": "code",
   "execution_count": null,
   "metadata": {
    "collapsed": false
   },
   "outputs": [],
   "source": [
    "# For tips on running notebooks in Google Colab, see\n",
    "# https://docs.pytorch.org/tutorials/beginner/colab\n",
    "%matplotlib inline"
   ]
  },
  {
   "cell_type": "markdown",
   "metadata": {},
   "source": [
    "**Learn the Basics** \\|\\| [Quickstart](quickstart_tutorial.html) \\|\\|\n",
    "[Tensors](tensorqs_tutorial.html) \\|\\| [Datasets &\n",
    "DataLoaders](data_tutorial.html) \\|\\|\n",
    "[Transforms](transforms_tutorial.html) \\|\\| [Build\n",
    "Model](buildmodel_tutorial.html) \\|\\|\n",
    "[Autograd](autogradqs_tutorial.html) \\|\\|\n",
    "[Optimization](optimization_tutorial.html) \\|\\| [Save & Load\n",
    "Model](saveloadrun_tutorial.html)\n",
    "\n",
    "Learn the Basics\n",
    "================\n",
    "\n",
    "Authors: [Suraj Subramanian](https://github.com/subramen), [Seth\n",
    "Juarez](https://github.com/sethjuarez/), [Cassie\n",
    "Breviu](https://github.com/cassiebreviu/), [Dmitry\n",
    "Soshnikov](https://soshnikov.com/), [Ari\n",
    "Bornstein](https://github.com/aribornstein/)\n",
    "\n",
    "Most machine learning workflows involve working with data, creating\n",
    "models, optimizing model parameters, and saving the trained models. This\n",
    "tutorial introduces you to a complete ML workflow implemented in\n",
    "PyTorch, with links to learn more about each of these concepts.\n",
    "\n",
    "We\\'ll use the FashionMNIST dataset to train a neural network that\n",
    "predicts if an input image belongs to one of the following classes:\n",
    "T-shirt/top, Trouser, Pullover, Dress, Coat, Sandal, Shirt, Sneaker,\n",
    "Bag, or Ankle boot.\n",
    "\n",
    "[This tutorial assumes a basic familiarity with Python and Deep Learning\n",
    "concepts.]{.title-ref}\n",
    "\n",
    "Running the Tutorial Code\n",
    "-------------------------\n",
    "\n",
    "You can run this tutorial in a couple of ways:\n",
    "\n",
    "-   **In the cloud**: This is the easiest way to get started! Each\n",
    "    section has a \\\"Run in Microsoft Learn\\\" and \\\"Run in Google Colab\\\"\n",
    "    link at the top, which opens an integrated notebook in Microsoft\n",
    "    Learn or Google Colab, respectively, with the code in a fully-hosted\n",
    "    environment.\n",
    "-   **Locally**: This option requires you to setup PyTorch and\n",
    "    TorchVision first on your local machine ([installation\n",
    "    instructions](https://pytorch.org/get-started/locally/)). Download\n",
    "    the notebook or copy the code into your favorite IDE.\n",
    "\n",
    "How to Use this Guide\n",
    "---------------------\n",
    "\n",
    "If you\\'re familiar with other deep learning frameworks, check out the\n",
    "[0. Quickstart](quickstart_tutorial.html) first to quickly familiarize\n",
    "yourself with PyTorch\\'s API.\n",
    "\n",
    "If you\\'re new to deep learning frameworks, head right into the first\n",
    "section of our step-by-step guide: [1. Tensors](tensorqs_tutorial.html).\n",
    "\n",
    "::: {.toctree maxdepth=\"2\" hidden=\"\"}\n",
    "quickstart\\_tutorial tensorqs\\_tutorial data\\_tutorial\n",
    "transforms\\_tutorial buildmodel\\_tutorial autogradqs\\_tutorial\n",
    "optimization\\_tutorial saveloadrun\\_tutorial\n",
    ":::\n"
   ]
  }
 ],
 "metadata": {
  "kernelspec": {
   "display_name": "Python 3",
   "language": "python",
   "name": "python3"
  },
  "language_info": {
   "codemirror_mode": {
    "name": "ipython",
    "version": 3
   },
   "file_extension": ".py",
   "mimetype": "text/x-python",
   "name": "python",
   "nbconvert_exporter": "python",
   "pygments_lexer": "ipython3",
   "version": "3.10.12"
  }
 },
 "nbformat": 4,
 "nbformat_minor": 0
}
