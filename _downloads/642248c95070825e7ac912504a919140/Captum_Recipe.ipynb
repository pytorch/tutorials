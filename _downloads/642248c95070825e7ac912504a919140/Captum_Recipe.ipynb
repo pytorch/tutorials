{
 "cells": [
  {
   "cell_type": "code",
   "execution_count": null,
   "metadata": {
    "collapsed": false
   },
   "outputs": [],
   "source": [
    "# For tips on running notebooks in Google Colab, see\n",
    "# https://docs.pytorch.org/tutorials/beginner/colab\n",
    "%matplotlib inline"
   ]
  },
  {
   "cell_type": "markdown",
   "metadata": {},
   "source": [
    "Model Interpretability using Captum\n",
    "===================================\n"
   ]
  },
  {
   "cell_type": "markdown",
   "metadata": {},
   "source": [
    "Captum helps you understand how the data features impact your model\n",
    "predictions or neuron activations, shedding light on how your model\n",
    "operates.\n",
    "\n",
    "Using Captum, you can apply a wide range of state-of-the-art feature\n",
    "attribution algorithms such as `Guided GradCam` and\n",
    "`Integrated Gradients` in a unified way.\n",
    "\n",
    "In this recipe you will learn how to use Captum to:\n",
    "\n",
    "-   Attribute the predictions of an image classifier to their\n",
    "    corresponding image features.\n",
    "-   Visualize the attribution results.\n"
   ]
  },
  {
   "cell_type": "markdown",
   "metadata": {},
   "source": [
    "Before you begin\n",
    "================\n"
   ]
  },
  {
   "cell_type": "markdown",
   "metadata": {},
   "source": [
    "Make sure Captum is installed in your active Python environment. Captum\n",
    "is available both on GitHub, as a `pip` package, or as a `conda`\n",
    "package. For detailed instructions, consult the installation guide at\n",
    "<https://captum.ai/>\n"
   ]
  },
  {
   "cell_type": "markdown",
   "metadata": {},
   "source": [
    "For a model, we use a built-in image classifier in PyTorch. Captum can\n",
    "reveal which parts of a sample image support certain predictions made by\n",
    "the model.\n"
   ]
  },
  {
   "cell_type": "code",
   "execution_count": null,
   "metadata": {
    "collapsed": false
   },
   "outputs": [],
   "source": [
    "import torchvision\n",
    "from torchvision import models, transforms\n",
    "from PIL import Image\n",
    "import requests\n",
    "from io import BytesIO\n",
    "\n",
    "model = torchvision.models.resnet18(weights=models.ResNet18_Weights.IMAGENET1K_V1).eval()\n",
    "\n",
    "response = requests.get(\"https://image.freepik.com/free-photo/two-beautiful-puppies-cat-dog_58409-6024.jpg\")\n",
    "img = Image.open(BytesIO(response.content))\n",
    "\n",
    "center_crop = transforms.Compose([\n",
    " transforms.Resize(256),\n",
    " transforms.CenterCrop(224),\n",
    "])\n",
    "\n",
    "normalize = transforms.Compose([\n",
    "    transforms.ToTensor(),               # converts the image to a tensor with values between 0 and 1\n",
    "    transforms.Normalize(                # normalize to follow 0-centered imagenet pixel RGB distribution\n",
    "     mean=[0.485, 0.456, 0.406],\n",
    "     std=[0.229, 0.224, 0.225]\n",
    "    )\n",
    "])\n",
    "input_img = normalize(center_crop(img)).unsqueeze(0)"
   ]
  },
  {
   "cell_type": "markdown",
   "metadata": {},
   "source": [
    "Computing Attribution\n",
    "=====================\n"
   ]
  },
  {
   "cell_type": "markdown",
   "metadata": {},
   "source": [
    "Among the top-3 predictions of the models are classes 208 and 283 which\n",
    "correspond to dog and cat.\n",
    "\n",
    "Let us attribute each of these predictions to the corresponding part of\n",
    "the input, using Captum's `Occlusion` algorithm.\n"
   ]
  },
  {
   "cell_type": "code",
   "execution_count": null,
   "metadata": {
    "collapsed": false
   },
   "outputs": [],
   "source": [
    "from captum.attr import Occlusion \n",
    "\n",
    "occlusion = Occlusion(model)\n",
    "\n",
    "strides = (3, 9, 9)               # smaller = more fine-grained attribution but slower\n",
    "target=208,                       # Labrador index in ImageNet \n",
    "sliding_window_shapes=(3,45, 45)  # choose size enough to change object appearance\n",
    "baselines = 0                     # values to occlude the image with. 0 corresponds to gray\n",
    "\n",
    "attribution_dog = occlusion.attribute(input_img,\n",
    "                                       strides = strides,\n",
    "                                       target=target,\n",
    "                                       sliding_window_shapes=sliding_window_shapes,\n",
    "                                       baselines=baselines)\n",
    "\n",
    "\n",
    "target=283,                       # Persian cat index in ImageNet \n",
    "attribution_cat = occlusion.attribute(input_img,\n",
    "                                       strides = strides,\n",
    "                                       target=target,\n",
    "                                       sliding_window_shapes=sliding_window_shapes,\n",
    "                                       baselines=0)"
   ]
  },
  {
   "cell_type": "markdown",
   "metadata": {},
   "source": [
    "Besides `Occlusion`, Captum features many algorithms such as\n",
    "`Integrated Gradients`, `Deconvolution`, `GuidedBackprop`,\n",
    "`Guided GradCam`, `DeepLift`, and `GradientShap`. All of these\n",
    "algorithms are subclasses of `Attribution` which expects your model as a\n",
    "callable `forward_func` upon initialization and has an `attribute(...)`\n",
    "method which returns the attribution result in a unified format.\n",
    "\n",
    "Let us visualize the computed attribution results in case of images.\n"
   ]
  },
  {
   "cell_type": "markdown",
   "metadata": {},
   "source": [
    "Visualizing the Results\n",
    "=======================\n"
   ]
  },
  {
   "cell_type": "markdown",
   "metadata": {},
   "source": [
    "Captum's `visualization` utility provides out-of-the-box methods to\n",
    "visualize attribution results both for pictorial and for textual inputs.\n"
   ]
  },
  {
   "cell_type": "code",
   "execution_count": null,
   "metadata": {
    "collapsed": false
   },
   "outputs": [],
   "source": [
    "import numpy as np\n",
    "from captum.attr import visualization as viz\n",
    "\n",
    "# Convert the compute attribution tensor into an image-like numpy array\n",
    "attribution_dog = np.transpose(attribution_dog.squeeze().cpu().detach().numpy(), (1,2,0))\n",
    "\n",
    "vis_types = [\"heat_map\", \"original_image\"]\n",
    "vis_signs = [\"all\", \"all\"] # \"positive\", \"negative\", or \"all\" to show both\n",
    "# positive attribution indicates that the presence of the area increases the prediction score\n",
    "# negative attribution indicates distractor areas whose absence increases the score\n",
    "\n",
    "_ = viz.visualize_image_attr_multiple(attribution_dog,\n",
    "                                      np.array(center_crop(img)),\n",
    "                                      vis_types,\n",
    "                                      vis_signs,\n",
    "                                      [\"attribution for dog\", \"image\"],\n",
    "                                      show_colorbar = True\n",
    "                                     )\n",
    "\n",
    "\n",
    "attribution_cat = np.transpose(attribution_cat.squeeze().cpu().detach().numpy(), (1,2,0))\n",
    "\n",
    "_ = viz.visualize_image_attr_multiple(attribution_cat,\n",
    "                                      np.array(center_crop(img)),\n",
    "                                      [\"heat_map\", \"original_image\"],  \n",
    "                                      [\"all\", \"all\"], # positive/negative attribution or all\n",
    "                                      [\"attribution for cat\", \"image\"],\n",
    "                                      show_colorbar = True\n",
    "                                     )"
   ]
  },
  {
   "cell_type": "markdown",
   "metadata": {},
   "source": [
    "If your data is textual, `visualization.visualize_text()` offers a\n",
    "dedicated view to explore attribution on top of the input text. Find out\n",
    "more at <http://captum.ai/tutorials/IMDB_TorchText_Interpret>\n"
   ]
  },
  {
   "cell_type": "markdown",
   "metadata": {},
   "source": [
    "Final Notes\n",
    "===========\n"
   ]
  },
  {
   "cell_type": "markdown",
   "metadata": {},
   "source": [
    "Captum can handle most model types in PyTorch across modalities\n",
    "including vision, text, and more. With Captum you can: \\* Attribute a\n",
    "specific output to the model input as illustrated above. \\* Attribute a\n",
    "specific output to a hidden-layer neuron (see Captum API reference). \\*\n",
    "Attribute a hidden-layer neuron response to the model input (see Captum\n",
    "API reference).\n",
    "\n",
    "For complete API of the supported methods and a list of tutorials,\n",
    "consult our website <http://captum.ai>\n",
    "\n",
    "Another useful post by Gilbert Tanner:\n",
    "<https://gilberttanner.com/blog/interpreting-pytorch-models-with-captum>\n"
   ]
  }
 ],
 "metadata": {
  "kernelspec": {
   "display_name": "Python 3",
   "language": "python",
   "name": "python3"
  },
  "language_info": {
   "codemirror_mode": {
    "name": "ipython",
    "version": 3
   },
   "file_extension": ".py",
   "mimetype": "text/x-python",
   "name": "python",
   "nbconvert_exporter": "python",
   "pygments_lexer": "ipython3",
   "version": "3.10.12"
  }
 },
 "nbformat": 4,
 "nbformat_minor": 0
}
